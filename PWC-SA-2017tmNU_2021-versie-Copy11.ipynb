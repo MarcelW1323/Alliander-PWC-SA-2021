{
 "cells": [
  {
   "cell_type": "markdown",
   "metadata": {},
   "source": [
    "# PWC - SA (Q2 2021)"
   ]
  },
  {
   "cell_type": "markdown",
   "metadata": {},
   "source": [
    "## Inhoudsopgave\n",
    "<div class=\"alert alert-block alert-info\" style=\"margin-top: 20px\">\n",
    "    <ul>\n",
    "        <li><a href=\"#EPM\">EPM en Resourcelevel 3 (vanaf 2021 niet meer geanalyseerd)</a></li>\n",
    "        <li><a href=\"#BW\">Ophalen BW-informatie</a></li>\n",
    "        <li><a href=\"#Controles\">Enkele controles op de opgehaalde informatie</a></li>\n",
    "        <li><a href=\"#Datakwaliteit\">Datakwaliteit</a></li>\n",
    "        <li><a href=\"#Exploratie\">Data-exploratie</a></li>\n",
    "        <li><a href=\"#Statistiek\">Enkele statistieken laten zien</a></li>\n",
    "        <li><a href=\"#Info1\">Informatietoevoeging voorbereiden</a></li>\n",
    "        <li><a href=\"#Info2\">Informatietoevoeging uitvoeren</a></li>\n",
    "        <li><a href=\"#TB\">SA-informatie voor Technisch Beheer</a></li>\n",
    "        <li><a href=\"#Indexeren\">Indexeren en eventueel lineair extrapoleren</a></li>\n",
    "        <li><a href=\"#Excel\">Export naar Excel (inclusief velddefinitie)</a></li><br>\n",
    "        <li><a href=\"#Ana1\">Analyse 1: Werkelijke kosten en aantal gereedgemeld verdeeld over de boekjaren</a></li>\n",
    "        <li><a href=\"#Ana2\">Analyse 2: Controle voor dashboards</a></li>\n",
    "    </ul>\n",
    "</div>\n",
    "\n",
    "<hr>"
   ]
  },
  {
   "cell_type": "markdown",
   "metadata": {},
   "source": [
    "<div class=\"alert alert-block alert-danger\">\n",
    "<b>Let op:</b><br> In onderstaande cel dien je op te geven hoeveel maanden in het huidig boekjaar meegenomen zijn om uiteindelijk de cijfers van het huidig boekjaar te kunnen extrapoleren. Vul dit aantal maanden in achter het is-teken van variabele <b><code>aantal_maanden_meegenomen_in_huidig_boekjaar</code></b>.<br><br>\n",
    "    \n",
    "Verder dien je aan te geven wat het huidige boekjaar is. Vul het huidige boekjaar in achter het is-teken van variabele <b><code>huidig_boekjaar</code></b>.<br><br>\n",
    "\n",
    "Ook kan je een extrapolatiemethode kiezen door het overeenkomstige getal in te vullen achter het is-teken van variabele <b><code>extrapolatiemethode</code></b>.<br><br>\n",
    "\n",
    "Daarnaast kan je ook aangeven of je productbladnummers wilt aggregeren. Voornamelijk in het begin van 2019 zijn er verschillende productbladnummers geweest ter verdere diversificatie, echter werden deze productbladnummers niet ondersteund in het SAP BW-systeem (meer dan 6 cijfers gaf problemen). Daardoor zijn de productbladnummers aangepast geweest binnen de 6 cijfers, echter vonden de medewerkers deze productbladnummers niet herkenbaar. Uiteindelijk is dit in de eerste maanden van 2019 teruggedraaid. Door aan te geven of de tijdelijk actieve productbladnummers wel of niet gecorrigeerd dienen te worden naar hun oorspronkelijke productbladnummers kan je meer informatie gebruiken over de jaargrenzen heen. Dit aangeven kan achter het is-teken van variabele <b><code>pb_correctie_2019</code></b>.<br><br>\n",
    "\n",
    "Als laatste kun je aangeven of de bronbestanden vanaf 2021 nog uit SAP BW komen of dat deze bronbestanden vanaf 2021 uit HANA komen. Dit is belangrijk voor de wijze waarop het ingelezen en gereedgemaakt dient te worden voor verdere verwerking en analyze. Vul in of de bronbestanden vanaf 2021 uit HANA komen of nog niet door True of False in te vullen achter het is-teken van variabele <b><code>HANA_bron</code></b>.<br><br></div>"
   ]
  },
  {
   "cell_type": "code",
   "execution_count": null,
   "metadata": {},
   "outputs": [],
   "source": [
    "# Verander eventueel het aantal achter het =-teken. \n",
    "# Verander niets aan de naam van de variabele (aantal_maanden_meegenomen_in_huidig_boekjaar)\n",
    "# 6 wil zeggen: cijfers t/m juni van het huidig boekjaar zijn meegenomen.\n",
    "# 8 wil zeggen: cijfers t/m augustus van het huidig boekjaar zijn meegenomen.\n",
    "\n",
    "aantal_maanden_meegenomen_in_huidig_boekjaar = 3\n",
    "\n",
    "\n",
    "# Geef ook het huidig boekjaar aan:\n",
    "\n",
    "huidig_boekjaar = 2021\n",
    "\n",
    "\n",
    "# Geef ook aan hoe je de extrapolatie van de cijfers van het huidige jaar wilt hebben d.m.v. het getal achter het =-teken\n",
    "# 0 geeft aan: Geen extrapolatie, alleen de werkelijke cijfers die geïmporteerd worden\n",
    "# 1 geeft aan: Extrapolatie op basis van lineariteit ((waarde / aantal_maanden_meegenomen) * 12 maanden)\n",
    "# 2 geeft aan: Extrapolatie op basis van verdeling van de verwachtingscijfers naar rato (over de productbladen)\n",
    "\n",
    "extrapolatiemethode = 2\n",
    "\n",
    "\n",
    "# Geef ook aan of je de productbladnummers wilt aggregeren (voornamelijk voor de productbladnummers van 2019)\n",
    "# 0 = geen correctie\n",
    "# 1 = wel correctie/aggregatie van productbladnummers\n",
    "pb_correctie_2019 = 1\n",
    "\n",
    "\n",
    "# Geef aan of de medewerkerinformatie geanonimiseerd dient te worden\n",
    "# False = Medewerkerinformatie wordt niet geanonimiseerd\n",
    "# True  = Medewerkerinformatie wordt wel geanonimiseerd\n",
    "anonimiseren = False\n",
    "\n",
    "# Geef aan of de bron vanaf 2021 de HANA-bron is:\n",
    "# False = Bron vanaf 2021 is geen HANA-bron, maar een BW-bron\n",
    "# True  = Bron vanaf 2021 is een HANA-bron\n",
    "\n",
    "HANA_bron = True"
   ]
  },
  {
   "cell_type": "code",
   "execution_count": null,
   "metadata": {},
   "outputs": [],
   "source": [
    "# Ter controle nogmaals de output van het aantal maanden meegenomen, extrapolatiemethode en productbladaggregatie.\n",
    "# Onderstaande regels NIET aanpassen!\n",
    "print(\"Aantal maanden meegenomen in huidig boekjaar:\", aantal_maanden_meegenomen_in_huidig_boekjaar)\n",
    "print(\"Het huidige boekjaar is                     :\", huidig_boekjaar)\n",
    "print(\"De gekozen extrapolatiemethode is           :\", extrapolatiemethode, \n",
    "      \"(\"+list([\"Geen\",\"Lineariteit\", \"Verwachtingscijfers\"])[extrapolatiemethode]+\")\")\n",
    "print(\"De gekozen productbladaggregatie is         :\", pb_correctie_2019, \n",
    "      \"(\"+list([\"Geen correctie\",\"Wel productbladaggregatie meenemen\"])[pb_correctie_2019]+\")\")\n",
    "print(\"Anonimisering van medewerkersinformatie     :\", list([\"Nee, niet geanonimiseerd\", \"Ja, wel geanonimiseerd\"])[anonimiseren])\n",
    "print(\"Vanaf het jaar 2021 is de bron een          :\", list([\"SAP BW-bron\",\"HANA-bron\"])[HANA_bron])"
   ]
  },
  {
   "cell_type": "code",
   "execution_count": null,
   "metadata": {},
   "outputs": [],
   "source": [
    "# Enkele benodigde modules importeren\n",
    "import numpy as np                      # O.a. nodig voor de NaN (Not-a-Number/waarde onbekend)-waarden\n",
    "import pandas as pd                     # Voor alle manipulaties in het dataframe, import van Excel, etc.\n",
    "pd.options.display.float_format = '{:,.2f}'.format  # In dataframes de getallen voorzien van een decimale punt en \n",
    "                                                    # duizendscheidingsteken is een komma. Zonder deze instelling\n",
    "                                                    # was er wel een decimale punt, echter geen duizendscheidingsteken\n",
    "                                                    # wat grote getallen moeilijker leesbaar maakt.\n",
    "                                                    # Verder zorgt de instelling voor afronding op 2 decimalen in de weergave\n",
    "pd.options.display.max_columns = None   # Alle kolommen weergeven ipv een goed scherm breed aan kolommen\n",
    "import seaborn as sns                   # Voor datavisualisaties\n",
    "import matplotlib.pyplot as plt         # Voor datavisualisatie-uitbreidingen\n",
    "print(\"Modules zijn succesvol geïmporteerd!\")"
   ]
  },
  {
   "cell_type": "markdown",
   "metadata": {},
   "source": [
    "<a id=\"EPM\"></a>\n",
    "## EPM en resourcelevel 3\n",
    "\n",
    "In de 2020-versie van deze productiviteit-SA-verwerking is gekeken naar het mogelijke gebruik van EPM en resourcelevel-3. De dekking hiervan is te laat om dit te gebruiken. Verderop in de code is een harde toewijzing van functie naar binnendienst/buitendienst gemaakt. Wil je meer weten over EPM en resourcelevel-3, kijk dan naar de code uit 2020."
   ]
  },
  {
   "cell_type": "markdown",
   "metadata": {},
   "source": [
    "<a id=\"BW\"></a>\n",
    "## Ophalen BW-informatie\n",
    "\n",
    "Vanwege grootte is dit per jaar mogelijk. Bijgaand de BW-bladwijzer voor 2021:\n",
    "https://vhandwnpwd01.hec.alliander.local:43084/irj/servlet/prt/portal/prtroot/pcd!3aportal_content!2fcom.sap.pct!2fplatform_add_ons!2fcom.sap.ip.bi!2fiViews!2fcom.sap.ip.bi.bex?BOOKMARK=050QF2GK9YJAUQC9MVJWQ017T (NB: Filter op boekjaar in de BW-query en geeft boekjaar bij variabelenscherm aan!)\n",
    "\n",
    "Bestanden worden achtereenvolgens als SA2017.xls, SA2018.xls, SA2019.xls, SA2020.xls en SA2021.xls weggeschreven direct vanuit de webkant van SAP BW. Daarom is de .xls-file ook geen echte xls-file, maar een HTML-file.\n",
    "\n",
    "### Inlezen data deel 1 (2017) met stap-voor-stap aanpassingen"
   ]
  },
  {
   "cell_type": "code",
   "execution_count": null,
   "metadata": {},
   "outputs": [],
   "source": [
    "# Lees bestand in en laat eerste 5 regels zien\n",
    "file = pd.read_html(\"SA2017.xls\")  #, decimal=\",\")\n",
    "df_sa = file[1]\n",
    "display(df_sa.head())\n",
    "print(\"De kolomkoppen dienen nog aangepast te worden. Deze staan in regel 1 en 2 (denk aan zero-indexing)\")"
   ]
  },
  {
   "cell_type": "code",
   "execution_count": null,
   "metadata": {},
   "outputs": [],
   "source": [
    "# Neem de omschrijving uit regel 2 (nul-indexed) over als kolomkop.\n",
    "headerlist = df_sa.iloc[1].to_list()\n",
    "# Voor kolom 22 en verder (nul-indexed), gebruik daar als kolomkop de omschrijving van regel 1\n",
    "headerlist[21:] = df_sa.iloc[0].to_list()[21:]\n",
    "# Maak kolomkoppen uniek door er \"omschrijving\" aan toe te voegen\n",
    "headerlist[10] = headerlist[10]+\"omschrijving\"\n",
    "headerlist[12] = headerlist[12]+\"omschrijving\"\n",
    "headerlist[14] = headerlist[14]+\"omschrijving\"\n",
    "headerlist[17] = headerlist[17]+\"omschrijving\"\n",
    "headerlist[20] = headerlist[19]+\"omschrijving\"\n",
    "# Plaats de kolomkoppen in het dataframe\n",
    "df_sa.columns = headerlist\n",
    "df_sa.head()"
   ]
  },
  {
   "cell_type": "code",
   "execution_count": null,
   "metadata": {},
   "outputs": [],
   "source": [
    "# Verwijder de regels met index 0 en 1\n",
    "df_sa.drop([df_sa.index[0] , df_sa.index[1]], inplace=True)\n",
    "df_sa.head()"
   ]
  },
  {
   "cell_type": "markdown",
   "metadata": {},
   "source": [
    "### Inlezen rest van de data (2018 en verder uit SAP BW) in één keer"
   ]
  },
  {
   "cell_type": "code",
   "execution_count": null,
   "metadata": {},
   "outputs": [],
   "source": [
    "# Lees nu de overige dataframes binnen\n",
    "print(\"Vooraf heeft Dataframe df_sa de volgende shape:\", df_sa.shape)\n",
    "\n",
    "filenamen = [\"SA2018.xls\",\"SA2019.xls\",\"SA2020.xls\"]\n",
    "\n",
    "# Vervolgbewerking afhankelijk van HANA-bron\n",
    "if not(HANA_bron): filenamen.append(\"SA2021.xls\")                       # HANA_bron is nog niet actief. 2021 en verder toevoegen\n",
    "\n",
    "for filenaam in filenamen:\n",
    "    file = pd.read_html(filenaam) #, decimal=\",\")\n",
    "    df_temp = file[1]                                                   # Benodigd dataframe is het tweede dataframe\n",
    "    df_temp.drop([df_temp.index[0] , df_temp.index[1]], inplace=True)   # Verwijder rij 1 en 2\n",
    "    df_temp.columns = headerlist                                        # Zet de kolomkoppen goed\n",
    "    print(filenaam, \"heeft shape:\", df_temp.shape)\n",
    "    df_sa = pd.concat([df_sa,df_temp])                                  # Plak de data onderaan erbij\n",
    "print(\"Achteraf heeft Dataframe df_sa de volgende shape:\", df_sa.shape)"
   ]
  },
  {
   "cell_type": "markdown",
   "metadata": {},
   "source": [
    "<a id=\"Controles\"></a>\n",
    "## Enkele controles op de opgehaalde informatie vanuit SAP BW"
   ]
  },
  {
   "cell_type": "markdown",
   "metadata": {},
   "source": [
    "**Controles op decimale punt**"
   ]
  },
  {
   "cell_type": "code",
   "execution_count": null,
   "metadata": {},
   "outputs": [],
   "source": [
    "# Korte check bij serviceorder 7400008573. Deze heeft een cumulatieve werkelijke kosten van 134,97\n",
    "display(df_sa[df_sa[\"Serviceorder\"]==\"7400008573\"][[\"Serviceorder\",\"Cumulatieve werkelijkekosten\"]])\n",
    "print(\"We missen de decimale punt\")"
   ]
  },
  {
   "cell_type": "code",
   "execution_count": null,
   "metadata": {},
   "outputs": [],
   "source": [
    "# Getalkolommen aanpassen naar decimalen\n",
    "kolommen = [\"Cumulatieve werkelijkekosten\", \n",
    "       \"Personeelskostencumulatief\", \n",
    "       \"Materiaalkostencumulatief\", \n",
    "       \"Dienstenkostencumulatief\",\n",
    "       \"Intercompanykostencumulatief\",\n",
    "       \"Werkelijke urenTotaal\"]\n",
    "df_sa[kolommen] = df_sa[kolommen].apply(lambda x: pd.to_numeric(x.astype(str)\n",
    "                                                   .str.replace('.','').str.replace(',','.'), errors='coerce')/100)\n",
    "display(df_sa[df_sa[\"Serviceorder\"]==\"7400008573\"][[\"Serviceorder\",\"Cumulatieve werkelijkekosten\"]])\n",
    "print(\"Decimale punt staat nu correct.\")"
   ]
  },
  {
   "cell_type": "code",
   "execution_count": null,
   "metadata": {},
   "outputs": [],
   "source": [
    "# Aantalkolom aanpassen van string (object) naar getal (float)\n",
    "print(\"Datatype vooraf:\",df_sa[\"SA: Aantalgereedgemeld(totaal)\"].dtype)\n",
    "df_sa[\"SA: Aantalgereedgemeld(totaal)\"] = df_sa[\"SA: Aantalgereedgemeld(totaal)\"].astype(float)\n",
    "print(\"Datatype achteraf:\",df_sa[\"SA: Aantalgereedgemeld(totaal)\"].dtype)"
   ]
  },
  {
   "cell_type": "code",
   "execution_count": null,
   "metadata": {},
   "outputs": [],
   "source": [
    "# Wat is het totaal van boekjaar 2017?\n",
    "print(\"Totaal van boekjaar 2017\",df_sa[df_sa[\"Boekjaar\"]==\"Kalenderjaar, 4 spec. perioden 2017\"][\"Cumulatieve werkelijkekosten\"].sum())\n",
    "print(\"Volgens SAP BW zou de uitkomst hiervan 11.734.419,43 moeten zijn.\")\n",
    "if df_sa[df_sa[\"Boekjaar\"]==\"Kalenderjaar, 4 spec. perioden 2017\"][\"Cumulatieve werkelijkekosten\"].sum() == 11734419.43:\n",
    "    print(\"Beide getallen zijn gelijk aan elkaar, dus de data klopt!\")\n",
    "else:\n",
    "    # De onderstaande regel wordt alleen afgedrukt indien de waarde van 2017 NIET overeenkomt met het vaste getal 11.734.419,43\n",
    "    print(\"WE HEBBEN EEN PROBLEEM !!!   DE DATA KLOPT NIET !!!\")\n",
    "    raise Exception('We hebben een probleem. De data klopt niet!')"
   ]
  },
  {
   "cell_type": "markdown",
   "metadata": {},
   "source": [
    "**Aanpassen boekjaar**"
   ]
  },
  {
   "cell_type": "code",
   "execution_count": null,
   "metadata": {},
   "outputs": [],
   "source": [
    "# Pas het boekjaar aan naar de laatste 4 karakters waarin het jaar staat\n",
    "display(df_sa[\"Boekjaar\"].head(3).to_frame())\n",
    "print(\"Boekjaar aanpassen naar alleen het jaar\")\n",
    "df_sa[\"Boekjaar\"] = df_sa[\"Boekjaar\"].str[-4:]\n",
    "display(df_sa[[\"Boekjaar\"]].head(3))"
   ]
  },
  {
   "cell_type": "markdown",
   "metadata": {},
   "source": [
    "<a id=\"HANA\"></a>\n",
    "## Ophalen HANA-informatie"
   ]
  },
  {
   "cell_type": "markdown",
   "metadata": {},
   "source": [
    "### Inlezen data vanaf 2021 vanuit HANA-bron (nieuw formaat)"
   ]
  },
  {
   "cell_type": "code",
   "execution_count": null,
   "metadata": {},
   "outputs": [],
   "source": [
    "# Vervolgbewerking afhankelijk van HANA-bron\n",
    "if HANA_bron:\n",
    "    # HANA-bron is actief\n",
    "    str_xls_tabbladnaam_productblad = \"SA-universe\"\n",
    "    str_xls_tabbladnaam_csorder     = \"CS-order populatie\"\n",
    "\n",
    "    # Gebruikte filenamen voor HANA-bestanden (lijst dient jaarlijks uitgebreid te worden)\n",
    "    filenamen = [\"SA2021new.xlsx\"]\n",
    "    \n",
    "    for filenaam in filenamen:\n",
    "        # Lees Excelsheet in\n",
    "        print(\"Bezig met bestandsnaam:\", filenaam)\n",
    "        xlsx = pd.ExcelFile(filenaam)\n",
    "\n",
    "        # Haal Exceltabblad mbt Productbladnummer op en plaats deze in een Pandas Dataframe (df_pblad)\n",
    "        df_pblad = xlsx.parse(sheet_name=str_xls_tabbladnaam_productblad,\n",
    "                             dtype = {\"Jaarplan Van\":object, \"Bedrijfsnummer\":object, \"Boekjaar\":object, \n",
    "                                      \"Opportunity nummer\":object, \"Productblad\":object})\n",
    "        print(\"Informatie uit SA-universe ingelezen:\", df_pblad.shape)\n",
    "\n",
    "        # Haal Exceltabblad mbt CS-orders op en plaats deze in een Pandas Dataframe (df_cs)\n",
    "        df_cs = xlsx.parse(sheet_name=str_xls_tabbladnaam_csorder,\n",
    "                          dtype = {\"Bedrijfsnummer\":object, \"Boekjaar\":object, \"Opportunity nummer\":object,\n",
    "                                   \"Serviceorder\":object, \"Medewerker\":object})\n",
    "        print(\"Informatie uit populatie ingelezen:\", df_cs.shape)\n",
    "        \n",
    "        # Verwijder voorloopnullen van de serviceorder/cs-order (zijn ook niet aanwezig in andere dataframes)\n",
    "        df_cs[\"Serviceorder\"] = df_cs[\"Serviceorder\"].str.lstrip(\"0\")\n",
    "        \n",
    "        # Serviceorders met productblad(omschrijvingen) en routinggroep losweken uit SA-universe\n",
    "        df_pbladnrs = df_pblad[[\"Serviceorder\", \"Productblad\", \"Productbladomschrijving\", \"Routinggroep\"]]\n",
    "        \n",
    "        # Productblad(omschrijvingen) en routinggroep aan populatie toevoegen op basis van serviceorder\n",
    "        df_cs = df_cs.merge(df_pbladnrs, on=\"Serviceorder\", how=\"inner\", validate=\"many_to_one\")\n",
    "        print(\"Informatie uit populatie na uitbreiding met productblad en productbladomschrijving:\", df_cs.shape)\n",
    "\n",
    "        # Jaar uit bestandnaam halen\n",
    "        jaar = filenaam[2:6]\n",
    "        print(\"Jaar uit bestandsnaam (\"+filenaam+\") (positie 3 t/m 6):\", jaar)\n",
    "        \n",
    "        # Maak apart dataframe van CS-orders\n",
    "        df_cskost = df_cs[df_cs[\"Cumulatieve werkelijkekosten\"] != 0.0 ][[\"Serviceorder\"]]\n",
    "\n",
    "        # Filter dataframe uit SA-universe (productblad) o.b.v. jaar en CS-order\n",
    "        df_pblad = df_pblad[((df_pblad[\"Jaarplan Van\"]==jaar) | (df_pblad[\"Serviceorder\"].isin(df_cskost[\"Serviceorder\"])))]\n",
    "        display(df_pblad.groupby(\"Jaarplan Van\")[\"Jaarplan Van\"].count().to_frame())\n",
    "        print(\"Informatie uit SA-universe na filtering o.b.v. jaar en CS-order:\", df_pblad.shape)\n",
    "\n",
    "        # Voeg de gefilterde SA-universe-informatie toe aan de populatie\n",
    "        df_cs = df_cs.append(df_pblad, ignore_index=True, sort=False)\n",
    "        print(\"Informatie uit populatie na toevoeging SA-universe-informatie:\", df_cs.shape)\n",
    "        \n",
    "        # Bekijk onnodige kolommen\n",
    "        print(\"Kolommen die momenteel nog niet nodig zijn:\\n\", list(set(df_cs.columns).difference(set(df_sa.columns))))\n",
    "        \n",
    "        df_cs.drop(list(set(df_cs.columns).difference(set(df_sa.columns))), axis=1, inplace=True)\n",
    "        print(\"Informatie uit populatie na verwijdering onnodige kolommen:\", df_cs.shape)\n",
    "\n",
    "        print(\"Groot dataframe (df_sa) voor samenvoeging met de populatie\", df_sa.shape)\n",
    "        df_sa = df_sa.append(df_cs, ignore_index=True, sort=False)\n",
    "        print(\"Groot dataframe (df_sa) na samenvoeging met de populatie\", df_sa.shape)\n",
    "    \n",
    "else:\n",
    "    print(\"Er wordt nog geen HANA-broninformatie ingelezen\")"
   ]
  },
  {
   "cell_type": "markdown",
   "metadata": {},
   "source": [
    "### Anonimisering"
   ]
  },
  {
   "cell_type": "code",
   "execution_count": null,
   "metadata": {},
   "outputs": [],
   "source": [
    "# Vervolgbewerking afhankelijk van de waarde van het veld anonimiseren. \n",
    "# Dit veld kan in het begin van deze Jupyter-notebook aangepast worden.\n",
    "if anonimiseren:\n",
    "    df_sa[\"Medewerkeromschrijving\"] = \"Vanwege privacy staat hier niet meer de echte naam vermeld\"\n",
    "    print(\"Anonimisering van medewerkerinformatie toegepast.\")\n",
    "else:\n",
    "    print(\"Anonimisering van medewerkerinformatie niet toegepast.\")"
   ]
  },
  {
   "cell_type": "markdown",
   "metadata": {},
   "source": [
    "<a id=\"Datakwaliteit\"></a>\n",
    "## Datakwaliteit"
   ]
  },
  {
   "cell_type": "code",
   "execution_count": null,
   "metadata": {},
   "outputs": [],
   "source": [
    "# Opdrachtgever TenneT is soms als Tennet geschreven\n",
    "display(df_sa.groupby(\"RB: Opdrachtgever\")[\"RB: Opdrachtgever\"].count().to_frame())\n",
    "# Vervang Tennet door TenneT\n",
    "print(\"Tennet vervangen door TenneT\")\n",
    "df_sa.loc[df_sa[\"RB: Opdrachtgever\"]==\"Tennet\",[\"RB: Opdrachtgever\"]] = \"TenneT\"\n",
    "# Controle of aanpassing geslaagd is\n",
    "print(\"Datakwaliteit na aanpassing.\")\n",
    "display(df_sa.groupby(\"RB: Opdrachtgever\")[\"RB: Opdrachtgever\"].count().to_frame())"
   ]
  },
  {
   "cell_type": "code",
   "execution_count": null,
   "metadata": {},
   "outputs": [],
   "source": [
    "# Verantwoordelijke werkplek is soms met voorvoegsel \"8400/\" en soms zonder. Programmatuur verwacht \"8400/\" verderop.\n",
    "print(df_sa[df_sa[\"Verantw. werkplek\"].notnull()][\"Verantw. werkplek\"].unique())\n",
    "print(\"Aantal verschillende verantwoordelijke werkplekken met '8400/':\", df_sa[df_sa[\"Verantw. werkplek\"].str.startswith(\"8400/\")][\"Verantw. werkplek\"].nunique())\n",
    "print(\"Aantal verschillende verantwoordelijke werkplekken zonder '8400/':\", df_sa[~df_sa[\"Verantw. werkplek\"].str.startswith(\"8400/\")][\"Verantw. werkplek\"].nunique())\n",
    "print(df_sa.shape)\n",
    "# Datakwaliteit aanpassen\n",
    "print(\"\\n8400/ toevoegen voor sommige regels\\n\")\n",
    "df_sa.loc[~df_sa[\"Verantw. werkplek\"].str.startswith(\"8400/\"),[\"Verantw. werkplek\"]] = \"8400/\" + df_sa[\"Verantw. werkplek\"]\n",
    "# Controle of aanpassing geslaagd is\n",
    "print(df_sa[df_sa[\"Verantw. werkplek\"].notnull()][\"Verantw. werkplek\"].unique())\n",
    "print(\"Aantal verschillende verantwoordelijke werkplekken met '8400/':\", df_sa[df_sa[\"Verantw. werkplek\"].str.startswith(\"8400/\")][\"Verantw. werkplek\"].nunique())\n",
    "print(\"Aantal verschillende verantwoordelijke werkplekken zonder '8400/':\", df_sa[~df_sa[\"Verantw. werkplek\"].str.startswith(\"8400/\")][\"Verantw. werkplek\"].nunique())\n",
    "print(df_sa.shape)"
   ]
  },
  {
   "cell_type": "code",
   "execution_count": null,
   "metadata": {},
   "outputs": [],
   "source": [
    "# Overzicht aantal unieke functies in het dataframe\n",
    "print(\"Er zijn\",df_sa[\"Functie\"].nunique(),\"unieke functies in totaal:\")\n",
    "display(df_sa[df_sa[\"Functie\"].notnull()][\"Functie\"].unique())\n",
    "print(\"Verwijderen van de A-, B-, C-, D- en E-verdeling geeft onderstaand resultaat:\")\n",
    "df_sa.loc[df_sa[\"Functie\"].str[-2:].isin([\" A\", \" B\", \" C\", \" D\", \" E\"]),[\"Functie\"]] = df_sa[\"Functie\"].str[:-2]\n",
    "print(\"Er zijn\",df_sa[\"Functie\"].nunique(),\"unieke functies in totaal:\")\n",
    "display(df_sa[df_sa[\"Functie\"].notnull()][\"Functie\"].unique())\n",
    "print(df_sa.shape)"
   ]
  },
  {
   "cell_type": "markdown",
   "metadata": {},
   "source": [
    "<a id=\"Exploratie\"></a>\n",
    "## Data-exploratie algemeen"
   ]
  },
  {
   "cell_type": "markdown",
   "metadata": {},
   "source": [
    "**Cumulatieve werkelijke kosten per boekjaar bekijken**"
   ]
  },
  {
   "cell_type": "code",
   "execution_count": null,
   "metadata": {},
   "outputs": [],
   "source": [
    "# Eenvoudige controle op de Cumulatieve werkelijke kosten per boekjaar\n",
    "display(df_sa.pivot_table(index=\"RB: Opdrachtgever\", columns=\"Boekjaar\", values=\"Cumulatieve werkelijkekosten\",\n",
    "                          aggfunc=\"sum\", margins=True))\n",
    "#df_sa.groupby([\"Boekjaar\",\"RB: Opdrachtgever\"])[\"Cumulatieve werkelijkekosten\"].sum()\\\n",
    "#    .plot(kind=\"bar\", title=\"Cumulatieve werkelijke kosten per boekjaar per opdrachtgever\", color=[\"blue\",\"red\"]);\n",
    "#plt.show()\n",
    "plt.figure(figsize=(15,6))\n",
    "sns.barplot(data=df_sa, x=\"Boekjaar\",y=\"Cumulatieve werkelijkekosten\", hue=\"RB: Opdrachtgever\", palette=[\"dimgrey\", \"darkgrey\"], estimator=sum, ci=None);\n",
    "plt.title(\"Cumulatieve werkelijke kosten per boekjaar per opdrachtgever\");"
   ]
  },
  {
   "cell_type": "markdown",
   "metadata": {},
   "source": [
    "**Controle op het voorkomen van niet-aanwezige waarden in de SAP BW-notatie en dit omzetten naar pandas-waarden**"
   ]
  },
  {
   "cell_type": "code",
   "execution_count": null,
   "metadata": {},
   "outputs": [],
   "source": [
    "# Hoe zit het met het voorkomen van hekjes (\"#\") en de tekst \"Niet toegewezen\", \n",
    "# beide door SAP BW gebruikt voor onbekende waarden\n",
    "print(\"Aantal voorkomens van het in SAP BW gebruikte alternatief voor onbekende of niet-aanwezige waarden:\")\n",
    "df_sa.isin(['#',\"Niet toegewezen\"]).sum(axis=0)"
   ]
  },
  {
   "cell_type": "code",
   "execution_count": null,
   "metadata": {},
   "outputs": [],
   "source": [
    "# Vervang het hekje (\"#\") en de tekst \"Niet toegewezen\" door de NaN-waarde (Not-a-Number) in twee stappen\n",
    "df_sa = df_sa.replace('#',np.NaN)\n",
    "df_sa = df_sa.replace('Niet toegewezen',np.NaN)"
   ]
  },
  {
   "cell_type": "code",
   "execution_count": null,
   "metadata": {},
   "outputs": [],
   "source": [
    "# Hoe zit het met de niet aanwezige waarden? (NA of NaN)\n",
    "print(\"Totaaloverzicht na aanpassing naar het NaN-formaat van alle ontbrekende of niet-aanwezige informatie:\")\n",
    "df_sa.isna().sum()"
   ]
  },
  {
   "cell_type": "markdown",
   "metadata": {},
   "source": [
    "**Aanpassen van algemene object-datatypes naar categorie en een datatype naar getal (float)**"
   ]
  },
  {
   "cell_type": "code",
   "execution_count": null,
   "metadata": {},
   "outputs": [],
   "source": [
    "# Enkele datatypes aanpassen naar categorie\n",
    "for kolom in ['RB: Soort werk', 'Bedrijfsnummer', 'Boekjaar', 'RB: Opdrachtgever', 'RB: Business unit']:\n",
    "    df_sa[kolom] = df_sa[kolom].astype('category')\n",
    "# Onderstaande aanpassing naar Float is niet meer nodig. Is al eerder in de programmatuur gedaan.\n",
    "#df_sa[\"SA: Aantalgereedgemeld(totaal)\"] = df_sa[\"SA: Aantalgereedgemeld(totaal)\"].astype('float64')"
   ]
  },
  {
   "cell_type": "code",
   "execution_count": null,
   "metadata": {},
   "outputs": [],
   "source": [
    "# Hoe zien de datatypes er nu uit?\n",
    "df_sa.info()"
   ]
  },
  {
   "cell_type": "markdown",
   "metadata": {},
   "source": [
    "<a id=\"Statistiek\"></a>\n",
    "## Enkele statistieken laten zien\n",
    "\n",
    "**Algemene statistieken**"
   ]
  },
  {
   "cell_type": "code",
   "execution_count": null,
   "metadata": {},
   "outputs": [],
   "source": [
    "# Laat eens wat statistieken zien van het DataFrame\n",
    "df_sa.describe(include=\"all\").T"
   ]
  },
  {
   "cell_type": "markdown",
   "metadata": {},
   "source": [
    "**Aantal unieke functies**"
   ]
  },
  {
   "cell_type": "code",
   "execution_count": null,
   "metadata": {},
   "outputs": [],
   "source": [
    "# Overzicht aantal unieke functies in het dataframe\n",
    "print(\"Er zijn\",df_sa[\"Functie\"].nunique(),\"unieke functies in totaal:\")\n",
    "display(df_sa[df_sa[\"Functie\"].notnull()][\"Functie\"].unique())\n",
    "print(\"Er zijn\",df_sa[\"Functie\"].isna().sum(),\"regels SA-informatie zonder een waarde in de kolom 'Functie'.\")\n",
    "print(\"Er zijn\",df_sa[df_sa[\"Cumulatieve werkelijkekosten\"] != 0][\"Functie\"].isna().sum(),\n",
    "      \"regels SA-informatie zonder een waarde in de kolom 'Functie' waarbij de cumulatieve werkelijke kosten ongelijk 0 is.\")\n",
    "print(\"Dit laatste is van belang om de cumulatieve werkelijke kosten verder te kunnen toewijzen.\")"
   ]
  },
  {
   "cell_type": "markdown",
   "metadata": {},
   "source": [
    "**Aantal unieke productbladnummers en meer inzicht in ontbrekende productbladnummers**"
   ]
  },
  {
   "cell_type": "code",
   "execution_count": null,
   "metadata": {},
   "outputs": [],
   "source": [
    "# Overzicht aantal unieke productbladnummers in het dataframe SA-informatie, geef eerste 10 weer\n",
    "print(\"Er zijn\",df_sa[df_sa[\"Productblad\"].notnull()][\"Productblad\"].nunique(),\"unieke productbladnummers in totaal, waaronder:\")\n",
    "print(list(df_sa[df_sa[\"Productblad\"].notnull()][\"Productblad\"].unique()[:10]))\n",
    "print(\"Er zijn\",df_sa[\"Productblad\"].isna().sum(),\"regels SA-informatie zonder een waarde in de kolom 'Productblad'\")"
   ]
  },
  {
   "cell_type": "code",
   "execution_count": null,
   "metadata": {},
   "outputs": [],
   "source": [
    "# Even wat meer detailinfo met betrekking tot ontbrekende productbladinformatie, 5 grootste posten weergeven\n",
    "print(\"Top-5 van grootste cumulatieve werkelijke kosten zonder productblad\")\n",
    "display(df_sa[df_sa[\"Productblad\"].isna()].nlargest(5,\"Cumulatieve werkelijkekosten\"))\n",
    "print(\"Dit zijn in totaal\",df_sa[df_sa[\"Productblad\"].isna()].shape[0] , \n",
    "      \"regels met een cumulatieve werkelijke kosten van {0:.2f} EUR zonder productblad\".format(\n",
    "          df_sa[df_sa[\"Productblad\"].isna()][\"Cumulatieve werkelijkekosten\"].sum()))\n",
    "print(\"Deze apart vermelden in de analyse\")\n",
    "\n",
    "# Eenvoudige controle op de Cumulatieve werkelijke kosten\n",
    "#df_sa[df_sa[\"Productblad\"].isna()].groupby([\"Boekjaar\",\"RB: Opdrachtgever\"])[\"Cumulatieve werkelijkekosten\"].sum()\\\n",
    "#    .plot(kind=\"bar\", title=\"Cumulatieve werkelijke kosten zonder productblad per boekjaar per opdrachtgever\", color=[\"blue\",\"red\"])\n",
    "#plt.show()\n",
    "plt.figure(figsize=(15,6))\n",
    "df_plot = df_sa[df_sa[\"Productblad\"].isna()].groupby([\"Boekjaar\",\"RB: Opdrachtgever\"])[\"Cumulatieve werkelijkekosten\"].sum().reset_index()\n",
    "sns.barplot(data=df_plot, x=\"Boekjaar\",y=\"Cumulatieve werkelijkekosten\", hue=\"RB: Opdrachtgever\", palette=[\"dimgrey\", \"darkgrey\"], estimator=sum, ci=None);\n",
    "plt.title(\"Cumulatieve werkelijke kosten zonder productblad per boekjaar per opdrachtgever\");\n",
    "plt.show()\n",
    "\n",
    "# Overzicht\n",
    "print(\"\\nTotaaloverzicht cumulatieve werkelijke kosten zonder productblad per boekjaar per opdrachtgever :\")\n",
    "display(df_sa[df_sa[\"Productblad\"].isna()].pivot_table(index=\"RB: Opdrachtgever\", columns=\"Boekjaar\", values=\"Cumulatieve werkelijkekosten\", aggfunc=\"sum\", margins=True))"
   ]
  },
  {
   "cell_type": "code",
   "execution_count": null,
   "metadata": {},
   "outputs": [],
   "source": [
    "# Liander heeft wel een flinke piek in 2017 aan werkelijke kosten zonder productbladinformatie\n",
    "# Zeg iets over het aantal regels\n",
    "print(\"Van de\",df_sa[\"Productblad\"].isna().sum(),\"regels SA-informatie zonder een waarde in de kolom 'Productblad' zijn er\",\n",
    "      df_sa[(df_sa[\"Productblad\"].isna()) & (df_sa[\"RB: Opdrachtgever\"]== \"Liander\") & \n",
    "            (df_sa[\"Boekjaar\"]== \"2017\")][\"Cumulatieve werkelijkekosten\"].count(),\n",
    "            \"regels voor Liander in 2017. (={0:.2f}%)\".format(df_sa[(df_sa[\"Productblad\"].isna()) & \n",
    "            (df_sa[\"RB: Opdrachtgever\"]== \"Liander\") & (df_sa[\"Boekjaar\"]== \"2017\")][\"Cumulatieve werkelijkekosten\"].count()/df_sa[\"Productblad\"].isna().sum()*100))\n",
    "\n",
    "# Zeg iets over de cumulatieve werkelijke kosten\n",
    "print(\"Van de cumulatieve werkelijke kosten van {0:.2f} EUR\".format(\n",
    "          df_sa[df_sa[\"Productblad\"].isna()][\"Cumulatieve werkelijkekosten\"].sum()), \n",
    "      \"van SA-informatie zonder waarde in kolom 'Productblad' is er {0:.2f} EUR toe te kennen aan Liander in het boekjaar 2017\".format(\n",
    "          df_sa[(df_sa[\"Productblad\"].isna()) & (df_sa[\"RB: Opdrachtgever\"]== \"Liander\") & \n",
    "            (df_sa[\"Boekjaar\"]== \"2017\")][\"Cumulatieve werkelijkekosten\"].sum()),\"(={0:.2f}%)\".format(df_sa[(df_sa[\"Productblad\"].isna()) & (df_sa[\"RB: Opdrachtgever\"]== \"Liander\") & \n",
    "            (df_sa[\"Boekjaar\"]== \"2017\")][\"Cumulatieve werkelijkekosten\"].sum()/df_sa[df_sa[\"Productblad\"].isna()][\"Cumulatieve werkelijkekosten\"].sum()*100))\n",
    "\n",
    "# Laat de tabel zien, aflopend gesorteerd\n",
    "print(\"\\nCumulatieve werkelijke kosten zonder productblad in 2017 voor Liander, aflopend gesorteerd:\")\n",
    "display(df_sa[(df_sa[\"Productblad\"].isna()) & (df_sa[\"RB: Opdrachtgever\"]== \"Liander\") & (df_sa[\"Boekjaar\"]== \"2017\")][['Boekjaar', 'RB: Opdrachtgever',\n",
    "       'Opportunity nummer', 'Omschrijving Opportunity', 'RB: Business unit',\n",
    "       'Contract+ positie', 'Omschrijving Contractpos', 'Productblad',\n",
    "       'Productbladomschrijving', 'Serviceorder', 'Serviceorderomschrijving',\n",
    "       'Functieplaats', 'Functieplaatsomschrijving', 'Routinggroep',\n",
    "       'Medewerker', 'Medewerkeromschrijving', 'Functie', 'Verantw. werkplek',\n",
    "       'Verantw. werkplekomschrijving', 'Cumulatieve werkelijkekosten',\n",
    "       'Personeelskostencumulatief', 'Materiaalkostencumulatief',\n",
    "       'Dienstenkostencumulatief', 'Intercompanykostencumulatief',\n",
    "       'Werkelijke urenTotaal']].sort_values(by=['Cumulatieve werkelijkekosten'], ascending=False))"
   ]
  },
  {
   "cell_type": "code",
   "execution_count": null,
   "metadata": {
    "scrolled": false
   },
   "outputs": [],
   "source": [
    "# Liander heeft wel een flinke piek in 2017 aan werkelijke kosten zonder productbladinformatie\n",
    "# Tijdelijke tabel maken voor leesbaarheid code\n",
    "df_sa_geen_productblad = df_sa[(df_sa[\"Productblad\"].isna()) & (df_sa[\"RB: Opdrachtgever\"]== \"Liander\") & (df_sa[\"Boekjaar\"]== \"2017\")].copy()\n",
    "\n",
    "# Geef het totaal weer en kondig de visuals aan\n",
    "print(\"Liander heeft in 2017 de volgende cumulatieve werkelijke kosten zonder productbladnummer: {0:.2f} EUR\".format(df_sa_geen_productblad[\"Cumulatieve werkelijkekosten\"].sum()))\n",
    "print(\"Onderstaande 7 visuals geven meer inzicht hoe deze cumulatieve werkelijke kosten zijn opgebouwd.\")\n",
    "print(\"Een niet-aanwezige waarde (nan) wordt in blauw weergegeven.\")\n",
    "\n",
    "fig, ax = plt.subplots(nrows=7, ncols=1, sharex=True, figsize=(7,50))\n",
    "\n",
    "\n",
    "# Maak voor elk van de genoemde 7 categorieën een visual\n",
    "for x,i in enumerate(['RB: Business unit','Omschrijving Contractpos', 'Serviceorderomschrijving',\n",
    "       'Functieplaats', 'Routinggroep', 'Functie', 'Verantw. werkplekomschrijving']):\n",
    "    df_sa_geen_productblad[i] = df_sa_geen_productblad[i].astype(str)    # Omzetten naar \"str\" neemt NaN-waarden mee\n",
    "    palette_dict = dict()\n",
    "    for t in df_sa_geen_productblad[i].unique():\n",
    "        if t==\"nan\":\n",
    "            palette_dict[t] = 'blue'\n",
    "        else:\n",
    "            palette_dict[t] = 'dimgrey'\n",
    "    #df_sa_geen_productblad.groupby(i)['Cumulatieve werkelijkekosten'].sum().to_frame().plot(kind=\"bar\")\n",
    "    #sns.barplot(data=df_sa_geen_productblad, x='Cumulatieve werkelijkekosten', y=i, estimator=sum, ci=None, hue=i, palette=palette_dict)\n",
    "    sns.barplot(data=df_sa_geen_productblad, x='Cumulatieve werkelijkekosten', y=i, estimator=sum, ci=None, color=i, palette=palette_dict, ax=ax[x])\n",
    "    #plt.show()\n",
    "\n",
    "# Maak voor elk van de genoemde 7 categorieën een visual\n",
    "# for i in ['RB: Business unit','Omschrijving Contractpos', 'Serviceorderomschrijving',\n",
    "#        'Functieplaats', 'Routinggroep', 'Functie', 'Verantw. werkplekomschrijving']:\n",
    "#     df_sa_geen_productblad[i] = df_sa_geen_productblad[i].astype(str)    # Omzetten naar \"str\" neemt NaN-waarden mee\n",
    "#     df_sa_geen_productblad.groupby(i)['Cumulatieve werkelijkekosten'].sum().to_frame().plot(kind=\"bar\")"
   ]
  },
  {
   "cell_type": "markdown",
   "metadata": {},
   "source": [
    "**Inzicht niet-aanwezige routinggroepen**"
   ]
  },
  {
   "cell_type": "code",
   "execution_count": null,
   "metadata": {},
   "outputs": [],
   "source": [
    "print(\"Cumulatieve werkelijke kosten voor niet aanwezige routinggroepen, totaal:\", \n",
    "      df_sa[df_sa[\"Routinggroep\"].isna()][\"Cumulatieve werkelijkekosten\"].sum())\n",
    "#df_sa[df_sa[\"Routinggroep\"].isna()].groupby(\"Boekjaar\")[\"Cumulatieve werkelijkekosten\"].sum().to_frame()\n",
    "display(df_sa[df_sa[\"Routinggroep\"].isna()].pivot_table(index=\"Boekjaar\", values=\"Cumulatieve werkelijkekosten\", aggfunc=[\"sum\",\"count\"], margins=True))"
   ]
  },
  {
   "cell_type": "code",
   "execution_count": null,
   "metadata": {
    "scrolled": false
   },
   "outputs": [],
   "source": [
    "# Een flinke piek in 2017 aan werkelijke kosten zonder routinggroepinformatie\n",
    "# Tijdelijke tabel maken voor leesbaarheid code\n",
    "df_sa_geen_routinggroep = df_sa[(df_sa[\"Routinggroep\"].isna()) & (df_sa[\"Boekjaar\"]== \"2017\")].copy()\n",
    "\n",
    "# Zeg iets over het aantal regels\n",
    "print(\"Onderstaande 7 visuals geven meer inzicht hoe deze cumulatieve werkelijke kosten zijn opgebouwd in 2017 bij ontbreken routinggroep.\")\n",
    "print(\"Een niet-aanwezige waarde (nan) wordt in blauw weergegeven.\")\n",
    "\n",
    "fig, ax = plt.subplots(nrows=7, ncols=1, sharex=True, figsize=(7,50))\n",
    "\n",
    "\n",
    "# Maak voor elk van de genoemde 7 categorieën een visual\n",
    "for x,i in enumerate(['RB: Business unit','Omschrijving Contractpos', 'Serviceorderomschrijving',\n",
    "       'Functieplaats', 'Routinggroep', 'Functie', 'Verantw. werkplekomschrijving']):\n",
    "    df_sa_geen_routinggroep[i] = df_sa_geen_routinggroep[i].astype(str)    # Omzetten naar \"str\" neemt NaN-waarden mee\n",
    "    palette_dict = dict()\n",
    "    for t in df_sa_geen_routinggroep[i].unique():\n",
    "        if t==\"nan\":\n",
    "            palette_dict[t] = 'blue'\n",
    "        else:\n",
    "            palette_dict[t] = 'dimgrey'\n",
    "    #df_sa_geen_productblad.groupby(i)['Cumulatieve werkelijkekosten'].sum().to_frame().plot(kind=\"bar\")\n",
    "    #sns.barplot(data=df_sa_geen_productblad, x='Cumulatieve werkelijkekosten', y=i, estimator=sum, ci=None, hue=i, palette=palette_dict)\n",
    "    sns.barplot(data=df_sa_geen_routinggroep, x='Cumulatieve werkelijkekosten', y=i, estimator=sum, ci=None, color=i, palette=palette_dict, ax=ax[x])\n",
    "    #plt.show()\n",
    "\n",
    "# Maak voor elk van de genoemde 7 categorieën een visual\n",
    "# for i in ['RB: Business unit','Omschrijving Contractpos', 'Serviceorderomschrijving',\n",
    "#        'Functieplaats', 'Productbladomschrijving', 'Functie', 'Verantw. werkplekomschrijving']:\n",
    "#     df_sa_geen_routinggroep[i] = df_sa_geen_routinggroep[i].astype(str)    # Omzetten naar \"str\" neemt NaN-waarden mee\n",
    "#     df_sa_geen_routinggroep.groupby(i)['Cumulatieve werkelijkekosten'].sum().to_frame().plot(kind=\"bar\")"
   ]
  },
  {
   "cell_type": "markdown",
   "metadata": {},
   "source": [
    "**Aantal unieke medewerkers**"
   ]
  },
  {
   "cell_type": "code",
   "execution_count": null,
   "metadata": {},
   "outputs": [],
   "source": [
    "# Overzicht aantal unieke medewerkers in het dataframe met SA-informatie, geef eerste 10 weer\n",
    "print(\"Er zijn\",df_sa[df_sa[\"Medewerker\"].notnull()][\"Medewerker\"].nunique(),\n",
    "      \"verschillende medewerkers in de SA-informatie, waaronder als voorbeeld deze tien:\")\n",
    "display(df_sa[df_sa[\"Medewerker\"].notnull()][\"Medewerker\"].unique()[:10])"
   ]
  },
  {
   "cell_type": "code",
   "execution_count": null,
   "metadata": {},
   "outputs": [],
   "source": [
    "print(\"Werkelijke kosten voor medewerkers zonder functie in SA-informatie.\\nDit betreffen\", df_sa[ (df_sa['Medewerker'].notnull()) & (df_sa['Functie'].isna())][\"Medewerker\"].nunique(), \n",
    "      \"medewerkers met een totaal van {0:.2f} EUR\".format(df_sa[ (df_sa['Medewerker'].notnull()) & (df_sa['Functie'].isna())][\"Cumulatieve werkelijkekosten\"].sum()))\n",
    "display(df_sa[ (df_sa['Medewerker'].notnull()) & (df_sa['Functie'].isna())].pivot_table(index=\"Medewerker\", columns=\"Boekjaar\", values=\"Cumulatieve werkelijkekosten\", aggfunc=\"sum\", margins=True))"
   ]
  },
  {
   "cell_type": "markdown",
   "metadata": {},
   "source": [
    "<a id=\"Info1\"></a>\n",
    "## Informatietoevoeging voorbereiden\n",
    "\n",
    "**Medewerker-IDs toewijzen aan buitendienst en binnendienst**"
   ]
  },
  {
   "cell_type": "code",
   "execution_count": null,
   "metadata": {},
   "outputs": [],
   "source": [
    "# Onderstaande medewerkers hebben geen functies toegekend in de SA-informatie, maar hebben wel voor 384K kosten. \n",
    "# Eerst handmatig opzoeken van de functie van de medewerkers in oude informatiesheets \n",
    "# en vervolgens samen met JohantH deze medewerkers toegewezen aan Buitendienst of Binnendienst.\n",
    "dict_mw={'71698':'Binnendienst', '3473':'Binnendienst', '5879':'Binnendienst', '2852':'Buitendienst', \n",
    "         '3197':'Buitendienst', '2413':'Buitendienst', '302043':'Buitendienst', '302317':'Buitendienst'}\n",
    "print('Aantal hard-toegewezen medewerkers:', len(dict_mw))\n",
    "for i in set(dict_mw.values()):\n",
    "    print(i,\":\", list(dict_mw.values()).count(i))\n",
    "\n",
    "# Vervolgbewerking afhankelijk of alle medewerkers zonder functie toegewezen zijn aan een handmatige toewijzing\n",
    "if len(set(list(df_sa[ (df_sa['Medewerker'].notnull()) & (df_sa['Functie'].isna())][\"Medewerker\"].unique()))\n",
    "       .difference(set(list(dict_mw.keys())))) == 0:\n",
    "    print(\"\\nIedereen is toegewezen.\")\n",
    "else:\n",
    "    # Er zijn medewerkers zonder functie die nog niet toegewezen zijn.\n",
    "    print(\"\\n\",set(list(df_sa[ (df_sa['Medewerker'].notnull()) & (df_sa['Functie'].isna())][\"Medewerker\"].unique()))\n",
    "       .difference(set(list(dict_mw.keys()))), \"--> nog niet toegewezen.\")\n",
    "    raise Exception('Nog niet iedereen is toegewezen!')"
   ]
  },
  {
   "cell_type": "markdown",
   "metadata": {},
   "source": [
    "**Functies toewijzen aan buitendienst en binnendienst**"
   ]
  },
  {
   "cell_type": "code",
   "execution_count": null,
   "metadata": {},
   "outputs": [],
   "source": [
    "# Van 30 van de onderstaande 36 functies was geen resourcelevel 3 aanwezig. Daarom maar alle 36 functies toegewezen \n",
    "# naar Buitendienst en Binnendienst. Besproken met JohantH in Q3-2020\n",
    "dict_functie={'Technisch Specialist':'Buitendienst', 'Opzichter':'Buitendienst', 'Mdw business support':'Binnendienst',\n",
    "              'Technicus':'Buitendienst', 'Werkcoördinator':'Binnendienst', 'Netoperator':'Buitendienst',\n",
    "              'Data Manager':'Binnendienst', 'Constructeur / Tekenaar':'Binnendienst', 'Werkvoorbereider':'Binnendienst',\n",
    "              'Bouwkundige':'Buitendienst', 'Engineer':'Binnendienst', 'Technisch Uitvoerder':'Buitendienst', \n",
    "              'Bouwkundig Mdw':'Binnendienst', 'Project Realisator':'Buitendienst', 'Administratief Mdw':'Binnendienst', \n",
    "              'Monteur':'Buitendienst', 'Project Manager':'Binnendienst', 'Medewerker project support':'Binnendienst',\n",
    "              'Teamleider':'Binnendienst', 'Mdw Datamanagement':'Binnendienst', 'Junior IT Professional':'Binnendienst',\n",
    "              'Mdw Distributie':'Buitendienst', 'Meetspecialist':'Buitendienst', 'Trainer':'Binnendienst', \n",
    "              'Manager':'Binnendienst', 'Regio Asset Specialist':'Binnendienst', 'Technisch Beheerder':'Buitendienst', \n",
    "              'KAM Adviseur':'Binnendienst', 'Consultant':'Binnendienst', 'Werkervaringsplaats':'Binnendienst',\n",
    "              'Logistiek Voorman':'Buitendienst', 'Planning & Control Mdw':'Binnendienst',\n",
    "              'Juridisch Mdw':'Binnendienst', 'Chemisch Analist':'Binnendienst', \n",
    "              'Planner':'Binnendienst', 'Tactisch planner':'Binnendienst', 'Informatiemanager':'Binnendienst'}\n",
    "print('Aantal hard-toegewezen functies:', len(dict_functie))\n",
    "for i in set(dict_functie.values()):\n",
    "    print(i,\":\", list(dict_functie.values()).count(i))\n",
    "\n",
    "# Vervolgbewerking afhankelijk of alle medewerkers zonder functie toegewezen zijn aan een handmatige toewijzing\n",
    "if len(set(list(df_sa[ (df_sa['Functie'].notnull())][\"Functie\"].unique()))\n",
    "       .difference(set(list(dict_functie.keys())))) == 0:\n",
    "    print(\"\\nIedereen is toegewezen.\")\n",
    "else:\n",
    "    # Er zijn medewerkers zonder functie die nog niet toegewezen zijn.\n",
    "    print(\"\\n\",set(list(df_sa[ (df_sa['Functie'].notnull())][\"Functie\"].unique()))\n",
    "       .difference(set(list(dict_functie.keys()))), \"--> nog niet toegewezen.\")\n",
    "    raise Exception('Nog niet iedereen is toegewezen!')"
   ]
  },
  {
   "cell_type": "markdown",
   "metadata": {},
   "source": [
    "**Routinggroepen toewijzen aan ondersteuningsorder of directe order**"
   ]
  },
  {
   "cell_type": "code",
   "execution_count": null,
   "metadata": {},
   "outputs": [],
   "source": [
    "# Maak een lijst van alle unieke routinggroepen\n",
    "routinggroep = df_sa[df_sa[\"Routinggroep\"].notnull()][\"Routinggroep\"].unique()\n",
    "print(\"Aantal routinggroepen:\", len(routinggroep))\n",
    "\n",
    "# Plaats alle routinggroepen met de letters 'OND' in de code in een dictionary met als uitkomst: \"Ondersteuningsorder\"\n",
    "# De rest is Directe order\n",
    "dict_routinggroep={}\n",
    "for i in routinggroep:\n",
    "    if 'OND' in i:\n",
    "        dict_routinggroep[i]=\"Ondersteuningsorder\"\n",
    "    else:\n",
    "        if i == \"Indirect\":\n",
    "            dict_routinggroep[i]=\"Ondersteuningsorder\"\n",
    "        else:\n",
    "            dict_routinggroep[i]=\"Directe order\"\n",
    "print(\"Aantal routinggroepen toegewezen:\", len(dict_routinggroep), \", namelijk:\", list(dict_routinggroep.keys()))\n",
    "for i in set(dict_routinggroep.values()):\n",
    "    print(i,\":\", list(dict_routinggroep.values()).count(i))"
   ]
  },
  {
   "cell_type": "markdown",
   "metadata": {},
   "source": [
    "**Verantwoordelijke werkplekken toewijzen aan regio of landelijke unit (indien mogelijk)**"
   ]
  },
  {
   "cell_type": "code",
   "execution_count": null,
   "metadata": {},
   "outputs": [],
   "source": [
    "# Uit de verantwoordelijke werkplekken kan soms een regio afgeleid worden\n",
    "print(\"Aantal unieke verantwoordelijke werkplekken uit de geïmporteerde dataset:\",df_sa[df_sa[\"Verantw. werkplek\"].notnull()][\"Verantw. werkplek\"].nunique())\n",
    "print(df_sa[df_sa[\"Verantw. werkplek\"].notnull()][\"Verantw. werkplek\"].unique())\n",
    "\n",
    "# Verantwoordelijke werkplek naar Regio/Landelijke unit afleiden, soms ook splitsen van waarden, etc.\n",
    "# Opmaak van de dictionary zodat dit verwerkt kan worden\n",
    "dict_wp={\"8400/ABTB\": (\"(AB) Technisch Beheer\", \"\", \"1\", \"Uitsluiting op basis van verantwoordelijke werkplek\"), #Projectmanagers -> Correctie\n",
    "         \"8400/GGINOORD\": (\"LU T&G GGI Noord\", \"T&G (LU)\", \"1\"),\n",
    "         \"8400/GGIOOST\": (\"LU T&G GGI Oost\", \"T&G (LU)\", \"1\"),\n",
    "         \"8400/GGIWEST\": (\"LU T&G GGI West\", \"T&G (LU)\", \"1\"),\n",
    "         \"8400/OTDAG\": (\"OTD Regio AG\", \"Amsterdam Gooi\", \"1\"),\n",
    "         \"8400/OTDBA\": (\"OTD Regio AB\", \"Achterhoek Betuwe\", \"1\"),\n",
    "         \"8400/OTDFR\": (\"OTD Regio FNOP\", \"Friesland NOP\", \"1\"),\n",
    "         \"8400/OTDNH\": (\"OTD Regio NHN\", \"Noord-Holland Noord\", \"1\"),\n",
    "         \"8400/OTDRL\": (\"OTD Regio RL\", \"Rijnland\", \"1\"),\n",
    "         \"8400/OTDVF\": (\"OTD Regio VF\", \"Veluwe Flevo\", \"1\"),\n",
    "         \"8400/STAG\": (\"HST Regio AG\", \"Amsterdam Gooi\", \"1\"),\n",
    "         \"8400/STBA\": (\"HST Regio AB\", \"Achterhoek Betuwe\", \"1\"),\n",
    "         \"8400/STFR\": (\"HST Regio FNOP\", \"Friesland NOP\", \"1\"),\n",
    "         \"8400/STIR\": (\"(ST) Instandhoudingmanagement Regie\", \"\", \"1\", \"Uitsluiting op basis van verantwoordelijke werkplek\"), #Instandhoudingmanagement -> Correctie\n",
    "         \"8400/STNH\": (\"HST Regio NHN\", \"Noord-Holland Noord\", \"1\"),\n",
    "         \"8400/STRL\": (\"HST Regio RL\", \"Rijnland\", \"1\"),\n",
    "         \"8400/STSN\": (\"(ST) SI Noord\", \"Friesland NOP\", \"1\"),\n",
    "         \"8400/STSO\": (\"(ST) SI Oost\", \"Achterhoek Betuwe / Veluwe Flevo\", ((\"Achterhoek Betuwe\",\"0.5\"),(\"Veluwe Flevo\", \"0.5\")) ),\n",
    "         \"8400/STSS\": (\"LU Vermogensschakelaars\", \"Vermogensschakelaars (LU)\", \"1\"),\n",
    "         \"8400/STST\": (\"LU Transformatoren\", \"Transformatoren (LU)\", \"1\"),\n",
    "         \"8400/STSW\": (\"(ST) SI West\", \"Amsterdam Gooi / Noord-Holland Noord / Rijnland\", ((\"Amsterdam Gooi\",\"0.34\"),(\"Noord-Holland Noord\", \"0.33\"),(\"Rijnland\", \"0.33\")) ),\n",
    "         \"8400/STTF\": (\"(ST) GGI Oost/FRL (Frank Jacobs)\", \"T&G (LU)\", \"1\"),\n",
    "         \"8400/STTG\": (\"T&G AG (Bjorn Vocking)\", \"T&G (LU)\", \"1\"),\n",
    "         \"8400/STTL\": (\"T&G RNL & KEN (Johan Leek)\", \"T&G (LU)\", \"1\"),\n",
    "         \"8400/STTN\": (\"T&G FRL (René van der Heide)\", \"T&G (LU)\", \"1\"),\n",
    "         \"8400/STTO\": (\"(ST) Oost(Nurettin Baydemir)\", \"T&G (LU)\", \"1\"),\n",
    "         \"8400/STTR\": (\"(ST) T&G realisatie\", \"T&G (LU)\", \"1\"),\n",
    "         \"8400/STTW\": (\"T&G GGI WEST (Jack Bakker)\", \"T&G (LU)\", \"1\"),\n",
    "         \"8400/STVF\": (\"HST Regio VF\", \"Veluwe Flevo\", \"1\"),\n",
    "         \"8400/T&GAG\": (\"LU T&G AG\", \"T&G (LU)\", \"1\"),\n",
    "         \"8400/T&GASB\": (\"LU T&G Asbest\", \"T&G (LU)\", \"1\"),\n",
    "         \"8400/T&GBA\": (\"LU T&G AB\", \"T&G (LU)\", \"1\"),\n",
    "         \"8400/T&GFRL\": (\"LU T&G FNOP\", \"T&G (LU)\", \"1\"),\n",
    "         \"8400/T&GNH\": (\"LU T&G NHN\", \"T&G (LU)\", \"1\"),\n",
    "         \"8400/T&GRNL\": (\"LU T&G RL\", \"T&G (LU)\", \"1\"),\n",
    "         \"8400/T&GVF\": (\"LU T&G VF\", \"T&G (LU)\", \"1\"),\n",
    "         \"8400/VBKV\": (\"(VB) Kwaliteit & Veiligheid\", \"Kabels (LU) / Lijnen (LU)\", ((\"Kabels (LU)\",\"0.35\"),(\"Lijnen (LU)\", \"0.65\"))),\n",
    "         \"8400/VKRKAB\": (\"LU Kabels\", \"Kabels (LU)\", \"1\"),\n",
    "         \"8400/VKRLIJN\": (\"LU Lijnen\", \"Lijnen (LU)\", \"1\")}\n",
    "\n",
    "print('\\nAantal hard-toegewezen verantwoordelijke werkplekken middels vertaaltabel:', len(dict_wp))\n",
    "templist = [x[1] for x in list(dict_wp.values())]\n",
    "for i in sorted(set(templist)):\n",
    "    print(i,\":\", templist.count(i))\n",
    "\n",
    "assert len(dict_wp) == df_sa[df_sa[\"Verantw. werkplek\"].notnull()][\"Verantw. werkplek\"].nunique(), \"Aantal Verantwoordelijke werkplekken niet gelijk\""
   ]
  },
  {
   "cell_type": "markdown",
   "metadata": {},
   "source": [
    "**Nog te splitsen over de regio's en landelijke units**"
   ]
  },
  {
   "cell_type": "code",
   "execution_count": null,
   "metadata": {},
   "outputs": [],
   "source": [
    "# Maak een lijst van de verantwoordelijke werkplekken die nog gesplitst moeten gaan worden\n",
    "wpsplitlist = []\n",
    "for k, v in dict_wp.items():\n",
    "#    print(k,v)\n",
    "    if type(v[2]) != type(\"1\"):\n",
    "        wpsplitlist.append(k)\n",
    "print(\"De data van\",len(wpsplitlist),\"verantwoordelijke werkplekken moeten nog gesplitst worden over de regio's of landelijke units:\\n\", wpsplitlist)\n",
    "display(df_sa[(df_sa[\"Verantw. werkplek\"].isin(wpsplitlist))].pivot_table(index=[\"RB: Opdrachtgever\", \"Verantw. werkplek\"], \n",
    "                columns=\"Boekjaar\", values=\"Cumulatieve werkelijkekosten\", aggfunc=[\"sum\", \"count\"], margins=True))"
   ]
  },
  {
   "cell_type": "markdown",
   "metadata": {},
   "source": [
    "**Nog uit te sluiten (correctie) op basis van verantwoordelijke werkplek**"
   ]
  },
  {
   "cell_type": "code",
   "execution_count": null,
   "metadata": {},
   "outputs": [],
   "source": [
    "# Maak een lijst van de verantwoordelijke werkplekken die nog gecorrigeerd moeten worden (uitsluiting)\n",
    "wpcorrectielist = []\n",
    "for k, v in dict_wp.items():\n",
    "#    print(k,v)\n",
    "    if len(v) > 3:\n",
    "        wpcorrectielist.append(k)\n",
    "print(\"De data van\",len(wpcorrectielist),\"verantwoordelijke werkplekken moeten nog uitgesloten worden:\\n\", wpcorrectielist)\n",
    "display(df_sa[(df_sa[\"Verantw. werkplek\"].isin(wpcorrectielist))].pivot_table(index=[\"RB: Opdrachtgever\", \"Verantw. werkplek\"], \n",
    "                columns=\"Boekjaar\", values=\"Cumulatieve werkelijkekosten\", aggfunc=[\"sum\", \"count\"], margins=True))"
   ]
  },
  {
   "cell_type": "code",
   "execution_count": null,
   "metadata": {},
   "outputs": [],
   "source": [
    "# Vervolgbewerking afhankelijk of de productbladcorrectie/productbladaggregatie over voornamelijk 2019 wordt meegenomen\n",
    "if pb_correctie_2019 == 1:\n",
    "    print(\"Productbladcorrectie (voornamelijk gerelateerd aan het boekjaar 2019) wel meenemen.\")\n",
    "    # In 2019 zijn er tijdelijk een aantal productbladnummers geweest ter uitsplitsing van een oud, bestaand\n",
    "    # productbladnummer. Hieronder is de vertaaltabel van in 2019 gebruikte productbladen naar oude, bestaande productbladnummers\n",
    "    pb2019_dict = { '443400':'443201', '443401':'443201', '443402':'443201', '443403':'443201', '443404':'443201', \n",
    "                '443405':'443201', '443406':'443201', '443407':'443201', '443408':'443201', '443409':'443201',\n",
    "                '443410':'443201', '443411':'443201', '443420':'443202', '443421':'443202', '443422':'443202',\n",
    "                '443423':'443202', '443424':'443202', '443425':'443202', '443426':'443202', '443427':'443202',\n",
    "                '443428':'443202', '443429':'443202', '443430':'443202', '443431':'443202', '443440':'443203',\n",
    "                '443441':'443203', '443442':'443203', '443443':'443203', '443444':'443203', '443445':'443203', \n",
    "                '143900':'143026', '143901':'143026', '143905':'143032', '143906':'143032', '143910':'143211', \n",
    "                '143911':'143211', '143915':'143212', '143916':'143212', '143917':'143212', '143918':'143212', \n",
    "                '143920':'143215', '143921':'143215', '143922':'143215', '143923':'143215', '143924':'143215', \n",
    "                '143930':'143216', '143931':'143216', '143935':'143301', '143936':'143301', '143940':'143304', \n",
    "                '143941':'143304', '143942':'143304', '143945':'143325', '143946':'143325', '143947':'143325', \n",
    "                '143950':'143326', '143951':'143326', '143952':'143326', '143955':'143327', '143956':'143327', \n",
    "                '143957':'143327', '143960':'143328', '143961':'143328', '143962':'143328', '143965':'143329', \n",
    "                '143966':'143329', '143967':'143329', '143970':'143330', '143971':'143330', '143972':'143330', \n",
    "                '143975':'143331', '143976':'143331', '143977':'143331', '143980':'143332', '143981':'143332', \n",
    "                '143982':'143332', '143985':'143403', '143986':'143403'}\n",
    "\n",
    "    # Maak een dictionary voor de bijbehorende omschrijvingen\n",
    "    pbtxt_dict = dict(zip(df_sa['Productblad'], df_sa['Productbladomschrijving']))\n",
    "\n",
    "    print(\"De vertaaltabel van productbladen bevat\",len(pb2019_dict),\"productbladnummers.\")\n",
    "else:\n",
    "    print(\"Productbladcorrectie (voornamelijk gerelateerd aan het boekjaar 2019) niet meenemen.\")\n",
    "    pb2019_dict = dict()\n",
    "    pbtxt_dict = dict()"
   ]
  },
  {
   "cell_type": "markdown",
   "metadata": {},
   "source": [
    "<a id=\"Info2\"></a>\n",
    "## Informatietoevoeging uitvoeren\n",
    "\n",
    "**Vertaal de tijdelijk gebruikte productbladnummers uit 2019 naar oude, bestaande productbladnummers**"
   ]
  },
  {
   "cell_type": "code",
   "execution_count": null,
   "metadata": {},
   "outputs": [],
   "source": [
    "# Vertaal de tijdelijk gebruikte productbladnummers uit 2019 en pas ook de omschrijving hiervan aan.\n",
    "def vertaalproductblad(row):\n",
    "    \"\"\"Op basis het productbladnummer wordt deze omgezet naar een andere, wanneer het productbladnummer voorkomt uit de\n",
    "       dictionary met 2019-productbladnummers. Ook bijgehorende omschrijvingen worden aangepast.\"\"\"\n",
    "    # Vervolgbewerking afhankelijk van het voorkomen van het productbladnummer in de vertaaldictionary pb2019_dict\n",
    "    if row[\"Productblad\"] in pb2019_dict:\n",
    "        row[\"Productblad\"] = pb2019_dict[row[\"Productblad\"]]\n",
    "        # ook omschrijving aanpassen\n",
    "        if row[\"Productblad\"] in pbtxt_dict:\n",
    "            row[\"Productbladomschrijving\"] = pbtxt_dict[row[\"Productblad\"]]\n",
    "    return row\n",
    "\n",
    "# Voer bovengenoemde functie uit voor elke rij in het dataframe\n",
    "df_sa = df_sa.apply(func=vertaalproductblad, axis=1)"
   ]
  },
  {
   "cell_type": "markdown",
   "metadata": {},
   "source": [
    "**Maak nieuwe kolommen aan voor toevoeging van informatie (herkenbaar aan voorvoegstel TV)**"
   ]
  },
  {
   "cell_type": "code",
   "execution_count": null,
   "metadata": {},
   "outputs": [],
   "source": [
    "# Maak nieuwe kolommen aan (TV staat voor toevoeging) en pas datatypes aan naar object\n",
    "for kolom in ['TV_medewerker', 'TV_functie', 'TV_routinggroep', 'TV_datakwaliteit', 'TV_werk', \"TV_regio\", \"TV_correctie\"]:\n",
    "    df_sa[kolom] = np.nan\n",
    "    df_sa[kolom] = df_sa[kolom].astype('object')\n",
    "print(\"Nieuwe kolommen toegevoegd met lege waarde\")"
   ]
  },
  {
   "cell_type": "markdown",
   "metadata": {},
   "source": [
    "**Medewerker-, functie- en routinggroepinformatie toevoegen richting uitvoering of voorbereiding/nazorg. Ook correcties verwerken op basis van verantwoordelijke werkplek**"
   ]
  },
  {
   "cell_type": "code",
   "execution_count": null,
   "metadata": {},
   "outputs": [],
   "source": [
    "# Maak een functie voor aanpassing van het dataframe. Classificeer werk obv medewerker, functie en routinggroep.\n",
    "# Markeer correctie obv verantwoordelijke werkplek.\n",
    "def classificeer_werk_en_correctie(row):\n",
    "    \"\"\"Op basis van medewerker, functie of routinggroep de informatie\n",
    "       uitbreiden in dit dataframe\"\"\"\n",
    "    mw = \"\"\n",
    "    # Vervolgbewerking afhankelijk van het voorkomen van de hard-toegewezen medewerkers\n",
    "    if row[\"Medewerker\"] in dict_mw:\n",
    "        row[\"TV_medewerker\"] = dict_mw[row[\"Medewerker\"]]\n",
    "        mw = row[\"TV_medewerker\"]\n",
    "    # Vervolgbewerking afhankelijk van het voorkomen van de hard-toegewezen functies\n",
    "    if row[\"Functie\"] in dict_functie:\n",
    "        row[\"TV_functie\"] = dict_functie[row[\"Functie\"]]\n",
    "        if mw == \"\":\n",
    "            mw = row[\"TV_functie\"]\n",
    "        elif mw != row[\"TV_functie\"]:\n",
    "            row[\"TV_datakwaliteit\"] = \"Niet OK\"\n",
    "        else:\n",
    "            pass   # Niets aan de hand (mw == functie)\n",
    "    # Vervolgbewerking afhankelijk van het voorkomen van de \"indirecte\" routinggroepen\n",
    "    if row[\"Routinggroep\"] in dict_routinggroep:\n",
    "        row[\"TV_routinggroep\"] = dict_routinggroep[row[\"Routinggroep\"]]\n",
    "        # Vervolgbewerking afhankelijk van routinggroep en medewerker binnen/buiten\n",
    "        if (mw == \"Buitendienst\") and (row[\"TV_routinggroep\"] == \"Directe order\"):\n",
    "            # Werk = uitvoering\n",
    "            row[\"TV_werk\"] = \"Uitvoering\"\n",
    "        else:\n",
    "            # Werk = voorbereiding/nazorg\n",
    "            row[\"TV_werk\"] = \"Voorbereiding of nazorg\"\n",
    "    \n",
    "    # Vervolgbewerking afhankelijk van het voorkomen van de verantwoordelijke werkplek\n",
    "    if row['Verantw. werkplek'] in dict_wp:\n",
    "        # Vervolgbewerking afhankelijk van het aanwezig zijn van de correctieinformatie (alleen bij lengte 4 aanwezig)\n",
    "        if len(dict_wp[row['Verantw. werkplek']]) == 4:\n",
    "            row[\"TV_correctie\"] = dict_wp[row['Verantw. werkplek']][3]  #Zero-index!!\n",
    "    \n",
    "#    We kijken niet meer of in de omschrijving van een serviceorder het woordje 'ondersteuning' voor komt.\n",
    "#    if \"ondersteuning\" in row[\"Serviceorderomschrijving\"].lower():\n",
    "#        row[\"DI_serviceordertype\"] = \"Indirect\"\n",
    "#        lst.append(row[\"DI_serviceordertype\"])\n",
    "    return row        "
   ]
  },
  {
   "cell_type": "code",
   "execution_count": null,
   "metadata": {},
   "outputs": [],
   "source": [
    "# Voer bovengenoemde functie uit voor elke rij in het dataframe\n",
    "df_sa = df_sa.apply(func=classificeer_werk_en_correctie, axis=1)"
   ]
  },
  {
   "cell_type": "code",
   "execution_count": null,
   "metadata": {
    "scrolled": false
   },
   "outputs": [],
   "source": [
    "# Snel overzicht op aantal non-null-waarden (omgekeerde van NaN-waarden (Niet-aanwezige waarden))\n",
    "df_sa.info()"
   ]
  },
  {
   "cell_type": "code",
   "execution_count": null,
   "metadata": {
    "scrolled": false
   },
   "outputs": [],
   "source": [
    "print(\"Aantal datakwaliteitsproblemen tussen medewerker en functie:\", df_sa[\"TV_datakwaliteit\"].notnull().sum())\n",
    "# Indien er wel datakwaliteitsproblemen zijn, laat dan de eerste 5 ervan zien.\n",
    "if df_sa[\"TV_datakwaliteit\"].notnull().sum() !=0:\n",
    "    display(df_sa[df_sa[\"TV_datakwaliteit\"].notnull()].head())"
   ]
  },
  {
   "cell_type": "markdown",
   "metadata": {},
   "source": [
    "**Splits de informatie op basis van verantwoordelijke werkplek over de regio's of landelijke units**"
   ]
  },
  {
   "cell_type": "code",
   "execution_count": null,
   "metadata": {},
   "outputs": [],
   "source": [
    "# Maak kopie van te splitsen regels\n",
    "# Werkset voor de nog te splitsen regels over de regio's\n",
    "df_sa_werkset = df_sa[(df_sa[\"Verantw. werkplek\"].isin(wpsplitlist))].copy()\n",
    "# Regio voor de niet te splitsen over de regio's\n",
    "df_sa_regio = df_sa[(~df_sa[\"Verantw. werkplek\"].isin(wpsplitlist))].copy()\n",
    "\n",
    "print(\"Origineel dataframe    :\", df_sa.shape)\n",
    "print(\"Werkset nog te splitsen:\", df_sa_werkset.shape)\n",
    "print(\"Dataframe niet splitsen:\", df_sa_regio.shape)\n",
    "print(\"Aantallen controle nog te splitsen + niet splitsen\", df_sa_werkset.shape[0]+df_sa_regio.shape[0])\n",
    "if df_sa_werkset.shape[0]+df_sa_regio.shape[0] == df_sa.shape[0]:\n",
    "    # Dit wordt alleen maar afgedrukt wanneer er geen verschil is\n",
    "    print(\"Dit is gelijk aan het originele dataframe\")\n",
    "else:\n",
    "    # Dit wordt alleen maar afgedrukt wanneer er wel een verschil is\n",
    "    print(\"ER IS EEN VERSCHIL MET HET ORIGINELE DATAFRAME VAN\",df_sa_werkset.shape[0]+df_sa_regio.shape[0]-df_sa.shape[0],\n",
    "          \"REGELS !!\")\n",
    "    raise Exception('Er is een verschil met het originele dataframe!')"
   ]
  },
  {
   "cell_type": "code",
   "execution_count": null,
   "metadata": {},
   "outputs": [],
   "source": [
    "# Maak een functie voor het opsplitsen naar regio of landelijke unit\n",
    "def splits_naar_regio_of_landelijke_unit_2(row, werkplek, regio, kolommen):\n",
    "    \"\"\"Splits een regel op door lijsten (lists) in cellen te zetten en daarna (buiten deze functie)\n",
    "       het dataframe laten 'exploden'\"\"\"\n",
    "\n",
    "    debug = False\n",
    "    if debug == True: print(\"Overzicht van de parameters: werkplek\", werkplek, \", regio\", regio, \", kolommen\", kolommen)\n",
    "    \n",
    "    # Haal verdeelsleutel (tupel) op uit de dictionary van verantwoordelijke werkplekken\n",
    "    verdeelsleutel = dict_wp[row[werkplek]][2]\n",
    "    # Vervolgbewerking afhankelijk of de verdeelsleutel een tupel is\n",
    "    if type(verdeelsleutel) == type( (1,2) ):\n",
    "        # Ja, verdeelsleutel is een tupel\n",
    "        if debug == True: print(\"Verdeelsleutel:\", verdeelsleutel)\n",
    "        dict_mainrow = dict()        # Deze dictionary wordt gebruikt voor de waardevelden met opbouw [restant, totaal]\n",
    "        teller = 0                   # Geeft de positie binnen de verdeelsleutel aan\n",
    "        \n",
    "        # Waardevelden veiligstellen in dictionary\n",
    "        for kolom in kolommen:\n",
    "            dict_mainrow[kolom] = [ row[kolom], row[kolom] ]     # [ restant, totaal ] is nu nog gelijk\n",
    "            row[kolom] = list()                                  # Veld in de rij wordt van het type \"list\"\n",
    "        row[regio] = list()                                      # Regioveld wordt ook van het type \"list\"\n",
    "        if debug == True: print(\"dict_mainrow:\",dict_mainrow)\n",
    "        \n",
    "        for regioomschrijving, factor in verdeelsleutel:\n",
    "            \n",
    "            teller += 1                                          # Verhoog de teller met 1\n",
    "            \n",
    "            if debug == True: print(\"Teller:\", teller, \", regioomschrijving:\", regioomschrijving, \", factor:\", factor)\n",
    "            tempregio = row[regio]\n",
    "            tempregio.append(regioomschrijving)\n",
    "            row[regio] = tempregio\n",
    "            if debug == True: print(\"row[regio]:\", row[regio])\n",
    "            \n",
    "            # Behandel alle kolommen\n",
    "            for kolom in kolommen:\n",
    "                # Vervolgbewerking afhankelijk van de teller\n",
    "                if teller == len(verdeelsleutel):\n",
    "                    # We zijn in de laatste ronde\n",
    "                    tempwaarde          = row[kolom]\n",
    "                    tempmainwaarde      = dict_mainrow[kolom]\n",
    "                    tempwaarde.append(tempmainwaarde[0])\n",
    "                    row[kolom]          = tempwaarde\n",
    "                else:\n",
    "                    # We zijn nog niet in de laatste ronde\n",
    "                    tempwaarde          = row[kolom]\n",
    "                    tempmainwaarde      = dict_mainrow[kolom]\n",
    "                    tempwaarde.append(round(tempmainwaarde[1]*float(factor),2))\n",
    "                    tempmainwaarde[0]   = tempmainwaarde[0] - tempwaarde[-1]\n",
    "                    row[kolom]          = tempwaarde\n",
    "                    dict_mainrow[kolom] = tempmainwaarde\n",
    "                if debug == True: print(kolom, dict_mainrow[kolom], row[kolom])\n",
    "    return row"
   ]
  },
  {
   "cell_type": "code",
   "execution_count": null,
   "metadata": {},
   "outputs": [],
   "source": [
    "# Voer bovengenoemde functie uit voor elke rij in het dataframe\n",
    "\n",
    "# Maak van veld TV_regio een object (en geen getal/float)\n",
    "df_sa_werkset[\"TV_regio\"] = df_sa_werkset[\"TV_regio\"].astype('object')\n",
    "\n",
    "# Lijst van kolommen die met hun waarde gesplitst moeten worden\n",
    "kolommen2 = ['Cumulatieve werkelijkekosten', 'Personeelskostencumulatief', 'Materiaalkostencumulatief',\n",
    "             'Dienstenkostencumulatief', 'Intercompanykostencumulatief', 'Werkelijke urenTotaal',\n",
    "             'SA: Aantalgereedgemeld(totaal)']\n",
    "\n",
    "# Lijst van kolommen die nodig zijn voor de .explode-methode om ze te splitsen in meerdere rijen\n",
    "kolommen = kolommen2[:]       # Zo maak je een echte kopie, en niet een verwijzing naar de zelfde lijst\n",
    "kolommen.append(\"TV_regio\")   # Ook het veld TV_regio dient gesplitst te worden bij de .explode()-methode\n",
    "\n",
    "# Voorafcontrole\n",
    "print(\"Shape van het dataframe vooraf:\", df_sa_werkset.shape)\n",
    "for kolom in kolommen2:\n",
    "    print(\"Totaal van df_sa_werkset\", kolom, \": {0:,.2f}\".format(df_sa_werkset[kolom].sum()))\n",
    "\n",
    "print(\"\\nShape van het te splitsen dataframe:\", df_sa_werkset.shape)\n",
    "\n",
    "# LET OP: Zonder .reset_index(drop=True) kreeg ik met deze dataset een \"ValueError: cannot reindex from a duplicate axis\"\n",
    "# Splits het dataframe (dataframe df_temp krijgt al toekenning van het veld \"TV_regio\")\n",
    "df_sa_gesplitst = (df_sa_werkset.reset_index(drop=True)\n",
    "           .apply(func=splits_naar_regio_of_landelijke_unit_2, axis=1, args=(\"Verantw. werkplek\", \"TV_regio\", kolommen2))\n",
    "           .apply(lambda x: x.explode() if x.name in kolommen else x)\n",
    "           .copy() )\n",
    "print(\"Shape van het gesplitste dataframe:\", df_sa_gesplitst.shape)\n",
    "\n",
    "print(\"\\nShape van het dataframe achteraf:\",df_sa_gesplitst.shape)\n",
    "for kolom in kolommen2:\n",
    "    print(\"Totaal van df_temp\", kolom, \": {0:,.2f}\".format(df_sa_gesplitst[kolom].sum()))\n",
    "\n",
    "# Controle op Cumulatieve werkelijke kosten op 2 decimalen\n",
    "if round(df_sa_werkset[\"Cumulatieve werkelijkekosten\"].sum(),2) != \\\n",
    "   round(df_sa_gesplitst[\"Cumulatieve werkelijkekosten\"].sum(),2):\n",
    "    # Dit wordt alleen maar afgedrukt wanneer er wel een verschil is\n",
    "    raise Exception('Er is een verschil met de bedragen tussen het dataframe vooraf en het gesplitste dataframe achteraf!')\n",
    "    \n",
    "print(\"\\nAantal regels wel gevuld met regio/LU :\",df_sa_gesplitst[\"TV_regio\"].notnull().sum())\n",
    "print(\"Aantal regels niet gevuld met regio/LU:\",df_sa_gesplitst[\"TV_regio\"].isna().sum())\n",
    "\n",
    "# Controle op aantal lege regels mbt regio/LU\n",
    "if df_sa_gesplitst[\"TV_regio\"].isna().sum() != 0:\n",
    "    # Dit wordt alleen maar afgedrukt wanneer er wel een verschil is\n",
    "    raise Exception('Er zijn regels waarvan de regio/LU niet gevuld zijn!')"
   ]
  },
  {
   "cell_type": "markdown",
   "metadata": {},
   "source": [
    "**Ken regio of landelijke unit toe aan niet-gesplitste dataset**"
   ]
  },
  {
   "cell_type": "code",
   "execution_count": null,
   "metadata": {},
   "outputs": [],
   "source": [
    "# Maak een functie aan voor het toekennen aan regio of landelijke unit zonder splitsen\n",
    "def regio_of_landelijke_unit(row):\n",
    "    # Vervolgbewerking afhankelijk van het voorkomen van de verantwoordelijke werkplek\n",
    "    if row['Verantw. werkplek'] in dict_wp:\n",
    "        row[\"TV_regio\"] = dict_wp[row['Verantw. werkplek']][1]  #Zero-index!!\n",
    "    return row\n",
    "\n",
    "# Voor de functie uit voor dit dataframe\n",
    "df_sa_regio=df_sa_regio.apply(func=regio_of_landelijke_unit, axis=1)\n",
    "\n",
    "print(\"Aantal regels wel gevuld met regio/LU :\",df_sa_regio[\"TV_regio\"].notnull().sum())\n",
    "print(\"Aantal regels niet gevuld met regio/LU:\",df_sa_regio[\"TV_regio\"].isna().sum())"
   ]
  },
  {
   "cell_type": "markdown",
   "metadata": {},
   "source": [
    "**Voeg gesplitste regels toe aan Dataframe met regio-/landelijke unit-toekenning**"
   ]
  },
  {
   "cell_type": "code",
   "execution_count": null,
   "metadata": {},
   "outputs": [],
   "source": [
    "# Informatie vooraf\n",
    "regio_regels_voor_samenvoeging = df_sa_regio.shape[0]\n",
    "regio_cumulatieve_werkelijke_kosten_voor_samenvoeging = df_sa_regio[\"Cumulatieve werkelijkekosten\"].sum()\n",
    "print(\"Dataframe niet gesplitst met regio :\", df_sa_regio.shape,\n",
    "      \"met cumulatieve werkelijke kosten {0:.2f} EUR\".format(regio_cumulatieve_werkelijke_kosten_voor_samenvoeging))\n",
    "print(\"Dataframe reeds gesplitst met regio:\", df_sa_gesplitst.shape,\n",
    "      \"met cumulatieve werkelijke kosten {0:.2f} EUR\".format(df_sa_gesplitst[\"Cumulatieve werkelijkekosten\"].sum()))\n",
    "\n",
    "# Het daadwerkelijk samenvoegen\n",
    "df_sa_regio = df_sa_regio.append(df_sa_gesplitst,ignore_index=True)\n",
    "\n",
    "# Controle achteraf op regels\n",
    "print(\"Aantal regels na samenvoegen in één dataframe\", df_sa_regio.shape[0])\n",
    "if regio_regels_voor_samenvoeging+df_sa_gesplitst.shape[0] == df_sa_regio.shape[0]:\n",
    "    # Dit wordt alleen maar afgedrukt wanneer er geen verschil is\n",
    "    print(\"Dit is gelijk aan de som van beide dataframes voor de samenvoeging\")\n",
    "else:\n",
    "    # Dit wordt alleen maar afgedrukt wanneer er wel een verschil is\n",
    "    print(\"ER IS EEN VERSCHIL MET HET AANTAL REGELS VOOR EN NA SAMENVOEGING VAN \",regio_regels_voor_samenvoeging+df_sa_gesplitst.shape[0]-df_sa_regio.shape[0],\n",
    "          \"REGELS !!\")\n",
    "    raise Exception('Er is een verschil met het aantal regels tussen het dataframe voor samenvoeging en na samenvoeging!')\n",
    "\n",
    "# Controle achteraf op cumulatieve werkelijke kosten\n",
    "print(\"Cumulatieve werkelijke kosten na samenvoegen in één dataframe {0:.2f} EUR\".format(df_sa_regio[\"Cumulatieve werkelijkekosten\"].sum()))\n",
    "# Controle op Cumulatieve werkelijke kosten op 2 decimalen\n",
    "if round(regio_cumulatieve_werkelijke_kosten_voor_samenvoeging + df_sa_gesplitst[\"Cumulatieve werkelijkekosten\"].sum(),2) != \\\n",
    "   round(df_sa_regio[\"Cumulatieve werkelijkekosten\"].sum(),2):\n",
    "    # Dit wordt alleen maar afgedrukt wanneer er wel een verschil is\n",
    "    raise Exception('Er is een verschil met de bedragen tussen het dataframe voor samenvoeging en na samenvoeging!')\n",
    "else:\n",
    "    print(\"Er is geen verschil met de bedragen tussen het dataframe voor samenvoeging en na samenvoeging!\")"
   ]
  },
  {
   "cell_type": "markdown",
   "metadata": {},
   "source": [
    "**Correctie voor ontbreken productbladnummer**"
   ]
  },
  {
   "cell_type": "code",
   "execution_count": null,
   "metadata": {},
   "outputs": [],
   "source": [
    "# Tijdelijke tabel maken voor leesbaarheid code en conversie van NaN-waarden naar \"string\"\n",
    "df_sa_geen_productblad = df_sa_regio[(df_sa_regio[\"Productblad\"].isna())].copy()\n",
    "df_sa_geen_productblad[\"TV_correctie\"] = df_sa_geen_productblad[\"TV_correctie\"].astype(str)    # Omzetten naar \"str\" neemt NaN-waarden mee\n",
    "print(len(df_sa_geen_productblad), \"regels hebben geen productbladnummer.\",\n",
    "      \"\\nEen aantal van deze regels wordt al uitgesloten vanwege reeds toegekende correctie:\")\n",
    "display(df_sa_geen_productblad.pivot_table(index=[\"TV_correctie\",\"RB: Opdrachtgever\"], columns=\"Boekjaar\", values=\"Cumulatieve werkelijkekosten\", aggfunc=[\"sum\",\"count\"], margins=True))"
   ]
  },
  {
   "cell_type": "code",
   "execution_count": null,
   "metadata": {},
   "outputs": [],
   "source": [
    "# Deze correctie wordt toegevoegd in de code om ook de correctie bij een ontbrekende routinggroep toe te voegen\n",
    "Stop?"
   ]
  },
  {
   "cell_type": "markdown",
   "metadata": {},
   "source": [
    "**Correctie voor ontbreken routinggroep**"
   ]
  },
  {
   "cell_type": "code",
   "execution_count": null,
   "metadata": {
    "scrolled": false
   },
   "outputs": [],
   "source": [
    "# Tijdelijke tabel maken voor leesbaarheid code en conversie van NaN-waarden naar \"string\"\n",
    "df_sa_geen_routinggroep = df_sa_regio[(df_sa_regio[\"Routinggroep\"].isna())].copy()\n",
    "df_sa_geen_routinggroep[\"TV_correctie\"] = df_sa_geen_routinggroep[\"TV_correctie\"].astype(str)    # Omzetten naar \"str\" neemt NaN-waarden mee\n",
    "print(len(df_sa_geen_routinggroep), \"regels hebben geen routinggroep.\",\n",
    "      \"\\nEen aantal van deze regels wordt al uitgesloten vanwege reeds toegekende correctie:\")\n",
    "display(df_sa_geen_routinggroep.pivot_table(index=[\"TV_correctie\",\"RB: Opdrachtgever\"], columns=\"Boekjaar\", values=\"Cumulatieve werkelijkekosten\", aggfunc=[\"sum\",\"count\"], margins=True))\n",
    "\n",
    "print(\"Een deel hiervan mist naast de routinggroep ook een productbladnummer:\")\n",
    "df_sa_geen_routinggroep[\"Productblad\"] = df_sa_geen_routinggroep[\"Productblad\"].astype(str)    # Omzetten naar \"str\" neemt NaN-waarden mee\n",
    "display(df_sa_geen_routinggroep.pivot_table(index=[\"TV_correctie\",\"Productblad\",\"RB: Opdrachtgever\"], columns=\"Boekjaar\", values=\"Cumulatieve werkelijkekosten\", aggfunc=[\"sum\",\"count\"], margins=True))"
   ]
  },
  {
   "cell_type": "code",
   "execution_count": null,
   "metadata": {},
   "outputs": [],
   "source": [
    "# Functie om correctie voor ontbrekende productbladnummer en routinggroep te verwerken\n",
    "def correctie_productblad_routinggroep(row):\n",
    "    if str(row['Productblad']) == str(np.nan):\n",
    "        if str(row['TV_correctie']) != str(np.nan):\n",
    "            row['TV_correctie'] = row['TV_correctie'] + \" | Uitsluiting op basis van ontbreken productblad\"\n",
    "        else:\n",
    "            row['TV_correctie'] = \"Uitsluiting op basis van ontbreken productblad\"\n",
    "    if str(row['Routinggroep']) == str(np.nan):\n",
    "        if str(row['TV_correctie']) != str(np.nan):\n",
    "            row['TV_correctie'] = row['TV_correctie'] + \" | Uitsluiting op basis van ontbreken routinggroep\"\n",
    "        else:\n",
    "            row['TV_correctie'] = \"Uitsluiting op basis van ontbreken routinggroep\"\n",
    "    return row\n",
    "\n",
    "# Voer de functie uit voor het dataframe\n",
    "df_sa_regio = df_sa_regio.apply(func=correctie_productblad_routinggroep, axis=1)"
   ]
  },
  {
   "cell_type": "code",
   "execution_count": null,
   "metadata": {},
   "outputs": [],
   "source": [
    "# Controle van de verwerking van de correcties\n",
    "# Tijdelijke tabel maken voor leesbaarheid code en conversie van NaN-waarden naar \"string\"\n",
    "df_sa_geen_routinggroep = df_sa_regio[(df_sa_regio[\"Routinggroep\"].isna())].copy()\n",
    "df_sa_geen_routinggroep[\"TV_correctie\"] = df_sa_geen_routinggroep[\"TV_correctie\"].astype(str)    # Omzetten naar \"str\" neemt NaN-waarden mee\n",
    "print(len(df_sa_geen_routinggroep), \"regels hebben geen routinggroep.\")\n",
    "display(df_sa_geen_routinggroep.pivot_table(index=[\"TV_correctie\",\"RB: Opdrachtgever\"], columns=\"Boekjaar\", values=\"Cumulatieve werkelijkekosten\", aggfunc=[\"sum\",\"count\"], margins=True))"
   ]
  },
  {
   "cell_type": "markdown",
   "metadata": {},
   "source": [
    "<a id=\"TB\"></a>\n",
    "## SA-informatie voor Technisch Beheer"
   ]
  },
  {
   "cell_type": "markdown",
   "metadata": {},
   "source": [
    "TheoB:Het veld SA: Aantal in opdracht (na huidige periode) wordt bepaald op basis van de startdatum van de order wordt het aantal toegekend aan een maand en die meetwaarde toont dan alles dat na de opgegeven huidige periode valt.\n",
    "\n",
    "Theoretisch kan het dus voorkomen dat er orders zijn, die niet gereed zijn of niet in overloop/vervallen staan, die een startdatum van de order hebben die ligt voor de huidige periode.\n",
    "\n",
    "Daarom is de berekening vanuit de formule SA: Aantal in opdracht totaal -/- gereed gemeld -/- overloop/vervallen een betrouwbaarder meetwaarde."
   ]
  },
  {
   "cell_type": "markdown",
   "metadata": {},
   "source": [
    "<div class=\"alert alert-block alert-info\">\n",
    "Aanvullende informatie geeft aan dat de verantwoordelijke werkplek 8400/ABTB alleen maar wordt gebruikt voor technisch beheer. De boekingsregels die gerelateerd zijn aan deze werkplek worden in de vertaling van de verantwoordelijke werkplekken naar regio's ook gemarkeerd dat ze als correctie gezien moeten worden.<br>\n",
    "\n",
    "Technisch binnen SAP wordt er op contract+positie werkelijke kosten geboekt in combinatie met de verantwoordelijke werkplek 8400/ABTB. De zelfde contract+positie zonder verantwoordelijke werkplek 8400/ABTB geeft aan welke verwachtingscijfers er nog zijn voor de rest van het jaar.<br>\n",
    "\n",
    "Aanvullend zie je ook dat de verwachtingscijfers op een contract+positie voor opdrachtgever TenneT weer leiden tot 0 op het niveau van de contract+positie in combinatie met de werkelijke kosten. Dit komt omdat hier geen afspraak over is vastgelegd. In de afspraak met Liander is hier wel een bedrag over afgesproken, zodat je echte aanvullende verwachtingscijfers ziet op contract+positie in combinatie met verantwoordelijke werkplek #/# voor opdrachtgever Liander.\n",
    "    \n",
    "2021: Voor SA-informatie is er geen EJV meer te verdelen over P, M en D. Daarom heeft extrapolatie obv van EJV ook geen zin meer.\n",
    "</div>"
   ]
  },
  {
   "cell_type": "code",
   "execution_count": null,
   "metadata": {},
   "outputs": [],
   "source": [
    "# Welke boekingsregels bestaan er reeds voor de contract+posities met verantwoordelijke werkplek 8400/ABTB in huidig boekjaar?\n",
    "print(\"Voor de contractposities met verantwoordelijke werkplek 8400/ABTB in het huidige boekjaar betreft het onderstaande boekingsregels:\")\n",
    "display(df_sa[(df_sa[\"Verantw. werkplek\"] == \"8400/ABTB\") & (df_sa[\"Boekjaar\"] == str(huidig_boekjaar))])\n",
    "if df_sa[(df_sa[\"Verantw. werkplek\"] == \"8400/ABTB\")].groupby([\"TV_correctie\"]).sum().reset_index().shape[0] == 1:\n",
    "    print(\"\\nAlle contractposities met verantwoordelijke werkplek 8400/ATBT zijn voorzien van een correctiemelding:\")\n",
    "    display(df_sa[(df_sa[\"Verantw. werkplek\"] == \"8400/ABTB\") & (df_sa[\"Boekjaar\"] == str(huidig_boekjaar))].groupby([\"RB: Opdrachtgever\", \"TV_correctie\"]).sum().reset_index())"
   ]
  },
  {
   "cell_type": "code",
   "execution_count": null,
   "metadata": {},
   "outputs": [],
   "source": [
    "print(\"Het totaal van EJV in het huidige boekjaar is {0:,.2f}\".format(df_sa_regio.loc[df_sa_regio['Boekjaar'] == str(huidig_boekjaar)]['Cumulatieve werkelijkekosten'].sum()))"
   ]
  },
  {
   "cell_type": "markdown",
   "metadata": {},
   "source": [
    "<a id=\"Indexeren\"></a>\n",
    "## Indexeren en eventueel lineair extrapoleren\n",
    "\n",
    "<div class=\"alert alert-block alert-info\">\n",
    "Waardevelden in de boekjaren 2017 t/m 2019 die een bedrag vertegenwoordigen gaan we terugindexeren waarbij we 2020 zien als 100%. Verder gaan we op verzoek waardevelden in boekjaar 2020 extrapoleren om op bedragen uit te komen voor een heel jaar (zie ook variabele <code>aantal_maanden_meegenomen_in_2020</code> in combinatie met variable <code>extrapolatiemethode</code>).<br><br>\n",
    "\n",
    "Voorbeeld:<br>\n",
    "* Deltapercentage tussen 2019 en 2020 is +2,58%, dan zou een waarde van 100.00 in 2019 naar 102.58 teruggeindexeerd\n",
    " moeten worden.<br>\n",
    "* Deltapercentage tussen 2018 en 2019 is +1,75%, dan zou een waarde van 100.00 in 2018 eerst naar 102.58 teruggeindexeerd moeten worden (indexatie naar 2019) om vervolgens nog naar 104,38 teruggeindexeerd moeten worden.<br>\n",
    "    \n",
    "<s><b>N.B.</b> Over de materiaalkosten en dienstenkosten hebben we geen \"formele\" indexatiecijfers. Daarom indexeren we alle bedragen met de zelfde factoren, ook al zijn deze factoren berekend op basis van de personeelskosten.</s><br>\n",
    "\n",
    "Met de komst van de cijfers van BC hebben we formele indexatiecijfers!\n",
    "</div>"
   ]
  },
  {
   "cell_type": "markdown",
   "metadata": {},
   "source": [
    "**Voorbereiding indexeren en extrapoleren**"
   ]
  },
  {
   "cell_type": "code",
   "execution_count": null,
   "metadata": {},
   "outputs": [],
   "source": [
    "# Variabelen toevoegen om teruggeindexeerde waarden en extrapolatie op te kunnen slaan\n",
    "df_sa_regio[\"IND_werkelijke_kosten\"] = 0\n",
    "df_sa_regio[\"IND_personeelskosten\"] = 0\n",
    "df_sa_regio[\"IND_materiaalkosten\"] = 0\n",
    "df_sa_regio[\"IND_dienstenkosten\"] = 0\n",
    "df_sa_regio[\"IND_intercompanykosten\"] = 0\n",
    "df_sa_regio[\"IND_werkelijke_uren\"] = 0\n",
    "df_sa_regio[\"IND_Aantalgereedgemeld\"] = 0"
   ]
  },
  {
   "cell_type": "code",
   "execution_count": null,
   "metadata": {},
   "outputs": [],
   "source": [
    "# Voorbereiden op indexering\n",
    "# In onderstaande indexering worden de cijfers overgenomen zoals BC die heeft verstrekt. Niet de cijfers die we zelf\n",
    "# als deltapercentage hebben bepaald.\n",
    "#indexering_dict={}\n",
    "#indexering_dict[\"2017\"]=1*((100+delta_percentages[0])/100)*((100+delta_percentages[1])/100)*((100+delta_percentages[2])/100)\n",
    "#indexering_dict[\"2018\"]=1*((100+delta_percentages[1])/100)*((100+delta_percentages[2])/100)\n",
    "#indexering_dict[\"2019\"]=1*((100+delta_percentages[2])/100)\n",
    "#indexering_dict[\"2020\"]=(1/aantal_maanden_meegenomen_in_2020)*12    # Extrapoleren\n",
    "#print(\"De indexeringscijfers over de verschillende jaren zijn dus als volgt:\")\n",
    "#display(indexering_dict)"
   ]
  },
  {
   "cell_type": "markdown",
   "metadata": {},
   "source": [
    "**Cijfers van BC**\n",
    "\n",
    "Prijspeil CPI       | CPI Personeel | CPI Materialen | CPI Diensten\n",
    "---                 |---            |---             |---\n",
    "Prijspeil 2017>2020 | 1,119392505   | 1,040502       | 1,11576375\n",
    "Prijspeil 2018>2020 | 1,071189      | 1,0302         | 1,08855\n",
    "Prijspeil 2019>2020 | 1,029         | 1,020          | 1,062\n"
   ]
  },
  {
   "cell_type": "markdown",
   "metadata": {},
   "source": [
    "Marcel,\n",
    "\n",
    "De CPI gegevens voor 2021 zijn als volgt:\n",
    "•\tCPI Personeel            2%\n",
    "•\tCPI Materialen           1%\n",
    "•\tCPI Diensten              5%\n",
    "\n",
    "Bron: Targetbrief 2021_2025 Financial Control-Karel Frederiks\n",
    "\n",
    "Groet,\n",
    "Theo\n"
   ]
  },
  {
   "cell_type": "code",
   "execution_count": null,
   "metadata": {},
   "outputs": [],
   "source": [
    "# BC-cijfers opbouwen\n",
    "indexering_dict={}\n",
    "indexering_dict[\"2017\"]=(1.119392505, 1.040502, 1.11576375)\n",
    "indexering_dict[\"2018\"]=(1.071189, 1.0302, 1.08855)\n",
    "indexering_dict[\"2019\"]=(1.029, 1.020, 1.062)\n",
    "\n",
    "# Indexeringscijfers voor 2020:\n",
    "indexering_dict[\"2020\"]=(1.02, 1.01, 1.05)\n",
    "indexering_dict[\"2021\"]=(1, 1, 1)  # 2021 heeft nog geen indexering, dus allemaal * 1\n",
    "laatste_indexering = indexering_dict[\"2020\"]\n",
    "\n",
    "for bj in [\"2017\", \"2018\", \"2019\"]:\n",
    "    indexering_dict[bj]=( indexering_dict[bj][0] * laatste_indexering[0],\n",
    "                          indexering_dict[bj][1] * laatste_indexering[1],\n",
    "                          indexering_dict[bj][2] * laatste_indexering[2])\n",
    "\n",
    "# #Vervolgbewerking afhankelijk van extrapolatiemethode\n",
    "# if extrapolatiemethode == 1:\n",
    "#     # Ja, we willen extrapoleren op basis van lineariteit\n",
    "#     indexering_dict[str(huidig_boekjaar)]=((1/aantal_maanden_meegenomen_in_huidig_boekjaar)*12, \n",
    "#                                            (1/aantal_maanden_meegenomen_in_huidig_boekjaar)*12, \n",
    "#                                            (1/aantal_maanden_meegenomen_in_huidig_boekjaar)*12)    # Extrapoleren\n",
    "# else:\n",
    "#     indexering_dict[\"2020\"]=(1, 1, 1)    # Niet extrapoleren, hou de getallen gelijk\n",
    "\n",
    "# print(\"De indexeringscijfers over de verschillende jaren zijn dus als volgt:\")\n",
    "display(indexering_dict)"
   ]
  },
  {
   "cell_type": "markdown",
   "metadata": {},
   "source": [
    "**Indexering en extrapolatie uitvoeren**"
   ]
  },
  {
   "cell_type": "code",
   "execution_count": null,
   "metadata": {},
   "outputs": [],
   "source": [
    "# Maak een functie voor de indexering en extrapolatie\n",
    "# Dit is de oude indexeringsfunctie, deze wordt niet uitgevoerd.\n",
    "# def indexering_en_extrapolatie(row):\n",
    "#     \"\"\"Deze functie verzorgt de omrekening op basis van de factoren per boekjaar. De originele waardevelden worden\n",
    "#        niet aangepast, alleen de extra toegevoegde velden (die beginnen allemaal met 'IND_').\n",
    "#        Velden met aantallen worden niet met een factor aangepast, behalve de extrapolatiefactor voor 2020.\"\"\"\n",
    "#     # Vervolgbewerking afhankelijk of het boekjaar in de dictionary met factoren voor komt\n",
    "#     if row[\"Boekjaar\"] in indexering_dict:\n",
    "#         # Regel bevat een boekjaar wat in de dictionary voorkomt, voer de berekeningen uit\n",
    "#         factor = indexering_dict[row[\"Boekjaar\"]]\n",
    "#         row[\"IND_werkelijke_kosten\"] = row['Cumulatieve werkelijkekosten'] * factor\n",
    "#         row[\"IND_personeelskosten\"] = row['Personeelskostencumulatief'] * factor\n",
    "#         row[\"IND_materiaalkosten\"] = row['Materiaalkostencumulatief'] * factor\n",
    "#         row[\"IND_dienstenkosten\"] = row['Dienstenkostencumulatief'] * factor\n",
    "#         row[\"IND_intercompanykosten\"] = row['Intercompanykostencumulatief'] * factor\n",
    "#         # Vervolgbewerking afhankelijk van het boekjaar\n",
    "#         if row[\"Boekjaar\"] == '2020':\n",
    "#             # Boekjaar = 2020, we passen de extrapolatiefactor toe op de aantallen\n",
    "#             row[\"IND_werkelijke_uren\"] = row['Werkelijke urenTotaal'] * factor                # Alleen extrapolatie\n",
    "#             row[\"IND_Aantalgereedgemeld\"] = row['SA: Aantalgereedgemeld(totaal)'] * factor    # Alleen extrapolatie\n",
    "#         else:\n",
    "#             # Boekjaar <> 2020, we nemen de aantallen over zonder factor\n",
    "#             row[\"IND_werkelijke_uren\"] = row['Werkelijke urenTotaal']                         # Geen factor over aantallen\n",
    "#             row[\"IND_Aantalgereedgemeld\"] = row['SA: Aantalgereedgemeld(totaal)']             # Geen factor over aantallen\n",
    "#     else: # if row[\"Boekjaar\"] not in indexering_dict\n",
    "#         # Regel bevat geen boekjaar of een boekjaar wat niet in de dictionary zit. Dit mag niet voorkomen\n",
    "#         print(\"UITVAL:\",row)\n",
    "#     return row"
   ]
  },
  {
   "cell_type": "code",
   "execution_count": null,
   "metadata": {},
   "outputs": [],
   "source": [
    "# Deze wordt niet uitgevoerd\n",
    "# Voer bovenstaande functie uit op het dataframe\n",
    "#df_sa_regio = df_sa_regio.apply(func=indexering_en_extrapolatie, axis=1)\n",
    "#print(\"Indexering en extrapolatie is uitgevoerd!\")"
   ]
  },
  {
   "cell_type": "code",
   "execution_count": null,
   "metadata": {},
   "outputs": [],
   "source": [
    "def indexering_en_extrapolatie_BC(row):\n",
    "    \"\"\"Deze functie verzorgt de omrekening op basis van de factoren per boekjaar. De originele waardevelden worden\n",
    "       niet aangepast, alleen de extra toegevoegde velden (die beginnen allemaal met 'IND_').\n",
    "       Velden met aantallen worden niet met een factor aangepast, behalve de extrapolatiefactor voor 2020.\"\"\"\n",
    "    # Vervolgbewerking afhankelijk of het boekjaar in de dictionary met factoren voor komt\n",
    "    if row[\"Boekjaar\"] in indexering_dict:\n",
    "        # Regel bevat een boekjaar wat in de dictionary voorkomt, voer de berekeningen uit\n",
    "        factor = indexering_dict[row[\"Boekjaar\"]]\n",
    "        #row[\"IND_werkelijke_kosten\"] = row['Cumulatieve werkelijkekosten'] * factor[0]\n",
    "        row[\"IND_personeelskosten\"] = row['Personeelskostencumulatief'] * factor[0]\n",
    "        row[\"IND_materiaalkosten\"] = row['Materiaalkostencumulatief'] * factor[1]\n",
    "        row[\"IND_dienstenkosten\"] = row['Dienstenkostencumulatief'] * factor[2]\n",
    "        row[\"IND_intercompanykosten\"] = row['Intercompanykostencumulatief'] * factor[2]\n",
    "        row[\"IND_werkelijke_kosten\"] = ( row[\"IND_personeelskosten\"] + row[\"IND_materiaalkosten\"] + \n",
    "                                         row[\"IND_dienstenkosten\"] + row[\"IND_intercompanykosten\"] )\n",
    "#         print(( row[\"IND_personeelskosten\"] , row[\"IND_materiaalkosten\"] , \n",
    "#                                          row[\"IND_dienstenkosten\"] , row[\"IND_intercompanykosten\"], \"=\",\n",
    "#               ( float(row[\"IND_personeelskosten\"]) + float(row[\"IND_materiaalkosten\"]) + \n",
    "#                                          float(row[\"IND_dienstenkosten\"]) + float(row[\"IND_intercompanykosten\"]) ) ))\n",
    "        # Vervolgbewerking afhankelijk van het boekjaar\n",
    "        if row[\"Boekjaar\"] == '2020':\n",
    "            # Boekjaar = 2020, we passen de extrapolatiefactor ook toe op de aantallen\n",
    "            row[\"IND_werkelijke_uren\"] = row['Werkelijke urenTotaal'] * factor[0]                # Alleen extrapolatie\n",
    "            row[\"IND_Aantalgereedgemeld\"] = row['SA: Aantalgereedgemeld(totaal)'] * factor[0]    # Alleen extrapolatie\n",
    "        else:\n",
    "            # Boekjaar <> 2020, we nemen de aantallen over zonder factor\n",
    "            row[\"IND_werkelijke_uren\"] = row['Werkelijke urenTotaal']                         # Geen factor over aantallen\n",
    "            row[\"IND_Aantalgereedgemeld\"] = row['SA: Aantalgereedgemeld(totaal)']             # Geen factor over aantallen\n",
    "    else: # if row[\"Boekjaar\"] not in indexering_dict\n",
    "        # Regel bevat geen boekjaar of een boekjaar wat niet in de dictionary zit. Dit mag niet voorkomen\n",
    "        print(\"UITVAL:\",row)\n",
    "    return row"
   ]
  },
  {
   "cell_type": "code",
   "execution_count": null,
   "metadata": {},
   "outputs": [],
   "source": [
    "# Voer bovenstaande functie uit op het dataframe\n",
    "# Zorg eerst voor 0-waarden\n",
    "df_sa_regio.fillna(value={\"Cumulatieve werkelijkekosten\": 0, \n",
    "                          \"Personeelskostencumulatief\": 0, \n",
    "                          \"Materiaalkostencumulatief\": 0, \n",
    "                          \"Dienstenkostencumulatief\": 0, \n",
    "                          \"Intercompanykostencumulatief\": 0, \n",
    "                          \"Werkelijke urenTotaal\": 0, \n",
    "                          \"SA: Aantalgereedgemeld(totaal)\":0},inplace=True)\n",
    "# Voer nu de functie uit\n",
    "df_sa_regio = df_sa_regio.apply(func=indexering_en_extrapolatie_BC, axis=1)\n",
    "print(\"Indexering en extrapolatie is uitgevoerd!\")"
   ]
  },
  {
   "cell_type": "code",
   "execution_count": null,
   "metadata": {},
   "outputs": [],
   "source": [
    "# Oorspronkelijke waarden vergelijken met de nieuwe waarden\n",
    "print(\"Werkelijke kosten in het oorspronkelijk dataframe:\")\n",
    "display(df_sa.pivot_table(index=\"RB: Opdrachtgever\", columns=\"Boekjaar\", values=\"Cumulatieve werkelijkekosten\",\n",
    "                          aggfunc=\"sum\", margins=True))\n",
    "\n",
    "print(\"De indexeringscijfers over de verschillende jaren zijn:\")\n",
    "display(indexering_dict)\n",
    "\n",
    "# Vervolgbewerking afhankelijk van extrapolatiemethode\n",
    "if extrapolatiemethode == 2:\n",
    "    #Extrapolatiemethode is obv verwachtingscijfers\n",
    "    print(\"Extrapolatie op basis van verdeling van de verwachtingscijfers naar rato.\")\n",
    "    print(\"Hierdoor is bij de werkelijke kosten de resterende EJV-verwachtingscijfers toegevoegd.\")\n",
    "    print(\"Het totaal van de cumulatieve werkelijkekosten (incl resterende EJV) in het huidige boekjaar is {0:,.2f}\\n\".format(df_sa_regio.loc[df_sa_regio['Boekjaar']==huidig_boekjaar]['Cumulatieve werkelijkekosten'].sum()))\n",
    "\n",
    "print(\"Werkelijke kosten en geïndexeerde/geëxtrapoleerde kosten in het nieuwe dataframe:\")\n",
    "display(df_sa_regio.pivot_table(index=\"RB: Opdrachtgever\", columns=\"Boekjaar\", values=[\"Cumulatieve werkelijkekosten\",\n",
    "                          \"IND_werkelijke_kosten\"], aggfunc=\"sum\", margins=True))"
   ]
  },
  {
   "cell_type": "markdown",
   "metadata": {},
   "source": [
    "**Cijfers per jaar**"
   ]
  },
  {
   "cell_type": "code",
   "execution_count": null,
   "metadata": {},
   "outputs": [],
   "source": [
    "# Op welke velden willen we opbossen\n",
    "groupby_kolommen = ['Boekjaar', 'TV_correctie', 'RB: Opdrachtgever', 'RB: Business unit', 'TV_regio',\n",
    "       'Productblad', 'Productbladomschrijving','Functie', 'TV_werk']\n",
    "\n",
    "# Welke waardevelden nemen we mee\n",
    "groupby_waardevelden = ['Cumulatieve werkelijkekosten', 'Personeelskostencumulatief', 'Materiaalkostencumulatief',\n",
    "                        'Dienstenkostencumulatief', 'Intercompanykostencumulatief', 'Werkelijke urenTotaal',\n",
    "                        'SA: Aantalgereedgemeld(totaal)',\n",
    "                        \"IND_werkelijke_kosten\", \"IND_personeelskosten\", \"IND_materiaalkosten\",\n",
    "                        \"IND_dienstenkosten\", \"IND_intercompanykosten\", \"IND_werkelijke_uren\",\n",
    "                        \"IND_Aantalgereedgemeld\"]\n",
    "\n",
    "print(\"Benodigde velden zijn gedefinieerd voor verdere opbossing.\")"
   ]
  },
  {
   "cell_type": "code",
   "execution_count": null,
   "metadata": {},
   "outputs": [],
   "source": [
    "# We laten het nieuwe dataframe onbewerkt door er een kopie van te maken\n",
    "df_sa_regio_bewerkt = df_sa_regio.copy()\n",
    "\n",
    "# Voor een juiste cumulatie in de groupby is het nodig om in de groupby-kolommen de niet-aanwezige waarden om te zetten naar\n",
    "# een lege waarde\n",
    "for i in groupby_kolommen:\n",
    "    df_sa_regio_bewerkt[i] = df_sa_regio_bewerkt[i].replace(np.nan, '', regex=True)\n",
    "print(\"Omvang van het nieuwe dataframe:\",df_sa_regio.shape)\n",
    "print(\"Omvang van het kopie dataframe met lege waarden ipv niet-aanwezige waarden:\", df_sa_regio_bewerkt.shape)\n",
    "\n",
    "# Om verder te gaan met het Dashboard in SAP BusinessObjects maken we het dataframe zo compact mogelijk.\n",
    "# Grote dataframes maken SAP BusinessObjects erg traag.\n",
    "df_sa_compact = df_sa_regio_bewerkt.groupby(groupby_kolommen)[groupby_waardevelden].sum().reset_index()\n",
    "print(\"Omvang van het compacte dataframe:\",df_sa_compact.shape)"
   ]
  },
  {
   "cell_type": "code",
   "execution_count": null,
   "metadata": {
    "scrolled": false
   },
   "outputs": [],
   "source": [
    "# Oorspronkelijke waarden vergelijken met de waarden in het compacte dataframe\n",
    "print(\"Werkelijke kosten in het nieuwe dataframe:\")\n",
    "display(df_sa_regio.pivot_table(index=\"RB: Opdrachtgever\", columns=\"Boekjaar\", values=[\"Cumulatieve werkelijkekosten\",\n",
    "                          \"IND_werkelijke_kosten\"], aggfunc=\"sum\", margins=True))\n",
    "\n",
    "print(\"\\nWerkelijke kosten en geïndexeerde/geëxtrapoleerde kosten in het compacte dataframe:\")\n",
    "display(df_sa_compact.pivot_table(index=\"RB: Opdrachtgever\", columns=\"Boekjaar\", values=[\"Cumulatieve werkelijkekosten\",\n",
    "                          \"IND_werkelijke_kosten\"], aggfunc=\"sum\", margins=True))"
   ]
  },
  {
   "cell_type": "markdown",
   "metadata": {},
   "source": [
    "**Productbladomschrijvingen recht trekken**\n",
    "\n",
    "In november 2020 merkten we dat er een productblad was waarvan de productbladomschrijving was aangepast. Dit resulteert bij verder gebruik en/of concatenatie van productbladnummer met de productbladomschrijving dat je meerdere resultaten kreeg voor één en dezelfde key. Daarom wordt de omschrijving van het productblad gelijk getrokken over alle jaren heen met onderstaande code."
   ]
  },
  {
   "cell_type": "code",
   "execution_count": null,
   "metadata": {},
   "outputs": [],
   "source": [
    "# We doen onderstaande alleen voor de df_sa_compact-dataframe, omdat die verderop gebruikt wordt in de exports die naar de\n",
    "# rapportagetools gaan\n",
    "\n",
    "# Maak een dataframe van alleen de productbladnummers en hun omschrijvingen\n",
    "print(\"Omvang van df_sa_compact:\", df_sa_compact.shape)\n",
    "df_productbladomschrijving = df_sa_compact[[\"Productblad\",\"Productbladomschrijving\"]]\n",
    "print(\"Omvang van df_productbladomschrijving:\", df_productbladomschrijving.shape)\n",
    "\n",
    "# Weergave van enkele regels\n",
    "display(df_productbladomschrijving.head())\n",
    "\n",
    "# Ontdubbel waarbij de laatste (meest recente) omschrijving wordt bewaard (keep = \"last\")\n",
    "print(\"Nu ontdubbelen!\")\n",
    "df_productbladomschrijving = df_productbladomschrijving.drop_duplicates(subset=['Productblad'], keep='last', inplace=False, ignore_index=True).copy()\n",
    "print(\"Omvang van df_productbladomschrijving:\", df_productbladomschrijving.shape)\n",
    "display(df_productbladomschrijving.head())\n",
    "\n",
    "# Productbladomschrijvingen van dataframe naar een dictionary voor eenvoudiger zoeken\n",
    "dict_productbladomschrijving = df_productbladomschrijving.set_index('Productblad').to_dict(\"dict\")\n",
    "dict_productbladomschrijving = dict_productbladomschrijving[\"Productbladomschrijving\"]\n",
    "print(\"Aantal productbladregels in dictionary:\",len(dict_productbladomschrijving))\n",
    "\n",
    "print(\"Voorbeeld uit dictionary voor Productblad 142104:\",dict_productbladomschrijving[\"142104\"])\n",
    "\n",
    "# Verwerken omschrijving in dataframe df_sa_compact\n",
    "# Vervang eerst de productbladomschrijving door het productbladnummer\n",
    "df_sa_compact[\"Productbladomschrijving\"] = df_sa_compact[\"Productblad\"]\n",
    "# Gebruik daarna de dictionary om het productbladnummer te vervangen door de nieuwe omschrijving\n",
    "df_sa_compact[\"Productbladomschrijving\"].replace(to_replace=dict_productbladomschrijving, inplace=True)\n",
    "display(df_sa_compact.head())\n",
    "print(\"Omvang van df_sa_compact:\", df_sa_compact.shape)\n",
    "\n",
    "print(\"De productbladomschrijvingen zijn nu rechtgetrokken\")"
   ]
  },
  {
   "cell_type": "markdown",
   "metadata": {},
   "source": [
    "<a id=\"Excel\"></a>\n",
    "## Export naar Excel"
   ]
  },
  {
   "cell_type": "code",
   "execution_count": null,
   "metadata": {},
   "outputs": [],
   "source": [
    "# Exporteren van de bestanden naar Excel\n",
    "df_sa.to_excel(\"Originele samenvoeging van de Excelbestanden (2017-2020).xlsx\") # M.u.v. anonimisering medewerkeromschrijving\n",
    "df_sa_regio.to_excel(\"Detaillering met opsplitsing naar regio en indexering-extrapolatie.xlsx\")\n",
    "df_sa_compact.to_excel(\"PWC_SA.xlsx\", index_label=\"Index\") # Voor snelle verwerking in SAP BusinessObjects\n",
    "print(\"Bestanden zijn succesvol geëxporteerd\")"
   ]
  },
  {
   "cell_type": "markdown",
   "metadata": {},
   "source": [
    "<div class=\"alert alert-block alert-success\">\n",
    "<b>Beschrijving van de kolommen van het \"PWC_SA.xlsx\"-bestand:</b><br></div>\n",
    "\n",
    "* <b>Index</b>: Automatische nummering door pandas.\n",
    "* <b>Boekjaar</b>: Boekjaar van de boekingsdocumenten/vastleggingen in de administratie. Voor 2017 t/m 2020 is dit initieel uit SAP BW geëxporteerd. Enige aanpassing is omzetting naar 4 cijfers. Daarna is dit hard toegevoegd bij het inlezen van de HANA-informatie (2021 en verder).  \n",
    "* <b>TV_correctie</b>: Toegevoegd veld met de reden waarom een correctie uitgesloten wordt.  \n",
    "* <b>RB: Opdrachtgever</b>: Naam van de opdrachtgever, zoals uit SAP BW (2017-2020) of HANA (2021-) geëxporteerd.\n",
    "* <b>RB: Business unit</b>: Code van de businessunit, zoals uit SAP BW (2017-2020) of HANA (2021-) geëxporteerd.\n",
    "* <b>TV_regio</b>: Toegevoegd veld met de regio of landelijke unit, afgeleid van de verantwoordelijke werkplek uit SAP BW (2017-2020) of HANA (2021-).\n",
    "* <b>Productblad</b>: Productbladnummer van een gestandaard type werk, zoals uit SAP BW (2017-2020) of HANA (2021-) geëxporteerd.\n",
    "* <b>Productbladomschrijving</b>: Productbladomschrijving behorende bij het productbladnummer en geeft het gestandaardiseerde type werk aan, zoals uit SAP BW (2017-2020) of HANA (2021-) geëxporteerd.\n",
    "* <b>Functie</b>: Meest recente omschrijving functie van de medewerker zoals uit SAP geëxporteerd. Deze omschrijving heeft geen aanvullende letter zoals A, B, C of D, waarmee eventuele zwaartes worden aangegeven.\n",
    "* <b>TV_werk</b>: Toegevoegd veld waarmee we het werk classificeren als 'Uitvoering' of 'Voorbereiding of nazorg', gebaseerd o.a. op routinggroep van de SA-order en functie van de medewerker.\n",
    "* <b>Cumulatieve werkelijkekosten</b>: Alle werkelijke kosten zoals uit SAP BW (2017-2020) of HANA (2021-) geëxporteerd. Hierin zitten dus de hieronder genoemde personeelskosten, materiaalkosten, dienstenkosten en intercompanykosten.\n",
    "* <b>Personeelskostencumulatief</b>: Alle personeelskosten zoals uit SAP BW (2017-2020) of HANA (2021-) geëxporteerd.\n",
    "* <b>Materiaalkostencumulatief</b>: Alle materiaalkosten zoals uit SAP BW (2017-2020) of HANA (2021-) geëxporteerd.\n",
    "* <b>Dienstenkostencumulatief</b>: Alle dienstenkosten zoals uit SAP BW (2017-2020) of HANA (2021-) geëxporteerd.\n",
    "* <b>Intercompanykostencumulatief</b>: Alle intercompanykosten zoals uit SAP BW (2017-2020) of HANA (2021-) geëxporteerd.\n",
    "* <b>Werkelijke urenTotaal</b>: Het aantal geboekte werkelijke uren zoals uit SAP BW (2017-2020) of HANA (2021-) geëxporteerd.\n",
    "* <b>SA: Aantalgereedgemeld(totaal)</b>: Het aantal gereedgemelde SA-orders zoals uit SAP BW (2017-2020) of HANA (2021-) geëxporteerd.\n",
    "* <b>IND_werkelijke_kosten</b>: Geïndexeerde werkelijke kosten (2017-vorige boekjaar) of niet-geïndexeerde werkelijke kosten (huidig boekjaar)\n",
    "* <b>IND_personeelskosten</b>: Geïndexeerde personeelskosten (2017-vorige boekjaar) of niet-geïndexeerde personeelskosten (huidig boekjaar)\n",
    "* <b>IND_materiaalkosten</b>: Geïndexeerde materiaalkosten (2017-vorige boekjaar) of niet-geïndexeerde materiaalkosten (huidig boekjaar)\n",
    "* <b>IND_dienstenkosten</b>: Geïndexeerde dienstenkosten (2017-vorige boekjaar) of niet-geïndexeerde dienstenkosten (huidig boekjaar)\n",
    "* <b>IND_intercompanykosten</b>: Geïndexeerde intercompanykosten (2017-vorige boekjaar) of niet-geïndexeerde intercompanykosten (huidig boekjaar)\n",
    "* <b>IND_werkelijke_uren</b>: Werkelijke uren uit SAP BW (2017-2020) of HANA (2021-)\n",
    "* <b>IND_Aantalgereedgemeld</b>: Aantal gereedgemeld uit SAP BW (2017-2020) of HANA (2021-)"
   ]
  },
  {
   "cell_type": "code",
   "execution_count": null,
   "metadata": {},
   "outputs": [],
   "source": [
    "# Aan het eind het Excelbestand en PDF van Jupyter-notebook delen met Martijn Geerding (PWC), \n",
    "# cc Rianne ten Cate (PWC) (rianne.ten.cate@pwc.com), cc Bastiaan de Bruijn (Qirion), cc Theo Boomsma (Qirion)"
   ]
  },
  {
   "cell_type": "markdown",
   "metadata": {},
   "source": [
    "Wil je meer weten over Jupyter-notebooks?\n",
    "* In één minuut een introductie van Jupyter-notebooks: https://www.youtube.com/watch?v=eJDxcR1V7Qg (What are Jupyter Notebooks).\n",
    " [![Img AltText](http://img.youtube.com/vi/eJDxcR1V7Qg/0.jpg)](https://youtu.be/eJDxcR1V7Qg \"What are Jupyter Notebooks\")\n",
    "* In onderstaande gratis training vind je in module 2 een tweetal video's over de Jupyter-notebook. Het bekijken hiervan kost nog geen 10 minuten: https://cognitiveclass.ai/courses/data-science-hands-open-source-tools-2"
   ]
  },
  {
   "cell_type": "markdown",
   "metadata": {},
   "source": [
    "<a id=\"Ana1\"></a>\n",
    "## Analyse 1: Werkelijke kosten en aantal gereedgemeld verdeeld over de boekjaren"
   ]
  },
  {
   "cell_type": "code",
   "execution_count": null,
   "metadata": {},
   "outputs": [],
   "source": [
    "# Kopie maken voor verdere bewerking of analyse\n",
    "df = df_sa_compact.copy()\n",
    "\n",
    "# Productbladcode en Productbladomschrijving in één veld\n",
    "df[\"Productblad_met_omschrijving\"] = df[\"Productblad\"]+\" - \"+df[\"Productbladomschrijving\"]\n",
    "\n",
    "df.info()"
   ]
  },
  {
   "cell_type": "code",
   "execution_count": null,
   "metadata": {
    "scrolled": false
   },
   "outputs": [],
   "source": [
    "# Lege productbladen niet meenemen\n",
    "print(\"Onderstaande waarde van lege productbladen wordt niet meegenomen:\")\n",
    "display(df[df[\"Productblad\"]==\"\"].pivot_table(index=[\"Productblad_met_omschrijving\", \"TV_correctie\"], columns=\"Boekjaar\", \n",
    "                          values=[\"Cumulatieve werkelijkekosten\",\"SA: Aantalgereedgemeld(totaal)\"], \n",
    "                          aggfunc=\"sum\", margins=True))"
   ]
  },
  {
   "cell_type": "markdown",
   "metadata": {},
   "source": [
    "**Analyse van productbladen op basis van cumulatieve werkelijkekosten per productblad per boekjaar**"
   ]
  },
  {
   "cell_type": "code",
   "execution_count": null,
   "metadata": {},
   "outputs": [],
   "source": [
    "# Cumulatieve werkelijkekosten van niet-lege productbladen wordt wel meegenomen\n",
    "df_pb = df[df[\"Productblad\"]!=\"\"].pivot_table(index=\"Productblad_met_omschrijving\", columns=\"Boekjaar\", \n",
    "                          values=\"Cumulatieve werkelijkekosten\",\n",
    "                          aggfunc=\"sum\")\n",
    "print(\"Er zijn\",df_pb.shape[0], \"productbladen met een totale Cumulatieve werkelijkekosten van: {0:,.2f}\".format(df_pb[\"2017\"].sum()+df_pb[\"2018\"].sum()+df_pb[\"2019\"].sum()+df_pb[\"2020\"].sum()))\n",
    "\n",
    "# Vervang 0-waarden door waarde 'niet-bekend (nan)'.\n",
    "df_pb.replace(to_replace=0, value=np.nan, inplace=True)\n",
    "print(\"\\nIndien een productblad in een boekjaar een 0-waarde heeft als Cumulatieve werkelijkekosten,\\nwordt deze als 'niet-bekend' meegenomen in onderstaande telling.\")\n",
    "print(\"Onderstaand het aantal niet-bekende productbladen per boekjaar (van uit die\",df_pb.shape[0],\"productbladen):\")\n",
    "df_pb.isna().sum().to_frame(name=\"Aantal niet-bekende productbladen\")"
   ]
  },
  {
   "cell_type": "code",
   "execution_count": null,
   "metadata": {},
   "outputs": [],
   "source": [
    "# Maak een functie om de volledigheid te controleren\n",
    "def check_volledigheid(row):\n",
    "    \"\"\"Controleer voor welke jaren er informatie aanwezig is per productblad.\n",
    "       Veld 'Volledigheid' dient vooraf aanwezig te zijn.\n",
    "       De letter 'X' geeft aan of er voor dat jaar informatie aanwezig is.\n",
    "       Een minteken '-' geeft aan dat er voor dat jaar geen informatie aanwezig is (of dat de waarde gelijk is aan 0).\"\"\"\n",
    "    x = \"XXXX\"\n",
    "    for i,yyyy in enumerate(['2017', '2018', '2019', '2020']):\n",
    "        if str(row[yyyy])==str(np.nan):\n",
    "            x = x[:i] + \"-\" + x[i + 1:]\n",
    "#        elif float(row[yyyy])==float(0.0):        # Controle op 0-waarden toegevoegd dd 27-aug-2020\n",
    "#            x = x[:i] + \"-\" + x[i + 1:]\n",
    "    row[\"Volledigheid\"] = x\n",
    "    return row\n",
    "print(\"Functie geactiveerd\")"
   ]
  },
  {
   "cell_type": "code",
   "execution_count": null,
   "metadata": {},
   "outputs": [],
   "source": [
    "# Definieer extra veld\n",
    "df_pb[\"Volledigheid\"] = \"\"\n",
    "# Voer nu de functie uit\n",
    "df_pb = df_pb.apply(func=check_volledigheid, axis=1)\n",
    "print(\"Volledigheidscontrole is uitgevoerd!\")"
   ]
  },
  {
   "cell_type": "code",
   "execution_count": null,
   "metadata": {},
   "outputs": [],
   "source": [
    "# Voorbeeld van de kolom Volledigheid\n",
    "df_pb.head()"
   ]
  },
  {
   "cell_type": "code",
   "execution_count": null,
   "metadata": {},
   "outputs": [],
   "source": [
    "# Extra modules importeren voor grafische weergave\n",
    "import seaborn as sns\n",
    "import matplotlib.pyplot as plt\n",
    "\n",
    "# Haal de draaitabel uit elkaar met de jaren 2017 tm 2020 in de kolom Boekjaar en de waarden als Cumulatieve werkelijkekosten\n",
    "df_pb_melt =pd.melt(df_pb.reset_index()#.fillna(value=0) \n",
    "                    ,id_vars=['Productblad_met_omschrijving', 'Volledigheid'], \n",
    "                    value_vars=['2017', '2018', '2019', '2020'],\n",
    "                    var_name=\"Boekjaar\", value_name=\"Cumulatieve werkelijkekosten\")\n",
    "\n",
    "# Aggregeer de aantallen op volledigheid en geef ze weer over de boekjaren\n",
    "piv1 = pd.pivot_table(df_pb_melt, index=[\"Volledigheid\"], \n",
    "                            columns=\"Boekjaar\", \n",
    "                            values=\"Cumulatieve werkelijkekosten\",\n",
    "                            aggfunc=\"count\",\n",
    "                            fill_value=0)\n",
    "# Aggregeer de aantallen op volledigheid\n",
    "piv2 = pd.pivot_table(df_pb.reset_index(), index=[\"Volledigheid\"], \n",
    "                            #columns=['2017', '2018', '2019', '2020'], \n",
    "                            #columns=\"Boekjaar\", \n",
    "                            values=\"Productblad_met_omschrijving\",\n",
    "                            aggfunc=\"count\",\n",
    "                            fill_value=0)\n",
    "\n",
    "print(\"In de kolom volledigheid kan je zien welke jaren gevuld zijn.\\n\",\n",
    "      \"De vier X-karakters staan achtereenvolgens voor 2017, 2018, 2019 en 2020.\")\n",
    "print(\"---X staat voor 2020 alleen. X-XX staat voor 2017, niets, 2019 en 2020.\")\n",
    "\n",
    "f, ax = plt.subplots(figsize=(15, 6))\n",
    "sns.heatmap(piv1, annot=True,fmt=\"d\",linewidths=.5, cmap=\"Blues\",ax=ax)\n",
    "plt.setp(ax.yaxis.get_majorticklabels(), rotation=0, fontname=\"Courier New\", fontsize=20)\n",
    "ax.title.set_text(\"Aantal productbladen per volledigheid op basis van aanwezigheid 'Cumulatieve werkelijkekosten'\")\n",
    "plt.show()\n",
    "print(\"NB: Er zijn\",df_pb[df_pb[\"Volledigheid\"]==\"----\"].shape[0], \"productbladen die niet gevuld zijn in de aanwezige boekjaren (hierboven niet zichtbaar in de rij '----').\")"
   ]
  },
  {
   "cell_type": "code",
   "execution_count": null,
   "metadata": {},
   "outputs": [],
   "source": [
    "# Aggregeer de waarde op volledigheid\n",
    "piv3 = df_pb.reset_index().fillna(value=0)\n",
    "piv3[\"Totaal\"] = piv3[\"2017\"]+piv3[\"2018\"]+piv3[\"2019\"]+piv3[\"2020\"]\n",
    "piv3 = pd.pivot_table(piv3, index=[\"Volledigheid\"], \n",
    "                            #columns=['2017', '2018', '2019', '2020'], \n",
    "                            #columns=\"Boekjaar\", \n",
    "                            values=\"Totaal\",\n",
    "                            aggfunc=\"sum\",\n",
    "                            fill_value=0)\n",
    "\n",
    "print(\"Onderstaande verdeling is op basis van de aanwezigheid van cumulatieve werkelijkekosten (ongelijk 0) in een boekjaar:\")\n",
    "# Geef zowel de aantallen als de gerelateerde cumulatieve kosten weer per volledigheid\n",
    "fig, [ax1, ax2] = plt.subplots(nrows=1, ncols=2,figsize=(15, 6))\n",
    "sns.heatmap(piv2, annot=True,fmt=\"d\",linewidths=.5, cmap=\"Blues\",ax=ax1)\n",
    "sns.heatmap(piv3, annot=True,fmt=\"1.1f\",linewidths=.5, cmap=\"Blues\",ax=ax2)\n",
    "plt.setp(ax1.yaxis.get_majorticklabels(), rotation=0, fontname=\"Courier New\", fontsize=20)\n",
    "plt.setp(ax2.yaxis.get_majorticklabels(), rotation=0, fontname=\"Courier New\", fontsize=20)\n",
    "ax1.title.set_text('Aantal productbladen per volledigheid op basis van kosten')\n",
    "plt.setp(ax1, xlabel=str(piv2[\"Productblad_met_omschrijving\"].sum())+\" productbladen\")\n",
    "plt.setp(ax2, xlabel=\"{0:,.2f}\".format(piv3[\"Totaal\"].sum())+\" EUR\")\n",
    "ax2.title.set_text('Kosten per volledigheid op basis van kosten')\n",
    "for t in ax2.texts:\n",
    "    t.set_text('{0:,.2f}'.format(float(t.get_text())))\n",
    "plt.show()"
   ]
  },
  {
   "cell_type": "code",
   "execution_count": null,
   "metadata": {},
   "outputs": [],
   "source": [
    "piv2a = piv2.reset_index()[(piv2.reset_index()[\"Volledigheid\"].str.startswith(\"X\")) & (piv2.reset_index()[\"Volledigheid\"].str.endswith(\"X\"))] #[[\"Volledigheid\",\"Productblad_met_omschrijving\"]]\n",
    "piv2a.columns.name = \"index\"\n",
    "print(\"Aantal productbladen aanwezig in 2017 en in 2020:\",\n",
    "      piv2a[\"Productblad_met_omschrijving\"].sum(), \n",
    "      \"van totaal aantal productbladen\",\n",
    "      piv2[\"Productblad_met_omschrijving\"].sum(), \n",
    "      \"( = {0:.1f}% )\".format((float(piv2a[\"Productblad_met_omschrijving\"].sum())/float(piv2[\"Productblad_met_omschrijving\"].sum()))*100))\n",
    "display(piv2a)"
   ]
  },
  {
   "cell_type": "code",
   "execution_count": null,
   "metadata": {},
   "outputs": [],
   "source": [
    "piv3a = piv3.reset_index()[(piv2.reset_index()[\"Volledigheid\"].str.startswith(\"X\")) & (piv2.reset_index()[\"Volledigheid\"].str.endswith(\"X\"))] #[[\"Volledigheid\",\"Productblad_met_omschrijving\"]]\n",
    "piv3a.columns.name = \"index\"\n",
    "print(\"Werkelijke kosten van productbladen aanwezig in 2017 en in 2020: {0:,.2f}\".format(piv3a[\"Totaal\"].sum()), \n",
    "      \"van totaal werkelijke kosten van alle productbladen {0:,.2f}\".format(piv3[\"Totaal\"].sum()),\n",
    "      \"( = {0:.1f}% )\".format((float(piv3a[\"Totaal\"].sum())/float(piv3[\"Totaal\"].sum()))*100))\n",
    "display(piv3a)"
   ]
  },
  {
   "cell_type": "markdown",
   "metadata": {},
   "source": [
    "**Analyse van productbladen op basis van aantal gereedgemeld per productblad per boekjaar**"
   ]
  },
  {
   "cell_type": "code",
   "execution_count": null,
   "metadata": {},
   "outputs": [],
   "source": [
    "# Aantal gereedgemeld van niet-lege productbladen wordt wel meegenomen\n",
    "df_pba = df[df[\"Productblad\"]!=\"\"].pivot_table(index=\"Productblad_met_omschrijving\", columns=\"Boekjaar\", \n",
    "                          values=\"SA: Aantalgereedgemeld(totaal)\",\n",
    "                          aggfunc=\"sum\")\n",
    "print(\"Er zijn\",df_pba.shape[0], \"productbladen met een totale gereedgemelde aantallen van:\", df_pba[\"2017\"].sum()+df_pba[\"2018\"].sum()+df_pba[\"2019\"].sum()+df_pba[\"2020\"].sum())\n",
    "\n",
    "# Vervang 0-waarden door waarde 'niet-bekend (nan)'.\n",
    "df_pba.replace(to_replace=0, value=np.nan, inplace=True)\n",
    "print(\"\\nIndien een productblad in een boekjaar een 0-waarde als aantal gereedgemeld heeft, wordt deze als 'niet-bekend' meegenomen in onderstaande telling.\")\n",
    "\n",
    "print(\"Onderstaand het aantal niet-bekende productbladen per boekjaar (van uit die\",df_pba.shape[0],\"productbladen):\")\n",
    "df_pba.isna().sum().to_frame(name=\"Aantal niet-bekende productbladen\")"
   ]
  },
  {
   "cell_type": "code",
   "execution_count": null,
   "metadata": {},
   "outputs": [],
   "source": [
    "# Definieer extra veld\n",
    "df_pba[\"Volledigheid\"] = \"\"\n",
    "# Voer nu de functie uit\n",
    "df_pba = df_pba.apply(func=check_volledigheid, axis=1)\n",
    "print(\"Volledigheidscontrole is uitgevoerd!\")"
   ]
  },
  {
   "cell_type": "code",
   "execution_count": null,
   "metadata": {},
   "outputs": [],
   "source": [
    "# Haal de draaitabel uit elkaar met de jaren 2017 tm 2020 in de kolom Boekjaar en de waarden als Cumulatieve werkelijkekosten\n",
    "df_pba_melt =pd.melt(df_pba.reset_index(), id_vars=['Productblad_met_omschrijving', 'Volledigheid'], \n",
    "                    value_vars=['2017', '2018', '2019', '2020'],\n",
    "                    var_name=\"Boekjaar\", value_name=\"Gereedgemelde aantallen\")\n",
    "\n",
    "# Aggregeer de aantallen op volledigheid en geef ze weer over de boekjaren\n",
    "piva1 = pd.pivot_table(df_pba_melt, index=[\"Volledigheid\"], \n",
    "                            columns=\"Boekjaar\", \n",
    "                            values=\"Gereedgemelde aantallen\",\n",
    "                            aggfunc=\"count\",\n",
    "                            fill_value=0)\n",
    "# Aggregeer de aantallen op volledigheid\n",
    "piva2 = pd.pivot_table(df_pba.reset_index(), index=[\"Volledigheid\"], \n",
    "                            #columns=['2017', '2018', '2019', '2020'], \n",
    "                            #columns=\"Boekjaar\", \n",
    "                            values=\"Productblad_met_omschrijving\",\n",
    "                            aggfunc=\"count\",\n",
    "                            fill_value=0)\n",
    "\n",
    "print(\"In de kolom volledigheid kan je zien welke jaren gevuld zijn. De vier X-karakters staan achtereenvolgens voor 2017, 2018, 2019 en 2020.\")\n",
    "print(\"---X staat voor 2020 alleen. X-XX staat voor 2017, niets, 2019 en 2020.\")\n",
    "\n",
    "f, ax = plt.subplots(figsize=(15, 6))\n",
    "sns.heatmap(piva1, annot=True,fmt=\"d\",linewidths=.5, cmap=\"Blues\",ax=ax)\n",
    "plt.setp(ax.yaxis.get_majorticklabels(), rotation=0, fontname=\"Courier New\", fontsize=20)\n",
    "ax.title.set_text(\"Aantal productbladen per volledigheid op basis van aanwezigheid 'aantal gereedgemeld'\")\n",
    "plt.show()\n",
    "print(\"NB: Er zijn\",df_pba[df_pba[\"Volledigheid\"]==\"----\"].shape[0], \"productbladen die niet gevuld zijn in de aanwezige boekjaren (hierboven niet zichtbaar in de rij '----').\")"
   ]
  },
  {
   "cell_type": "code",
   "execution_count": null,
   "metadata": {},
   "outputs": [],
   "source": [
    "df_pba = df_pba.merge(df_pb, how='left', left_index=True, right_index=True, suffixes=('_aantal', '_waarde'), copy=True, indicator=False, validate=None)\n"
   ]
  },
  {
   "cell_type": "code",
   "execution_count": null,
   "metadata": {},
   "outputs": [],
   "source": [
    "# Aggregeer de waarde op volledigheid\n",
    "piva3 = df_pba.reset_index().fillna(value=0)\n",
    "piva3[\"Totaal\"] = piva3[\"2017_waarde\"]+piva3[\"2018_waarde\"]+piva3[\"2019_waarde\"]+piva3[\"2020_waarde\"]\n",
    "piva3 = pd.pivot_table(piva3, index=[\"Volledigheid_aantal\"], \n",
    "                            #columns=['2017', '2018', '2019', '2020'], \n",
    "                            #columns=\"Boekjaar\", \n",
    "                            values=\"Totaal\",\n",
    "                            aggfunc=\"sum\",\n",
    "                            fill_value=0)\n",
    "\n",
    "# Geef zowel de aantallen als de gerelateerde cumulatieve kosten weer per volledigheid\n",
    "fig, [ax1, ax2] = plt.subplots(nrows=1, ncols=2,figsize=(15, 6))\n",
    "sns.heatmap(piva2, annot=True,fmt=\"d\",linewidths=.5, cmap=\"Blues\",ax=ax1)\n",
    "sns.heatmap(piva3, annot=True,fmt=\"1.1f\",linewidths=.5, cmap=\"Blues\",ax=ax2)\n",
    "plt.setp(ax1.yaxis.get_majorticklabels(), rotation=0, fontname=\"Courier New\", fontsize=20)\n",
    "plt.setp(ax2.yaxis.get_majorticklabels(), rotation=0, fontname=\"Courier New\", fontsize=20)\n",
    "ax1.title.set_text('Aantal productbladen per volledigheid op basis van aantal gereedgemeld')\n",
    "plt.setp(ax1, xlabel=str(piva2[\"Productblad_met_omschrijving\"].sum())+\" productbladen\")\n",
    "plt.setp(ax2, xlabel=\"{0:,.2f}\".format(piva3[\"Totaal\"].sum())+\" EUR\")\n",
    "ax2.title.set_text('Kosten per volledigheid op basis van aantal gereedgemeld')\n",
    "for t in ax2.texts:\n",
    "    t.set_text('{0:,.2f}'.format(float(t.get_text())))\n",
    "plt.show()"
   ]
  },
  {
   "cell_type": "code",
   "execution_count": null,
   "metadata": {},
   "outputs": [],
   "source": [
    "piva2a = piva2.reset_index()[(piva2.reset_index()[\"Volledigheid\"].str.startswith(\"X\")) & (piva2.reset_index()[\"Volledigheid\"].str.endswith(\"X\"))] #[[\"Volledigheid\",\"Productblad_met_omschrijving\"]]\n",
    "piva2a.columns.name = \"index\"\n",
    "print(\"Aantal productbladen aanwezig in 2017 en in 2020:\",\n",
    "      piva2a[\"Productblad_met_omschrijving\"].sum(), \n",
    "      \"van totaal aantal productbladen\",\n",
    "      piva2[\"Productblad_met_omschrijving\"].sum(), \n",
    "      \"( = {0:.1f}% )\".format((float(piva2a[\"Productblad_met_omschrijving\"].sum())/float(piva2[\"Productblad_met_omschrijving\"].sum()))*100))\n",
    "display(piva2a)"
   ]
  },
  {
   "cell_type": "code",
   "execution_count": null,
   "metadata": {},
   "outputs": [],
   "source": [
    "piva3a = piva3.reset_index()[(piva2.reset_index()[\"Volledigheid\"].str.startswith(\"X\")) & (piva2.reset_index()[\"Volledigheid\"].str.endswith(\"X\"))] #[[\"Volledigheid\",\"Productblad_met_omschrijving\"]]\n",
    "piva3a.columns.name = \"index\"\n",
    "print(\"Werkelijke kosten van productbladen aanwezig in 2017 en in 2020: {0:,.2f}\".format(piva3a[\"Totaal\"].sum()), \n",
    "      \"van totaal werkelijke kosten van alle productbladen {0:,.2f}\".format(piva3[\"Totaal\"].sum()),\n",
    "      \"( = {0:.1f}% )\".format((float(piva3a[\"Totaal\"].sum())/float(piva3[\"Totaal\"].sum()))*100))\n",
    "display(piva3a)"
   ]
  },
  {
   "cell_type": "markdown",
   "metadata": {},
   "source": [
    "**Welke productbladen hebben wel kosten, maar geen aantallen?**"
   ]
  },
  {
   "cell_type": "code",
   "execution_count": null,
   "metadata": {},
   "outputs": [],
   "source": [
    "# Vul de nan-velden in de waarde-kolommen. Dit is nodig om een totaalkolom toe te voegen\n",
    "df_pba.fillna(value={'2017_waarde':0, '2018_waarde':0, '2019_waarde':0, '2020_waarde':0}, inplace=True)\n",
    "# Voeg totaalkolom toe\n",
    "df_pba[\"Totaalwaarde\"]=df_pba['2017_waarde'] + df_pba['2018_waarde'] + df_pba['2019_waarde'] + df_pba['2020_waarde']\n",
    "# Beschrijf samenvatting hiervan\n",
    "print(\"Er zijn\", df_pba.loc[df_pba[\"Volledigheid_aantal\"]==\"----\"].shape[0],\"productbladen zonder aantallen.\",\n",
    "      \"Hierop staat een totaalwaarde van {0:,.2f}\".format(df_pba[\"Totaalwaarde\"].loc[df_pba[\"Volledigheid_aantal\"]==\"----\"].sum()),\"EUR op.\")"
   ]
  },
  {
   "cell_type": "code",
   "execution_count": null,
   "metadata": {},
   "outputs": [],
   "source": [
    "# Geef overzicht van deze productbladen met hun totaalwaarde\n",
    "df_pba[['2017_aantal', '2018_aantal', '2019_aantal', '2020_aantal',\n",
    "       'Volledigheid_aantal', 'Volledigheid_waarde', 'Totaalwaarde']].loc[df_pba[\"Volledigheid_aantal\"]==\"----\"]"
   ]
  },
  {
   "cell_type": "markdown",
   "metadata": {},
   "source": [
    "**Welke productbladen hebben wel kosten in alle jaren, maar geen aantallen in alle jaren?**"
   ]
  },
  {
   "cell_type": "code",
   "execution_count": null,
   "metadata": {},
   "outputs": [],
   "source": [
    "# Beschrijf samenvatting hiervan\n",
    "print(\"Er zijn\", df_pba.loc[(df_pba[\"Volledigheid_aantal\"]!=\"XXXX\") & (df_pba[\"Volledigheid_waarde\"]==\"XXXX\")].shape[0],\"productbladen zonder aantallen in alle jaren.\",\n",
    "      \"Hierop staat een totaalwaarde van {0:,.2f}\".format(df_pba[\"Totaalwaarde\"].loc[(df_pba[\"Volledigheid_aantal\"]!=\"XXXX\") & (df_pba[\"Volledigheid_waarde\"]==\"XXXX\")].sum()),\"EUR op.\")"
   ]
  },
  {
   "cell_type": "code",
   "execution_count": null,
   "metadata": {},
   "outputs": [],
   "source": [
    "df_pba[['2017_aantal', '2018_aantal', '2019_aantal', '2020_aantal',\n",
    "       'Volledigheid_aantal', 'Volledigheid_waarde', 'Totaalwaarde']].loc[(df_pba[\"Volledigheid_aantal\"]!=\"XXXX\") & (df_pba[\"Volledigheid_waarde\"]==\"XXXX\")]"
   ]
  },
  {
   "cell_type": "code",
   "execution_count": null,
   "metadata": {},
   "outputs": [],
   "source": [
    "# Maak een \"Volledigheid_totaal\"-kolom en plaats daarin de volledigheid van de waarde en de volledigheid van de aantallen\n",
    "df_pba[\"Volledigheid_totaal\"]=df_pba['Volledigheid_waarde'] + \" : \" + df_pba['Volledigheid_aantal']"
   ]
  },
  {
   "cell_type": "code",
   "execution_count": null,
   "metadata": {},
   "outputs": [],
   "source": [
    "# Aggregeer de waarde op volledigheid\n",
    "pivaw3 = df_pba.reset_index().fillna(value=0)\n",
    "pivaw3[\"Totaal\"] = pivaw3[\"2017_waarde\"]+pivaw3[\"2018_waarde\"]+pivaw3[\"2019_waarde\"]+pivaw3[\"2020_waarde\"]\n",
    "pivaw3 = pd.pivot_table(pivaw3, index=[\"Volledigheid_totaal\"], \n",
    "                            #columns=['2017', '2018', '2019', '2020'], \n",
    "                            #columns=\"Boekjaar\", \n",
    "                            values=\"Totaal\",\n",
    "                            aggfunc=\"sum\",\n",
    "                            fill_value=0)\n",
    "\n",
    "# Aggregeer de aantallen op volledigheid\n",
    "pivaw2 = pd.pivot_table(df_pba.reset_index(), index=[\"Volledigheid_totaal\"], \n",
    "                            #columns=['2017', '2018', '2019', '2020'], \n",
    "                            #columns=\"Boekjaar\", \n",
    "                            values=\"Productblad_met_omschrijving\",\n",
    "                            aggfunc=\"count\",\n",
    "                            fill_value=0)\n",
    "\n",
    "print(\"In de kolom Volledigheid_totaal zie je 2 groepjes van 4 karakters.\")\n",
    "print(\"In het eerste groepje kan je zien in welke jaren een waarde gevuld is.\\nDe vier X-karakters staan achtereenvolgens voor 2017, 2018, 2019 en 2020.\")\n",
    "print(\"Het tweede groepje (achter het :-teken) laat zien in welke jaren het aantal gereedgemeld gevuld is.\")\n",
    "print(\"---X staat voor 2020 alleen. X-XX staat voor 2017, niets, 2019 en 2020.\")\n",
    "\n",
    "\n",
    "# Geef zowel de aantallen als de gerelateerde cumulatieve kosten weer per volledigheid\n",
    "fig, [ax1, ax2] = plt.subplots(nrows=1, ncols=2,figsize=(15, 15))\n",
    "#fig, ax2 = plt.subplots(nrows=1, ncols=1,figsize=(15, 15))\n",
    "sns.heatmap(pivaw2, annot=True,fmt=\"d\",linewidths=.5, cmap=\"Blues\",ax=ax1)\n",
    "sns.heatmap(pivaw3, annot=True,fmt=\"1.1f\",linewidths=.5, cmap=\"Blues\",ax=ax2)\n",
    "plt.setp(ax1.yaxis.get_majorticklabels(), rotation=0, fontname=\"Courier New\", fontsize=20)\n",
    "plt.setp(ax2.yaxis.get_majorticklabels(), rotation=0, fontname=\"Courier New\", fontsize=20)\n",
    "ax1.title.set_text('Aantal productbladen per volledigheid op waarde : aantal')\n",
    "plt.setp(ax1, xlabel=str(pivaw2[\"Productblad_met_omschrijving\"].sum())+\" productbladen\")\n",
    "plt.setp(ax2, xlabel=\"{0:,.2f}\".format(pivaw3[\"Totaal\"].sum())+\" EUR\")\n",
    "ax2.title.set_text('Kosten per volledigheid op waarde : aantal')\n",
    "for t in ax2.texts:\n",
    "    t.set_text('{0:,.2f}'.format(float(t.get_text())))\n",
    "plt.tight_layout()\n",
    "plt.show()"
   ]
  },
  {
   "cell_type": "markdown",
   "metadata": {},
   "source": [
    "<a id=\"Ana2\"></a>\n",
    "## Analyse 2: Controle voor dashboards"
   ]
  },
  {
   "cell_type": "code",
   "execution_count": null,
   "metadata": {},
   "outputs": [],
   "source": [
    "# Kopie maken voor verdere bewerking of analyse\n",
    "df_db = df_sa_compact.copy()\n",
    "\n",
    "# Productbladcode en Productbladomschrijving in één veld is handiger in sommige overzichten\n",
    "df_db[\"Productblad_met_omschrijving\"] = df_db[\"Productblad\"]+\" - \"+df_db[\"Productbladomschrijving\"]\n",
    "\n",
    "df_db.info()"
   ]
  },
  {
   "cell_type": "code",
   "execution_count": null,
   "metadata": {},
   "outputs": [],
   "source": [
    "# Vervolgbewerking afhankelijk van extrapolatiemethode\n",
    "if extrapolatiemethode == 1:\n",
    "    # Extrapolatie voorbereiden\n",
    "    print(\"Kosten van het jaar 2020 dienen nog geëxtrapoleerd te worden, vandaar onderstaande controlegetallen.\")\n",
    "\n",
    "    # Controle vooraf van 2 (willekeurige) waarden in twee verschillende boekjaren waaronder 2020\n",
    "    print(\"Cumulatieve werkelijke kosten uit 2018, deze moet gelijk blijven: {0:,.2f}\".format(df_db[\"Cumulatieve werkelijkekosten\"].loc[df_db[\"Boekjaar\"] == \"2018\"].sum()))\n",
    "    print(\"Personeelskosten uit 2018, deze moet gelijk blijven: {0:,.2f}\".format(df_db[\"Personeelskostencumulatief\"].loc[df_db[\"Boekjaar\"] == \"2018\"].sum()))\n",
    "    print(\"Cumulatieve werkelijke kosten uit 2020, deze moet veranderen: {0:,.2f}\".format(df_db[\"Cumulatieve werkelijkekosten\"].loc[df_db[\"Boekjaar\"] == \"2020\"].sum()))\n",
    "    print(\"Personeelskosten uit 2020, deze moet veranderen: {0:,.2f}\".format(df_db[\"Personeelskostencumulatief\"].loc[df_db[\"Boekjaar\"] == \"2020\"].sum()))\n",
    "    \n",
    "    # Alle niet geïndexeerde waarden van 2020 toch extrapoleren. Dit maakt het makkelijk voor het dashboard\n",
    "    df_db.loc[df_db[\"Boekjaar\"] == \"2020\", [\"Cumulatieve werkelijkekosten\", \"Personeelskostencumulatief\", \n",
    "                                            \"Materiaalkostencumulatief\", \"Dienstenkostencumulatief\", \n",
    "                                            \"Intercompanykostencumulatief\", \"Werkelijke urenTotaal\",\n",
    "                                            \"SA: Aantalgereedgemeld(totaal)\"]] *= ((1/aantal_maanden_meegenomen_in_2020)*12)\n",
    "\n",
    "    # Controle achteraf van 2 (willekeurige) waarden in twee verschillende boekjaren waaronder 2020\n",
    "    print(\"\\nControle achteraf, na het extrapoleren:\")\n",
    "    print(\"Cumulatieve werkelijke kosten uit 2018, deze moet gelijk blijven: {0:,.2f}\".format(df_db[\"Cumulatieve werkelijkekosten\"].loc[df_db[\"Boekjaar\"] == \"2018\"].sum()))\n",
    "    print(\"Personeelskosten uit 2018, deze moet gelijk blijven: {0:,.2f}\".format(df_db[\"Personeelskostencumulatief\"].loc[df_db[\"Boekjaar\"] == \"2018\"].sum()))\n",
    "    print(\"Cumulatieve werkelijke kosten uit 2020, deze moet veranderen: {0:,.2f}\".format(df_db[\"Cumulatieve werkelijkekosten\"].loc[df_db[\"Boekjaar\"] == \"2020\"].sum()))\n",
    "    print(\"Personeelskosten uit 2020, deze moet veranderen: {0:,.2f}\".format(df_db[\"Personeelskostencumulatief\"].loc[df_db[\"Boekjaar\"] == \"2020\"].sum()))\n",
    "else:\n",
    "    print(\"Geen extrapolatie op dit punt in de analyse\")"
   ]
  },
  {
   "cell_type": "code",
   "execution_count": null,
   "metadata": {},
   "outputs": [],
   "source": [
    "# Extra kolommen toevoegen voor eenvoudigere berekeningen\n",
    "extra_kolommen_list = [\"TV_Pers_uitvoering\", \"TV_Pers_overig\", \"TV_IND_Pers_uitvoering\", \"TV_IND_Pers_overig\"]\n",
    "for i in extra_kolommen_list:\n",
    "    df_db[i] = 0.0\n",
    "df_db.info()"
   ]
  },
  {
   "cell_type": "code",
   "execution_count": null,
   "metadata": {},
   "outputs": [],
   "source": [
    "# Weergave van eerste 10 regels voordat personeelskosten gesplitst worden\n",
    "display(df_db.head(10))\n",
    "\n",
    "# Splitsen van personeelskosten\n",
    "df_db.loc[df_db[\"TV_werk\"] == \"Uitvoering\", \"TV_Pers_uitvoering\"] = df_db[\"Personeelskostencumulatief\"]\n",
    "df_db.loc[df_db[\"TV_werk\"] != \"Uitvoering\", \"TV_Pers_overig\"] = df_db[\"Personeelskostencumulatief\"]\n",
    "df_db.loc[df_db[\"TV_werk\"] == \"Uitvoering\", \"TV_IND_Pers_uitvoering\"] = df_db[\"IND_personeelskosten\"]\n",
    "df_db.loc[df_db[\"TV_werk\"] != \"Uitvoering\", \"TV_IND_Pers_overig\"] = df_db[\"IND_personeelskosten\"]\n",
    "\n",
    "# Weergave van eerste 10 regels nadat personeelskosten gesplitst zijn\n",
    "display(df_db.head(10))"
   ]
  },
  {
   "cell_type": "markdown",
   "metadata": {},
   "source": [
    "<div class=\"alert alert-block alert-success\">\n",
    "<b>**Export naar Excel met extra velden**</b><br></div>"
   ]
  },
  {
   "cell_type": "code",
   "execution_count": null,
   "metadata": {},
   "outputs": [],
   "source": [
    "# Speciaal op verzoek van Ben een extra export naar Excel\n",
    "# Dit is nu de BRON voor de Dashboards in BOBI en SAC\n",
    "df_db.to_excel(\"Productiviteit_SA_extra_velden.xlsx\", index_label=\"Index\") # Voor snelle verwerking in SAP BusinessObjects\n",
    "df_db_totaal = df_db.copy()                                     # Extra kopie met de juiste informatie"
   ]
  },
  {
   "cell_type": "markdown",
   "metadata": {},
   "source": [
    "<div class=\"alert alert-block alert-success\">\n",
    "<b>Beschrijving van de kolommen van het \"Productiviteit_SA_extra_velden.xlsx\"-bestand:</b><br></div>\n",
    "\n",
    "* <b>Index</b>: Automatische nummering door pandas.\n",
    "* <b>Boekjaar</b>: Boekjaar van de boekingsdocumenten/vastleggingen in de administratie. Voor 2017 t/m 2020 is dit initieel uit SAP BW geëxporteerd. Enige aanpassing is omzetting naar 4 cijfers. Daarna is dit hard toegevoegd bij het inlezen van de HANA-informatie (2021 en verder).  \n",
    "* <b>TV_correctie</b>: Toegevoegd veld met de reden waarom een correctie uitgesloten wordt.  \n",
    "* <b>RB: Opdrachtgever</b>: Naam van de opdrachtgever, zoals uit SAP BW (2017-2020) of HANA (2021-) geëxporteerd.\n",
    "* <b>RB: Business unit</b>: Code van de businessunit, zoals uit SAP BW (2017-2020) of HANA (2021-) geëxporteerd.\n",
    "* <b>TV_regio</b>: Toegevoegd veld met de regio of landelijke unit, afgeleid van de verantwoordelijke werkplek uit SAP BW (2017-2020) of HANA (2021-).\n",
    "* <b>Productblad</b>: Productbladnummer van een gestandaard type werk, zoals uit SAP BW (2017-2020) of HANA (2021-) geëxporteerd.\n",
    "* <b>Productbladomschrijving</b>: Productbladomschrijving behorende bij het productbladnummer en geeft het gestandaardiseerde type werk aan, zoals uit SAP BW (2017-2020) of HANA (2021-) geëxporteerd.\n",
    "* <b>Functie</b>: Meest recente omschrijving functie van de medewerker zoals uit SAP geëxporteerd. Deze omschrijving heeft geen aanvullende letter zoals A, B, C of D, waarmee eventuele zwaartes worden aangegeven.\n",
    "* <b>TV_werk</b>: Toegevoegd veld waarmee we het werk classificeren als 'Uitvoering' of 'Voorbereiding of nazorg', gebaseerd o.a. op routinggroep van de SA-order en functie van de medewerker.\n",
    "* <b>Cumulatieve werkelijkekosten</b>: Alle werkelijke kosten zoals uit SAP BW (2017-2020) of HANA (2021-) geëxporteerd. Hierin zitten dus de hieronder genoemde personeelskosten, materiaalkosten, dienstenkosten en intercompanykosten.\n",
    "* <b>Personeelskostencumulatief</b>: Alle personeelskosten zoals uit SAP BW (2017-2020) of HANA (2021-) geëxporteerd.\n",
    "* <b>Materiaalkostencumulatief</b>: Alle materiaalkosten zoals uit SAP BW (2017-2020) of HANA (2021-) geëxporteerd.\n",
    "* <b>Dienstenkostencumulatief</b>: Alle dienstenkosten zoals uit SAP BW (2017-2020) of HANA (2021-) geëxporteerd.\n",
    "* <b>Intercompanykostencumulatief</b>: Alle intercompanykosten zoals uit SAP BW (2017-2020) of HANA (2021-) geëxporteerd.\n",
    "* <b>Werkelijke urenTotaal</b>: Het aantal geboekte werkelijke uren zoals uit SAP BW (2017-2020) of HANA (2021-) geëxporteerd.\n",
    "* <b>SA: Aantalgereedgemeld(totaal)</b>: Het aantal gereedgemelde SA-orders zoals uit SAP BW (2017-2020) of HANA (2021-) geëxporteerd.\n",
    "* <b>IND_werkelijke_kosten</b>: Geïndexeerde werkelijke kosten (2017-vorige boekjaar) of niet-geïndexeerde werkelijke kosten (huidig boekjaar)\n",
    "* <b>IND_personeelskosten</b>: Geïndexeerde personeelskosten (2017-vorige boekjaar) of niet-geïndexeerde personeelskosten (huidig boekjaar)\n",
    "* <b>IND_materiaalkosten</b>: Geïndexeerde materiaalkosten (2017-vorige boekjaar) of niet-geïndexeerde materiaalkosten (huidig boekjaar)\n",
    "* <b>IND_dienstenkosten</b>: Geïndexeerde dienstenkosten (2017-vorige boekjaar) of niet-geïndexeerde dienstenkosten (huidig boekjaar)\n",
    "* <b>IND_intercompanykosten</b>: Geïndexeerde intercompanykosten (2017-vorige boekjaar) of niet-geïndexeerde intercompanykosten (huidig boekjaar)\n",
    "* <b>IND_werkelijke_uren</b>: Werkelijke uren uit SAP BW (2017-2020) of HANA (2021-)\n",
    "* <b>IND_Aantalgereedgemeld</b>: Aantal gereedgemeld uit SAP BW (2017-2020) of HANA (2021-)\n",
    "* <b>Productblad_met_omschrijving</b>: Bovengenoemd Productblad en Productbladomschrijving met behulp van een min-teken met elkaar verboven in één veld ter gebruik in omschrijvingen en selecties\n",
    "* <b>TV_Pers_uitvoering</b>: Werkelijke personeelskosten (gelijk aan het veld Personeelskostencumulatief), echter alleen toegekend indien het veld TV_werk gelijk is aan 'Uitvoering'. Dit maakt het gebruik in een vervolgapplicatie eenvoudiger\n",
    "* <b>TV_Pers_overig</b>: Werkelijke personeelskosten (gelijk aan het veld Personeelskostencumulatief), echter alleen toegekend indien het veld TV_werk gelijk is aan 'Voorbereiding of nazorg'. Dit maakt het gebruik in een vervolgapplicatie eenvoudiger\n",
    "* <b>TV_IND_Pers_uitvoering</b>: Geïndexeerde personeelskosten (2017-vorige boekjaar) of niet-geïndexeerde personeelskosten (huidig boekjaar) (gelijk aan het veld IND_personeelskosten), echter alleen toegekend indien het veld TV_werk gelijk is aan 'Uitvoering'. Dit maakt het gebruik in een vervolgapplicatie eenvoudiger\n",
    "* <b>TV_IND_Pers_overig</b>: Geïndexeerde personeelskosten (2017-vorige boekjaar) of niet-geïndexeerde personeelskosten (huidig boekjaar) (gelijk aan het veld IND_personeelskosten), echter alleen toegekend indien het veld TV_werk gelijk is aan 'Voorbereiding of nazorg'. Dit maakt het gebruik in een vervolgapplicatie eenvoudiger"
   ]
  },
  {
   "cell_type": "code",
   "execution_count": null,
   "metadata": {},
   "outputs": [],
   "source": [
    "# Verwijderen rijen met correctie-informatie\n",
    "print(\"Shape van dataframe voor verwijderen correctie-informatie:\",df_db.shape)\n",
    "df_db = df_db[df_db[\"TV_correctie\"]==\"\"].copy()\n",
    "print(\"Shape van dataframe na verwijderen correctie-informatie:\",df_db.shape)\n",
    "# Extra kopie t.b.v. filteringen op productblad of regio\n",
    "df_db_kopie = df_db.copy()             # Let op: In deze kopie zijn de correcties reeds afwezig!"
   ]
  },
  {
   "cell_type": "code",
   "execution_count": null,
   "metadata": {},
   "outputs": [],
   "source": [
    "print(\"Lijst van\",df_db[\"Productblad\"].nunique(),\"productbladnummers:\\n\",sorted(list(df_db[\"Productblad\"].unique())))\n",
    "print(\"Lijst van\",df_db[\"TV_regio\"].nunique(),\"regio's:\\n\",sorted(list(df_db[\"TV_regio\"].unique())))"
   ]
  },
  {
   "cell_type": "markdown",
   "metadata": {},
   "source": [
    "<div class=\"alert alert-block alert-success\">\n",
    "<b>**Filtering voor Productblad en/of regio**</b><br></div>"
   ]
  },
  {
   "cell_type": "code",
   "execution_count": null,
   "metadata": {},
   "outputs": [],
   "source": [
    "# Vul hier eventueel productbladnummer en/of regio in\n",
    "Selectie_Productblad = \"\"\n",
    "Selectie_Regio = \"\""
   ]
  },
  {
   "cell_type": "code",
   "execution_count": null,
   "metadata": {},
   "outputs": [],
   "source": [
    "# Haal de extra kopie op\n",
    "df_db               = df_db_kopie.copy()\n",
    "# Voer dit ook uit voor de versie waarin de correcties nog aanwezig zijn\n",
    "df_db_met_correctie = df_db_totaal.copy()\n",
    "\n",
    "# Kijk of de selectievelden gevuld zijn en indien ja, selecteer hier dan ook op!\n",
    "if Selectie_Productblad != \"\":\n",
    "    # Selectie_Productblad is gevuld\n",
    "    print(\"Shape van dataframe voor selectie op productblad\",Selectie_Productblad,\":\",df_db.shape, df_db_met_correctie.shape)\n",
    "    df_db = df_db[df_db[\"Productblad\"] == Selectie_Productblad].copy()\n",
    "    df_db_met_correctie = df_db_met_correctie[df_db_met_correctie[\"Productblad\"] == Selectie_Productblad].copy()\n",
    "    print(\"Shape van dataframe na selectie op productblad\",Selectie_Productblad,\":\",df_db.shape, df_db_met_correctie.shape)\n",
    "if Selectie_Regio != \"\":\n",
    "    print(\"Shape van dataframe voor selectie op regio\", Selectie_Regio, \":\",df_db.shape, df_db_met_correctie.shape)\n",
    "    df_db = df_db[df_db[\"TV_regio\"] == Selectie_Regio].copy()\n",
    "    df_db_met_correctie = df_db_met_correctie[df_db_met_correctie[\"TV_regio\"] == Selectie_Regio].copy()\n",
    "    print(\"Shape van dataframe na selectie op regio\", Selectie_Regio, \":\",df_db.shape, df_db_met_correctie.shape)\n",
    "\n",
    "print(\"Aantal productbladnummers:\\n\", df_db[\"Productblad\"].nunique(), df_db_met_correctie[\"Productblad\"].nunique())\n",
    "print(\"Aantal regio's:\\n\", df_db[\"TV_regio\"].nunique(), df_db_met_correctie[\"TV_regio\"].nunique())\n",
    "print(\"Lijst van regio's:\\n\", df_db[\"TV_regio\"].unique())"
   ]
  },
  {
   "cell_type": "code",
   "execution_count": null,
   "metadata": {},
   "outputs": [],
   "source": [
    "df_db_pb = df_db.groupby(by=['Productblad','Productblad_met_omschrijving','Boekjaar'],as_index=False).sum()\n",
    "display(df_db_pb.head())\n",
    "print(df_db_pb.shape)"
   ]
  },
  {
   "cell_type": "code",
   "execution_count": null,
   "metadata": {},
   "outputs": [],
   "source": [
    "# Bepaal populatie aan de hand van het feit of er aantal gereedgemeld voorkomen voor elk jaar\n",
    "# Indien ja, productblad blijft in populatie\n",
    "# Indien nee, productblad verdwijnt uit populatie\n",
    "df_db_pb_populatie = df_db_pb.pivot(index=\"Productblad\", columns=\"Boekjaar\", values=\"IND_Aantalgereedgemeld\").reset_index()\n",
    "df_db_pb_populatie.columns.name=\"\"\n",
    "df_db_pb_populatie"
   ]
  },
  {
   "cell_type": "code",
   "execution_count": null,
   "metadata": {},
   "outputs": [],
   "source": [
    "# Verander alle nan-waarden in 0 (nan=\"not a number\")\n",
    "df_db_pb_populatie.fillna(value=0, inplace=True)\n",
    "df_db_pb_populatie"
   ]
  },
  {
   "cell_type": "code",
   "execution_count": null,
   "metadata": {},
   "outputs": [],
   "source": [
    "# Maak een lijst van alle productbladen waarvan elk jaar een aantal gereed heeft wat ongelijk 0 is.\n",
    "pb_list = df_db_pb_populatie.loc[(df_db_pb_populatie!=0).all(axis=1)][\"Productblad\"].to_list()\n",
    "print(\"Er zijn nog\",len(pb_list), \"productbladen over, waaronder: \", list(pb_list)[:5],\"...\")"
   ]
  },
  {
   "cell_type": "code",
   "execution_count": null,
   "metadata": {},
   "outputs": [],
   "source": [
    "# Filter het restant aan productbladen waar we mee door willen gaan\n",
    "df_db_pb_restant = df_db_pb.loc[(df_db_pb[\"Productblad\"].isin(pb_list))].copy()\n",
    "print(\"Shape van het nog niet op het productblad gefilterde dataframe:\",df_db_pb.shape)\n",
    "print(\"Shape van het wel op het productblad gefilterde dataframe:\",df_db_pb_restant.shape)\n",
    "print(\"Aantal productbladen in de lijst * 4:\",len(pb_list)*4)"
   ]
  },
  {
   "cell_type": "code",
   "execution_count": null,
   "metadata": {},
   "outputs": [],
   "source": [
    "# Indruk van het restant aan productbladen\n",
    "df_db_pb_restant"
   ]
  },
  {
   "cell_type": "code",
   "execution_count": null,
   "metadata": {},
   "outputs": [],
   "source": [
    "# Bereken de gemiddelde P, M en D-kosten\n",
    "df_db_pb_restant[\"Gem_P_kosten_uitvoering\"] = df_db_pb_restant[\"TV_Pers_uitvoering\"] / df_db_pb_restant[\"SA: Aantalgereedgemeld(totaal)\"]\n",
    "df_db_pb_restant[\"Gem_P_kosten_voorbereiding_nazorg\"] = df_db_pb_restant[\"TV_Pers_overig\"] / df_db_pb_restant[\"SA: Aantalgereedgemeld(totaal)\"]\n",
    "df_db_pb_restant[\"Gem_M_kosten\"] = df_db_pb_restant[\"Materiaalkostencumulatief\"] / df_db_pb_restant[\"SA: Aantalgereedgemeld(totaal)\"]\n",
    "df_db_pb_restant[\"Gem_D_kosten\"] = df_db_pb_restant[\"Dienstenkostencumulatief\"] / df_db_pb_restant[\"SA: Aantalgereedgemeld(totaal)\"]\n",
    "\n",
    "df_db_pb_restant[\"Gem_IND_P_kosten_uitvoering\"] = df_db_pb_restant[\"TV_IND_Pers_uitvoering\"] / df_db_pb_restant[\"IND_Aantalgereedgemeld\"]\n",
    "df_db_pb_restant[\"Gem_IND_P_kosten_voorbereiding_nazorg\"] = df_db_pb_restant[\"TV_IND_Pers_overig\"] / df_db_pb_restant[\"IND_Aantalgereedgemeld\"]\n",
    "df_db_pb_restant[\"Gem_IND_M_kosten\"] = df_db_pb_restant[\"IND_materiaalkosten\"] / df_db_pb_restant[\"IND_Aantalgereedgemeld\"]\n",
    "df_db_pb_restant[\"Gem_IND_D_kosten\"] = df_db_pb_restant[\"IND_dienstenkosten\"] / df_db_pb_restant[\"IND_Aantalgereedgemeld\"]\n"
   ]
  },
  {
   "cell_type": "code",
   "execution_count": null,
   "metadata": {
    "scrolled": false
   },
   "outputs": [],
   "source": [
    "# Nu is het dataframe voorzien van de gemiddelde P, M en D-kosten (laatste kolommen)\n",
    "df_db_pb_restant"
   ]
  },
  {
   "cell_type": "code",
   "execution_count": null,
   "metadata": {},
   "outputs": [],
   "source": [
    "# Haal het hoogste boekjaar op\n",
    "hoogste_boekjaar = df_db_pb_restant[\"Boekjaar\"].max()\n",
    "print(\"Het hoogste boekjaar is:\",hoogste_boekjaar, \"met als variabletype\",(type(hoogste_boekjaar)))"
   ]
  },
  {
   "cell_type": "code",
   "execution_count": null,
   "metadata": {
    "scrolled": true
   },
   "outputs": [],
   "source": [
    "# Filter alleen op de regels met het hoogste boekjaar\n",
    "df_hoogste_boekjaar = df_db_pb_restant.loc[(df_db_pb_restant[\"Boekjaar\"]==hoogste_boekjaar)]\n",
    "display(df_hoogste_boekjaar.head())\n",
    "print(\"Shape van dit dataframe:\", df_hoogste_boekjaar.shape)"
   ]
  },
  {
   "cell_type": "code",
   "execution_count": null,
   "metadata": {},
   "outputs": [],
   "source": [
    "# Neem nu alleen de hoogst nodige kolommen\n",
    "df_hoogste_boekjaar = df_hoogste_boekjaar[['Productblad', 'TV_Pers_uitvoering', 'TV_Pers_overig',\n",
    "                                           'Materiaalkostencumulatief', 'Dienstenkostencumulatief',\n",
    "                                           'SA: Aantalgereedgemeld(totaal)', 'TV_IND_Pers_uitvoering', \n",
    "                                           'TV_IND_Pers_overig', 'IND_materiaalkosten', 'IND_dienstenkosten',\n",
    "                                           'IND_Aantalgereedgemeld', 'Gem_P_kosten_uitvoering', \n",
    "                                           'Gem_P_kosten_voorbereiding_nazorg', 'Gem_M_kosten', 'Gem_D_kosten',\n",
    "                                           'Gem_IND_P_kosten_uitvoering', 'Gem_IND_P_kosten_voorbereiding_nazorg',\n",
    "                                           'Gem_IND_M_kosten', 'Gem_IND_D_kosten']]\n",
    "# Pas de omschrijving van deze kolommen aan: voeg de letters HB toe (Hoogste Boekjaar) \n",
    "df_hoogste_boekjaar.columns = [x+\"_HB\" for x in df_hoogste_boekjaar.columns]\n",
    "display(df_hoogste_boekjaar.head())"
   ]
  },
  {
   "cell_type": "code",
   "execution_count": null,
   "metadata": {},
   "outputs": [],
   "source": [
    "# Vul de waardevelden van het hoogste boekjaar toe aan het dataframe waarin ook andere boekjaren staan (JOIN)\n",
    "df_db_pb_restant = df_db_pb_restant.merge(df_hoogste_boekjaar, how='inner', left_on=\"Productblad\", right_on=\"Productblad_HB\")\n",
    "display(df_db_pb_restant.loc[(df_db_pb_restant[\"Productblad\"]==\"143011\")])"
   ]
  },
  {
   "cell_type": "code",
   "execution_count": null,
   "metadata": {},
   "outputs": [],
   "source": [
    "# Berekeningen\n",
    "df_db_pb_restant[\"GK_P_uitvoerend\"]  = ( df_db_pb_restant['TV_IND_Pers_uitvoering_HB'] - \n",
    "                                         ( df_db_pb_restant['Gem_IND_P_kosten_uitvoering_HB'] - df_db_pb_restant['Gem_IND_P_kosten_uitvoering']) \n",
    "                                         * df_db_pb_restant['IND_Aantalgereedgemeld_HB'] )\n",
    "df_db_pb_restant[\"GK_P_voor_nazorg\"] = ( df_db_pb_restant['TV_IND_Pers_overig_HB'] - \n",
    "                                         ( df_db_pb_restant['Gem_IND_P_kosten_voorbereiding_nazorg_HB'] - df_db_pb_restant['Gem_IND_P_kosten_voorbereiding_nazorg']) \n",
    "                                         * df_db_pb_restant['IND_Aantalgereedgemeld_HB'] )\n",
    "df_db_pb_restant[\"GK_Materiaal\"]     = ( df_db_pb_restant['IND_materiaalkosten_HB'] - \n",
    "                                         ( df_db_pb_restant['Gem_IND_M_kosten_HB'] - df_db_pb_restant['Gem_IND_M_kosten'])\n",
    "                                         * df_db_pb_restant['IND_Aantalgereedgemeld_HB'] )\n",
    "df_db_pb_restant[\"GK_Diensten\"]      = ( df_db_pb_restant['IND_dienstenkosten_HB'] - \n",
    "                                         ( df_db_pb_restant['Gem_IND_D_kosten_HB'] - df_db_pb_restant['Gem_IND_D_kosten'])\n",
    "                                         * df_db_pb_restant['IND_Aantalgereedgemeld_HB'] )\n",
    "    \n",
    "df_db_pb_restant[\"Kvc_P_uitvoerend\"]  = ( df_db_pb_restant['TV_Pers_uitvoering_HB'] - \n",
    "                                          ( df_db_pb_restant['Gem_P_kosten_uitvoering_HB'] - df_db_pb_restant['Gem_P_kosten_uitvoering']) \n",
    "                                          * df_db_pb_restant['IND_Aantalgereedgemeld_HB'] )\n",
    "df_db_pb_restant[\"Kvc_P_voor_nazorg\"] = ( df_db_pb_restant['TV_Pers_overig_HB'] - \n",
    "                                          ( df_db_pb_restant['Gem_P_kosten_voorbereiding_nazorg_HB'] - df_db_pb_restant['Gem_P_kosten_voorbereiding_nazorg']) \n",
    "                                          * df_db_pb_restant['IND_Aantalgereedgemeld_HB'] )\n",
    "df_db_pb_restant[\"Kvc_Materiaal\"]     = ( df_db_pb_restant['Materiaalkostencumulatief_HB'] - \n",
    "                                          ( df_db_pb_restant['Gem_M_kosten_HB'] - df_db_pb_restant['Gem_M_kosten'])\n",
    "                                          * df_db_pb_restant['IND_Aantalgereedgemeld_HB'] )\n",
    "df_db_pb_restant[\"Kvc_Diensten\"]      = ( df_db_pb_restant['Dienstenkostencumulatief_HB'] - \n",
    "                                          ( df_db_pb_restant['Gem_D_kosten_HB'] - df_db_pb_restant['Gem_D_kosten'])\n",
    "                                          * df_db_pb_restant['IND_Aantalgereedgemeld_HB'] )\n",
    "        \n",
    "df_db_pb_restant[\"C_P_uitvoerend\"]    = df_db_pb_restant[\"GK_P_uitvoerend\"]  - df_db_pb_restant[\"Kvc_P_uitvoerend\"]\n",
    "df_db_pb_restant[\"C_P_voor_nazorg\"]   = df_db_pb_restant[\"GK_P_voor_nazorg\"] - df_db_pb_restant[\"Kvc_P_voor_nazorg\"]\n",
    "df_db_pb_restant[\"C_Materiaal\"]       = df_db_pb_restant[\"GK_Materiaal\"]     - df_db_pb_restant[\"Kvc_Materiaal\"]\n",
    "df_db_pb_restant[\"C_Diensten\"]        = df_db_pb_restant[\"GK_Diensten\"]      - df_db_pb_restant[\"Kvc_Diensten\"]\n"
   ]
  },
  {
   "cell_type": "code",
   "execution_count": null,
   "metadata": {
    "scrolled": true
   },
   "outputs": [],
   "source": [
    "# Test om te vergelijken met een handmatig uitgewerkt overzicht voor productblad 143011\n",
    "display(df_db_pb_restant.loc[(df_db_pb_restant[\"Productblad\"]==\"143011\")])"
   ]
  },
  {
   "cell_type": "code",
   "execution_count": null,
   "metadata": {},
   "outputs": [],
   "source": [
    "# Totalenoverzicht\n",
    "print(\"Totalenoverzicht per boekjaar:\")\n",
    "df_db_pb_restant.groupby(by=\"Boekjaar\")[['GK_P_uitvoerend', 'GK_P_voor_nazorg', 'GK_Materiaal', 'GK_Diensten',\n",
    "                              'C_P_uitvoerend', 'C_P_voor_nazorg', 'C_Materiaal', 'C_Diensten',\n",
    "                              'Kvc_P_uitvoerend', 'Kvc_P_voor_nazorg', 'Kvc_Materiaal', 'Kvc_Diensten']].sum().T\n",
    "                       "
   ]
  },
  {
   "cell_type": "code",
   "execution_count": null,
   "metadata": {},
   "outputs": [],
   "source": [
    "# Export van bovenstaande totalenoverzicht naar Excel\n",
    "# test = df_db_pb_restant.groupby(by=\"Boekjaar\")[['GC_P_uitvoerend', 'GK_P_voor_nazorg', 'GK_Materiaal', 'GK_Diensten',\n",
    "#                               'C_P_uitvoerend', 'C_P_voor_nazorg', 'C_Materiaal', 'C_Diensten',\n",
    "#                               'Kvc_P_uitvoerend', 'Kvc_P_voor_nazorg', 'Kvc_Materiaal', 'Kvc_Diensten']].sum().T\n",
    "                       \n",
    "# test.to_excel(\"PWC_SA_totalen.xlsx\", index_label=\"Index\")"
   ]
  },
  {
   "cell_type": "code",
   "execution_count": null,
   "metadata": {},
   "outputs": [],
   "source": [
    "# Overzicht per productblad en boekjaar\n",
    "df_db_pb_restant.groupby(by=[\"Productblad\",\"Boekjaar\"])[['GK_P_uitvoerend', 'GK_P_voor_nazorg', 'GK_Materiaal', 'GK_Diensten',\n",
    "                              'C_P_uitvoerend', 'C_P_voor_nazorg', 'C_Materiaal', 'C_Diensten',\n",
    "                              'Kvc_P_uitvoerend', 'Kvc_P_voor_nazorg', 'Kvc_Materiaal', 'Kvc_Diensten']].sum().T\n",
    "                       "
   ]
  },
  {
   "cell_type": "code",
   "execution_count": null,
   "metadata": {},
   "outputs": [],
   "source": [
    "# Export van bovenstaande totalenoverzicht per productblad naar Excel\n",
    "# test = df_db_pb_restant.groupby(by=[\"Productblad\",\"Boekjaar\"])[['GC_P_uitvoerend', 'GK_P_voor_nazorg', 'GK_Materiaal', 'GK_Diensten',\n",
    "#                               'C_P_uitvoerend', 'C_P_voor_nazorg', 'C_Materiaal', 'C_Diensten',\n",
    "#                               'Kvc_P_uitvoerend', 'Kvc_P_voor_nazorg', 'Kvc_Materiaal', 'Kvc_Diensten']].sum().T\n",
    "\n",
    "#test.to_excel(\"PWC_SA_totalen_per_productblad.xlsx\", index_label=\"Index\")"
   ]
  },
  {
   "cell_type": "code",
   "execution_count": null,
   "metadata": {},
   "outputs": [],
   "source": [
    "# Totalenoverzicht\n",
    "print(\"Totalenoverzicht van de gecorrigeerde kosten:\")\n",
    "display(df_db_pb_restant.groupby(by=\"Boekjaar\")[['GK_P_uitvoerend', 'GK_P_voor_nazorg', 'GK_Materiaal', 'GK_Diensten'\n",
    "                              ]].sum().T)\n",
    "print(\"Met totalen:\")\n",
    "display(df_db_pb_restant.groupby(by=\"Boekjaar\")[['GK_P_uitvoerend', 'GK_P_voor_nazorg', 'GK_Materiaal', 'GK_Diensten'\n",
    "                              ]].sum().T.sum().to_frame(name=\"Totaal\").T)"
   ]
  },
  {
   "cell_type": "code",
   "execution_count": null,
   "metadata": {},
   "outputs": [],
   "source": [
    "print(\"Herkenbaarheid van de cijfers:\")\n",
    "# Opbouwen dataframe voor output\n",
    "# Kosten\n",
    "df_output = df_db_met_correctie.groupby(by=\"Boekjaar\")[[\"Cumulatieve werkelijkekosten\"]].sum().T.sum().to_frame(name=\"Totale kosten (EUR)\").T\n",
    "df_output = pd.concat([df_output,df_db_met_correctie.loc[df_db_met_correctie[\"TV_correctie\"] != \"\"].groupby(by=\"Boekjaar\")[[\"Cumulatieve werkelijkekosten\"]].sum().T.sum().to_frame(name=\"Totale kosten niet toe te kennen aan een productblad (EUR)\").T]) \n",
    "df_output = pd.concat([df_output,df_db_met_correctie.loc[df_db_met_correctie[\"TV_correctie\"] == \"\"].groupby(by=\"Boekjaar\")[[\"Cumulatieve werkelijkekosten\"]].sum().T.sum().to_frame(name=\"Totale kosten wel toe te kennen aan een productblad (EUR)\").T]) \n",
    "\n",
    "# lege regel\n",
    "df_output = pd.concat([df_output,df_db_met_correctie.loc[df_db_met_correctie[\"TV_correctie\"] == \"AAA\"].groupby(by=\"Boekjaar\")[[\"Cumulatieve werkelijkekosten\"]].sum().T.sum().to_frame(name=\" \").T]) \n",
    "\n",
    "# Aantal gereedgemeld\n",
    "df_output = pd.concat([df_output,df_db_met_correctie.loc[df_db_met_correctie[\"TV_correctie\"] == \"\"].groupby(by=\"Boekjaar\")[['SA: Aantalgereedgemeld(totaal)']].sum().T.sum().to_frame(name=\"Totale aantal productbladen gereedgemeld (aantal)\").T]) \n",
    "\n",
    "# lege regel\n",
    "df_output = pd.concat([df_output,df_db_met_correctie.loc[df_db_met_correctie[\"TV_correctie\"] == \"AAA\"].groupby(by=\"Boekjaar\")[[\"Cumulatieve werkelijkekosten\"]].sum().T.sum().to_frame(name=\" \").T]) \n",
    "\n",
    "# Kosten van voor elk jaar aanwezige productbladen (XXXX)\n",
    "df_output = pd.concat([df_output,df_db_met_correctie.loc[(df_db_met_correctie[\"TV_correctie\"] == \"\") & (df_db_met_correctie[\"Productblad\"].isin(pb_list))].groupby(by=\"Boekjaar\")[[\"Cumulatieve werkelijkekosten\"]].sum().T.sum().to_frame(name=\"In scope kosten (Productbladen X-X-X-X) (EUR)\").T]) \n",
    "\n",
    "# Aantal gereedgemeld van voor elk jaar aanwezige productbladen (XXXX)\n",
    "df_output = pd.concat([df_output,df_db_met_correctie.loc[(df_db_met_correctie[\"TV_correctie\"] == \"\") & (df_db_met_correctie[\"Productblad\"].isin(pb_list))].groupby(by=\"Boekjaar\")[['SA: Aantalgereedgemeld(totaal)']].sum().T.sum().to_frame(name=\"In scope aantal productbladen (Productbladen X-X-X-X) (aantal)\").T]) \n",
    "\n",
    "# Assen verwisselen\n",
    "df_output = df_output.T.copy()\n",
    "\n",
    "# Percentages toekennen\n",
    "df_output[\"% in scope kosten (%)\"] = df_output['In scope kosten (Productbladen X-X-X-X) (EUR)'] / df_output['Totale kosten wel toe te kennen aan een productblad (EUR)'] * 100\n",
    "df_output[\"% in scope aantal productbladen (%)\"] = df_output['In scope aantal productbladen (Productbladen X-X-X-X) (aantal)'] / df_output['Totale aantal productbladen gereedgemeld (aantal)'] * 100\n",
    "\n",
    "display(df_output.T.fillna(\"\"))"
   ]
  },
  {
   "cell_type": "markdown",
   "metadata": {},
   "source": [
    "## KPI Productiviteit SA (2021 en verder)"
   ]
  },
  {
   "cell_type": "code",
   "execution_count": null,
   "metadata": {},
   "outputs": [],
   "source": [
    "# We laten het nieuwe dataframe onbewerkt door er een kopie van te maken\n",
    "df_kpi = df_sa_regio.copy()"
   ]
  },
  {
   "cell_type": "code",
   "execution_count": null,
   "metadata": {},
   "outputs": [],
   "source": [
    "# We doen onderstaande alleen voor de df_kpi-dataframe, omdat die verderop gebruikt wordt in de exports die naar de\n",
    "# rapportagetools gaan\n",
    "\n",
    "# Maak een dataframe van alleen de productbladnummers en hun omschrijvingen\n",
    "print(\"Omvang van df_kpi:\", df_kpi.shape)\n",
    "df_productbladomschrijving = df_kpi[[\"Productblad\",\"Productbladomschrijving\"]]\n",
    "print(\"Omvang van df_productbladomschrijving:\", df_productbladomschrijving.shape)\n",
    "\n",
    "# Weergave van enkele regels\n",
    "display(df_productbladomschrijving.head())\n",
    "\n",
    "# Ontdubbel waarbij de laatste (meest recente) omschrijving wordt bewaard (keep = \"last\")\n",
    "print(\"Nu ontdubbelen!\")\n",
    "df_productbladomschrijving = df_productbladomschrijving.drop_duplicates(subset=['Productblad'], keep='last', inplace=False, ignore_index=True).copy()\n",
    "print(\"Omvang van df_productbladomschrijving na ontdubbeling:\", df_productbladomschrijving.shape)\n",
    "display(df_productbladomschrijving.head())\n",
    "\n",
    "# Productbladomschrijvingen van dataframe naar een dictionary voor eenvoudiger zoeken\n",
    "dict_productbladomschrijving = df_productbladomschrijving.set_index('Productblad').to_dict(\"dict\")\n",
    "dict_productbladomschrijving = dict_productbladomschrijving[\"Productbladomschrijving\"]\n",
    "print(\"Aantal productbladregels in dictionary:\",len(dict_productbladomschrijving))\n",
    "\n",
    "print(\"Voorbeeld uit dictionary voor Productblad 142104:\",dict_productbladomschrijving[\"142104\"])\n",
    "\n",
    "# Verwerken omschrijving in dataframe df_sa_compact\n",
    "# Vervang eerst de productbladomschrijving door het productbladnummer\n",
    "df_kpi[\"Productbladomschrijving\"] = df_kpi[\"Productblad\"]\n",
    "# Gebruik daarna de dictionary om het productbladnummer te vervangen door de nieuwe omschrijving\n",
    "df_kpi[\"Productbladomschrijving\"].replace(to_replace=dict_productbladomschrijving, inplace=True)\n",
    "display(df_kpi.head())\n",
    "print(\"Omvang van df_kpi:\", df_kpi.shape)\n",
    "\n",
    "print(\"De productbladomschrijvingen zijn nu rechtgetrokken\")"
   ]
  },
  {
   "cell_type": "code",
   "execution_count": null,
   "metadata": {},
   "outputs": [],
   "source": [
    "# Op welke velden willen we opbossen\n",
    "#groupby_kolommen = ['Boekjaar', 'TV_correctie', 'RB: Opdrachtgever', 'RB: Business unit', 'TV_regio',\n",
    "#       'Productblad', 'Productbladomschrijving','Functie', 'TV_werk']\n",
    "\n",
    "# Even zonder functie van de medewerker en direct/indirect (2021)\n",
    "groupby_kolommen = ['Boekjaar', 'TV_correctie', 'RB: Opdrachtgever', 'RB: Business unit', 'TV_regio',\n",
    "       'Productblad', 'Productbladomschrijving']\n",
    "\n",
    "# Welke waardevelden nemen we mee\n",
    "groupby_waardevelden = ['Cumulatieve werkelijkekosten', 'Personeelskostencumulatief', 'Materiaalkostencumulatief',\n",
    "                        'Dienstenkostencumulatief', 'Intercompanykostencumulatief', 'Werkelijke urenTotaal',\n",
    "                        'SA: Aantalgereedgemeld(totaal)',\n",
    "                        \"IND_werkelijke_kosten\", \"IND_personeelskosten\", \"IND_materiaalkosten\",\n",
    "                        \"IND_dienstenkosten\", \"IND_intercompanykosten\", \"IND_werkelijke_uren\",\n",
    "                        \"IND_Aantalgereedgemeld\"]\n",
    "\n",
    "print(\"Benodigde velden zijn gedefinieerd voor verdere opbossing.\")"
   ]
  },
  {
   "cell_type": "code",
   "execution_count": null,
   "metadata": {},
   "outputs": [],
   "source": [
    "# Voor een juiste cumulatie in de groupby is het nodig om in de groupby-kolommen de niet-aanwezige waarden om te zetten naar\n",
    "# een lege waarde\n",
    "for i in groupby_kolommen:\n",
    "    df_kpi[i] = df_kpi[i].replace(np.nan, '', regex=True)\n",
    "print(\"Omvang van het oorspronkelijke dataframe:\",df_sa_regio.shape)\n",
    "print(\"Omvang van het kopie dataframe met lege waarden ipv niet-aanwezige waarden:\", df_kpi.shape)\n",
    "\n",
    "# Om verder te gaan maken we het dataframe zo compact mogelijk.\n",
    "df_kpi_compact = df_kpi.groupby(groupby_kolommen)[groupby_waardevelden].sum().reset_index()\n",
    "print(\"Omvang van het compacte dataframe:\",df_kpi_compact.shape)"
   ]
  },
  {
   "cell_type": "code",
   "execution_count": null,
   "metadata": {},
   "outputs": [],
   "source": [
    "df_kpi_compact.to_excel(\"Productiviteit_SA_extra_velden_KPI2021.xlsx\", index_label=\"Index\") # Voor snelle verwerking in SAP BusinessObjects"
   ]
  },
  {
   "cell_type": "code",
   "execution_count": null,
   "metadata": {},
   "outputs": [],
   "source": [
    "df_kpi.columns"
   ]
  },
  {
   "cell_type": "code",
   "execution_count": null,
   "metadata": {},
   "outputs": [],
   "source": [
    "df_kpi_compact.columns"
   ]
  },
  {
   "cell_type": "code",
   "execution_count": null,
   "metadata": {},
   "outputs": [],
   "source": [
    "# Aggregeren in twee stappen\n",
    "# 1e stap: Correcties niet meenemen\n",
    "df_kpi_compact_agg = df_kpi_compact[df_kpi_compact[\"TV_correctie\"]==\"\"].copy()\n",
    "\n",
    "print(\"Zijn er nog correcties aanwezig?:\", df_kpi_compact_agg[\"TV_correctie\"].unique())\n",
    "assert df_kpi_compact_agg[\"TV_correctie\"].unique() == [\"\"] , \"Er zijn nog ongewenste correcties aanwezig\"\n",
    "\n",
    "# 2e stap: De echte aggregatie op boekjaar en productblad\n",
    "groupby_kolommen = ['Boekjaar', 'Productblad']\n",
    "\n",
    "# Welke waardevelden nemen we mee\n",
    "groupby_waardevelden = ['Cumulatieve werkelijkekosten', 'Personeelskostencumulatief', 'Materiaalkostencumulatief',\n",
    "                        'Dienstenkostencumulatief', 'Intercompanykostencumulatief', 'Werkelijke urenTotaal',\n",
    "                        'SA: Aantalgereedgemeld(totaal)',\n",
    "                        \"IND_werkelijke_kosten\", \"IND_personeelskosten\", \"IND_materiaalkosten\",\n",
    "                        \"IND_dienstenkosten\", \"IND_intercompanykosten\", \"IND_werkelijke_uren\",\n",
    "                        \"IND_Aantalgereedgemeld\"]\n",
    "\n",
    "print(\"Benodigde velden zijn gedefinieerd voor verdere opbossing.\")\n",
    "# Voor een juiste cumulatie in de groupby is het nodig om in de groupby-kolommen de niet-aanwezige waarden om te zetten naar\n",
    "# een lege waarde\n",
    "for i in groupby_kolommen:\n",
    "    df_kpi_compact_agg[i] = df_kpi_compact_agg[i].replace(np.nan, '', regex=True)\n",
    "print(\"Omvang van het dataframe voor aggregatie:\",df_kpi_compact_agg.shape)\n",
    "\n",
    "# Om verder te gaan maken we het dataframe zo compact mogelijk.\n",
    "df_kpi_compact_agg = df_kpi_compact_agg.groupby(groupby_kolommen)[groupby_waardevelden].sum().reset_index()\n",
    "print(\"Omvang van het dataframe na aggregatie:\",df_kpi_compact_agg.shape)"
   ]
  },
  {
   "cell_type": "code",
   "execution_count": null,
   "metadata": {},
   "outputs": [],
   "source": [
    "df_kpi_compact_agg.head()"
   ]
  },
  {
   "cell_type": "code",
   "execution_count": null,
   "metadata": {},
   "outputs": [],
   "source": [
    "# Extra kolommen toevoegen voor het vorige jaar\n",
    "PY_kolommen = ['PY_IND_werkelijke_kosten', 'PY_IND_personeelskosten', 'PY_IND_materiaalkosten', 'PY_IND_dienstenkosten',\n",
    "               'PY_IND_intercompanykosten', 'PY_IND_werkelijke_uren']\n",
    "for kolom in PY_kolommen:\n",
    "    df_kpi_compact[kolom]=np.nan"
   ]
  },
  {
   "cell_type": "code",
   "execution_count": null,
   "metadata": {},
   "outputs": [],
   "source": [
    "def voeg_gemiddelde_vorig_jaar_toe(row):\n",
    "    \"\"\"Voegt aan het df_kpi_compact-dataframe de waarden van vorig jaar toe op basis van het gemiddelde van vorig jaar\n",
    "       vermenigvuldigd met de aantallen van dit jaar\"\"\"\n",
    "    temp = df_kpi_compact_agg[(df_kpi_compact_agg[\"Boekjaar\"] == str(int(row[\"Boekjaar\"])-1)) & \n",
    "                              (df_kpi_compact_agg[\"Productblad\"] == row[\"Productblad\"])].copy()\n",
    "    # Vervolgbewerking afhankelijk van het vinden van het productblad in het vorig jaar\n",
    "    if temp.shape[0] == 0:\n",
    "        # Productblad in vorig jaar niet gevonden, neem 1:1 dit jaar over\n",
    "        for kolom in PY_kolommen:\n",
    "            row[kolom] = row[kolom[3:]]\n",
    "            #print(row[\"Boekjaar\"],row[\"Productblad\"])\n",
    "            #display(row.to_frame())\n",
    "    else:\n",
    "        # Productblad in vorig jaar wel gevonden!\n",
    "        for kolom in PY_kolommen:\n",
    "            if (temp.iloc[0][\"IND_Aantalgereedgemeld\"] != 0) and (row[\"IND_Aantalgereedgemeld\"] != 0):\n",
    "                row[kolom] = temp.iloc[0][kolom[3:]] / float(temp.iloc[0][\"IND_Aantalgereedgemeld\"]) * row[\"IND_Aantalgereedgemeld\"]\n",
    "            else:\n",
    "                row[kolom] = row[kolom[3:]]\n",
    "    return row"
   ]
  },
  {
   "cell_type": "code",
   "execution_count": null,
   "metadata": {},
   "outputs": [],
   "source": [
    "# Filter op alle boekjaren muv de oudste\n",
    "boekjaarfilter = sorted(df_kpi_compact_agg[\"Boekjaar\"].unique())[1:]\n",
    "print(\"Boekjaarfilter:\", boekjaarfilter)\n",
    "df_kpi_compact_temp = df_kpi_compact.loc[(df_kpi_compact[\"Boekjaar\"].isin(boekjaarfilter)) & (df_kpi_compact[\"TV_correctie\"] == \"\")].copy()\n",
    "df_kpi_compact2 = df_kpi_compact_temp.apply(func=voeg_gemiddelde_vorig_jaar_toe, axis=1)                                    "
   ]
  },
  {
   "cell_type": "code",
   "execution_count": null,
   "metadata": {},
   "outputs": [],
   "source": [
    "df_kpi_compact2.to_excel(\"KPI Productiviteit SA.xlsx\")"
   ]
  },
  {
   "cell_type": "code",
   "execution_count": null,
   "metadata": {},
   "outputs": [],
   "source": []
  }
 ],
 "metadata": {
  "kernelspec": {
   "display_name": "Python 3",
   "language": "python",
   "name": "python3"
  },
  "language_info": {
   "codemirror_mode": {
    "name": "ipython",
    "version": 3
   },
   "file_extension": ".py",
   "mimetype": "text/x-python",
   "name": "python",
   "nbconvert_exporter": "python",
   "pygments_lexer": "ipython3",
   "version": "3.7.7"
  }
 },
 "nbformat": 4,
 "nbformat_minor": 4
}
